{
 "cells": [
  {
   "cell_type": "markdown",
   "id": "bc095fb6",
   "metadata": {},
   "source": [
    "## Lab infection map\n",
    "This notebook plots the locations of published laboratory-acquired infections listed in the [ABSA database](https://my.absa.org/LAI). I apply some cleaning to the data, which was mostly updated via web forms."
   ]
  },
  {
   "cell_type": "code",
   "execution_count": 18,
   "id": "0143da04",
   "metadata": {},
   "outputs": [],
   "source": [
    "import pandas as pd\n",
    "import re\n",
    "import matplotlib.pyplot as plt\n",
    "import seaborn as sns\n",
    "from geopy.geocoders import Nominatim\n",
    "from time import sleep\n",
    "import pickle\n",
    "import plotly.express as px\n",
    "import numpy as np"
   ]
  },
  {
   "cell_type": "code",
   "execution_count": 19,
   "id": "f7237b16",
   "metadata": {},
   "outputs": [],
   "source": [
    "location_cleaner = {\n",
    "    'Multiple cities in China': 'China',\n",
    "    'Pennsulvania and New York in USA': 'Pennsylvania, USA',\n",
    "    'Fort Dietrick, Maryland, USA': 'Fort Detrick, Maryland, USA',\n",
    "    'Laboratory for Mycology, Wadsworth Center for Laboratories and Research, New York State Department of Health, Albany, USA': 'Albany, NY',\n",
    "    'A university in Hunan Province, China': 'Hunan Province, China',\n",
    "    'Unknown, contributed by author in Boston, USA': 'Boston, MA, USA',\n",
    "    'Shimoga and Uttara Kannada District in India': 'Uttara Kannada District, India',\n",
    "    'Geelong, outside Melbourne, Australia': 'Melbourne, Australia',\n",
    "    'National Institute of Virology in Beijing - China': 'Beijing, China',\n",
    "    'Allegheny County, Pittsburgh, PA- USA': 'Pittsburgh, PA, USA',\n",
    "    'United States, South Africa': 'South Africa',\n",
    "    'Ft. Dietrick, Maryland, USA': 'Fort Detrick, Maryland, USA',\n",
    "    'Woden Valley, Camberra, Australia.': 'Woden Valley, Canberra, Australia',\n",
    "    'southern Israel': 'Israel',\n",
    "    'Defence Research Establishment Suffield, Canada': 'Suffield, Canada',\n",
    "    'Turku, Finland.': 'Turku, Finland',\n",
    "    'Virginia, Pennsylvania and Texas (USA)': 'Virginia',\n",
    "    'Case 1: Broward County, FL, USA and Case 2: Miami-Dade County, FL, USA': 'Broward County, FL, USA',\n",
    "    'Istambul, Turkey': 'Istanbul, Turkey',\n",
    "    'Bethesda, Maryland is the location of the first author; the other authors are in 4 other states in the USA.': 'Bethesda, MD, USA',\n",
    "    'Ft. Dietrick, Maryland, USA': 'Fort Detrick, Maryland, USA',\n",
    "    'Boston, Massachusets, USA': 'Boston, Massachusetts, USA',\n",
    "    'Blacksburg, VA and Randolph County': 'Blacksburg, VA, USA',\n",
    "    'national parks, USA': 'USA',\n",
    "    'multiple cities, China': 'China',\n",
    "    'Wiltshire England': 'Wiltshire, England',\n",
    "    'Cleveland, Ohio. USA': 'Cleveland, OH, USA',\n",
    "    'CO, WA, CA, MD, TX': 'Colorado, USA',\n",
    "    'Pensacola Florida, USA': 'Pensacola, Florida, USA',\n",
    "    'Nairobi, Kenya and Oxford, UK': 'Nairobi, Kenya',\n",
    "    'California, Colorado, Florida, Georgia, Iowa, Maine, Michigan, Missouri, North Carolina, New Hampshire, New Jersey, New Mexico, New York, Oklahoma, Texas, Washington': 'USA',\n",
    "    'Korea': 'South Korea',\n",
    "    'Minesota, USA': 'Minnesota, USA',\n",
    "    'Chicago, Il': 'Chicago, IL, USA',\n",
    "    'Nairobi, Kenya and Oxford, UK': 'Nairobi, Kenya',\n",
    "    'London. England': 'London, England',\n",
    "    'Boston Massachusetts': 'Boston, MA, USA',\n",
    "    'England/Wales': 'Great Britain',\n",
    "    'Maryland, U.S.': 'Maryland, USA',\n",
    "    'Not clear, but mostlikely Auburn Univeristy, Alabama USA': 'Auburn, Alabama, USA',\n",
    "    '1980 case unknown, the second date: Caldwell Veterinary Teaching Center , Idaho': 'Idaho',\n",
    "    'Most likley USA, no city given.': 'USA',\n",
    "    'San Francisco, California. USA': 'San Francisco, California, USA',\n",
    "    'LA, California. USA': 'Los Angeles, CA, USA',\n",
    "    'Canadian Forces Base, Suffield, Alberta.': 'Suffield, Alberta, Canada',\n",
    "    'Pensacola, Florida. USA': 'Pensacola, FL, USA',\n",
    "    '49 states, USA': 'USA',\n",
    "    'a \"country [clinical] laboratory\" in Australia': 'Australia',\n",
    "    'Finland (multiple laboratories)': 'Finland',\n",
    "    'Washington, D.C. (USA)': 'Washington, DC, USA',\n",
    "    'United States in NIH-funded laboratories': 'United States',\n",
    "    'Chicago, IL. USA': 'Chicago, IL, USA',\n",
    "    'U.K., Wales and Scotland': 'Great Britain',\n",
    "    'Unknown City, USA': 'USA',\n",
    "    'Unknown (likely Washington DC or Bethesda, MD, USA)': 'Bethesda, MD, USA',\n",
    "    'USAMRIID': 'Fort Detrick, Maryland',\n",
    "'4 Canadian cities (exact cities not specified)': 'Canada',\n",
    "    'Unknown, USA': 'USA',\n",
    "    'Unknown City, USA': 'USA',\n",
    "    'CDC': 'Atlanta, Georgia, USA',\n",
    "    'Unknown (likely La Jolla, CA, USA)': 'La Jolla, CA, USA',\n",
    "    'Richland, WA.': 'Richland, WA',\n",
    "    'East Bay, California': 'Oakland, California',\n",
    "    'Buenos Aires (?), Argentina': 'Buenos Aires, Argentina',\n",
    "    'U. of Pretoria, 15km North of Pretoria, South Africa': 'Pretoria, South Africa',\n",
    "    'Several states in USA: Illinois, Indiana, Kentucky, Maine, Massachusetts, Missouri, New Hampshire, New Jersey, Ohio, Pennsylvania, Virginia, Washington, and Wisconsin.': 'USA',\n",
    "    '38 States in USA : AK, AL, AZ, CA, CO, FL, GA, IA, ID, IL, IN, KS, KY, MA, MD, MI, MN, MO, NC, ND, NE, NH, NJ, N , NV, NY, OH, OK, OR, PA, SC, SD, TN, TX, UT, WA, WI, and WY': 'USA',\n",
    "    'China, University and hospital settings': 'China',\n",
    "    'British Laboratories (200 England, 24 Scotland, 11 Wales and 5 Northern Ireland)': 'Great Britain',\n",
    "    'Massachusetts, Boston, USA': 'Boston, Massachusetts, USA',\n",
    "    'Philadelphia, PA, USA (authors)': 'Philadelphia, PA, USA',\n",
    "    'Reading, Berkshire Co., England': 'Reading, Berkshire, England',\n",
    "    'San Francisco, CA. USA': 'San Francisco, CA, USA',\n",
    "    'Köln, Federal Republic of Germany': 'Köln, Germany',\n",
    "    'Indiana, USA; Minnesota, USA': 'Indiana, USA',\n",
    "    'Southern Maine, USA': 'Maine, USA',\n",
    "    'Vanderburgh, Indiana. USA': 'Vanderburgh, Indiana, USA',\n",
    "    'California USA; Massachusetts USA': 'California, USA',\n",
    "    'Houston, Texas. USA': 'Houston, Texas, USA',\n",
    "    'Alabama, Michigan, United States': 'Alabama, United States',\n",
    "    'unknown, USA': 'USA',\n",
    "    'Recife, PE, Brazil and Paranati, Matto Grosso, Brazil': 'Recife, PE, Brazil',\n",
    "    '50 states, the District of Columbia, Puerto Rico, the Virgin Islands, Guam, American Samoa, and the Northern Mariana Islands were surveyed': 'USA',\n",
    "    'Wroclaw region, Poland': 'Wroclaw, Poland',\n",
    "    'Sverdlovsk, Union of Soviet Socialist Republics': 'Sverdlovsk',\n",
    "    'Piladelphia, U.S.A.': 'Philadelphia, USA',\n",
    "    'Piladelphia, USA' :'Philadelphia, USA',\n",
    "    'Various states and provinces in the USA and Canada': 'USA',\n",
    "    'Cayenne, French Guiyana': 'French Guiana',\n",
    "    'Nice Cedex, France': 'Nice, France',\n",
    "    'Winnipeg, Manitoba, Canada; Brandon, Manitoba, Canada': 'Winnipeg, Manitoba, Canada',\n",
    "    'Maringa, Parana State, Brazil': 'Maringa, Brazil',\n",
    "    'Germany, Austria and Switzerland': 'Germany',\n",
    "    'Beidenkopf, Germany': 'Biedenkopf, Germany',\n",
    "    'Riyahdh, Saudi Arabia': 'Riyadh, Saudi Arabia',\n",
    "    'Hatfield, Pretoria, South Africia': 'Pretoria, South Africa',\n",
    "    'Balboa Heights, Panama Canal Zone': 'Panama Canal Zone',\n",
    "    'Institute of Preventive Medicine, National Defence University, Taipei-Taiwan': 'Taipei, Taiwan',\n",
    "    'Hokuriku district, Japan': 'Hokuriku, Japan',\n",
    "    'Tolouse, France': 'Toulouse, France',\n",
    "}"
   ]
  },
  {
   "cell_type": "code",
   "execution_count": 20,
   "id": "aa008dbe",
   "metadata": {},
   "outputs": [],
   "source": [
    "agent_cleaner = {\n",
    "    'influenza A (H1N1)': 'Influenza A (H1N1)',\n",
    "    'herpes B virus': 'Herpes B virus',\n",
    "    'Case 1 - Leptospira interrogans serogroup Icterohaemorrhagiae strain CF1, Case 2 - Leptospira interrogans serogroup Sejroe serovar hardjo': 'Case 1 - Leptospira interrogans serogroup Icterohaemorrhagiae strain CF1',\n",
    "    'verotoxin-producing Escherichia coli (VTEC) (O157:H7)': 'Verotoxin-producing Escherichia coli (VTEC) (O157:H7)',\n",
    "    'E.coli O157:H7': 'Escherichia coli O157:H7',\n",
    "    'Neisseria Meningitidis. group C': 'Neisseria Meningitidis, group C',\n",
    "    'Salmonella typhi, Salmonella paratyphi A, Salmonella paratyphi B (the abstract did not specify which caused the 2 laboratory associated cases)': 'Salmonella typhi, Salmonella paratyphi A, Salmonella paratyphi B',\n",
    "    'simian foamy virus': 'Simian foamy virus',\n",
    "    'simian foamy virus, human foamy virus': 'Simian foamy virus, Human foamy virus',\n",
    "    'vesicular stomatitis virus': 'Vesicular stomatitis virus',\n",
    "    'vaccina virus recombined with hepatitis C virus protein': 'Vaccina virus recombined with Hepatitis C virus protein',\n",
    "    'vesicular stomatitis virus': 'Vesicular stomatitis virus',\n",
    "    'recombinant WR strain vaccinia virus expressing VSV(IND serotype) protein N': 'Recombinant WR strain vaccinia virus expressing VSV(IND serotype) protein N',\n",
    "    'hantavirus': 'Hantavirus',\n",
    "    'human immunodeficiency virus, HIV': 'Human Immunodeficiency Virus, HIV',\n",
    "    'Hantavirus: SinNombre(SNV) and Andes': 'Hantavirus: Sin Nombre(SNV) and Andes',\n",
    "    'arboviruses': 'Arboviruses',\n",
    "    'chikunguna virus, Dugbe virus, Wesselbron virus, dengue virus': 'Chikungunya virus, Dugbe virus, Wesselbron virus, Dengue virus',\n",
    "    'arboviruses, Western Equine Encephalitis, Venezuelan Equine Encephalitis, Chikungunya, Mayaro, Louping Ill, Tick-borne encephalitis, Saint Louis encephalitis, Kyansasur Forest, West Nile': 'Arboviruses, Western Equine Encephalitis, Venezuelan Equine Encephalitis, Chikungunya, Mayaro, Louping Ill, Tick-borne encephalitis, Saint Louis encephalitis, Kyansasur Forest, West Nile',\n",
    "    'vaccinia virus': 'Vaccinia virus',\n",
    "    'E.coli 0157': 'Escherichia coli 0157',\n",
    "    'ringworm, Bacillus anthracis, Brucella spp., Erysipelothrix rhusiopathiae, Leptospira spp., Newcastle virus, Chlamydia psittaci, Orf virus, Salmonella, Streptococcus suis, M. tuberculosis, M. bovis': 'Ringworm, Bacillus anthracis, Brucella spp., Erysipelothrix rhusiopathiae, Leptospira spp., Newcastle virus, Chlamydia psittaci, Orf virus, Salmonella, Streptococcus suis, M. tuberculosis, M. bovis',\n",
    "    'human colonic adenocarcinoma cell line': 'Human colonic adenocarcinoma cell line',\n",
    "    'Escherichia coli O157 infection': 'Escherichia coli O157',\n",
    "    'TB, hepatitis A, hepatitis B, non-A non-B hepatitis, rubella, mycoplasma, Campylobacter, paratyphus, Salmonella, Chicken pox (Varicella zoster)': 'Tuberculosis, hepatitis A, hepatitis B, non-A non-B hepatitis, rubella, mycoplasma, Campylobacter, paratyphus, Salmonella, Chicken pox (Varicella zoster)',\n",
    "    'lymphocytic choriomeningitis virus, Machupo, Sabia, hantavirus, Puumala virus, SARS, influenza B, Coxsackievirus': 'Lymphocytic choriomeningitis virus, Machupo, Sabia, hantavirus, Puumala virus, SARS, influenza B, Coxsackievirus',\n",
    "    'parvovirus B19, HIV-1': 'Parvovirus B19, HIV-1',\n",
    "    'foot and mouth disease virus': 'Foot and mouth disease virus',\n",
    "    'herpes B virus, vaccinia, Lassa': 'Herpes B virus, vaccinia, Lassa',\n",
    "    'cowpox virus': 'Cowpox virus',\n",
    "    'norovirus': 'Norovirus',\n",
    "    'vaccinia virus': 'Vaccinia virus',\n",
    "    'mimivirus': 'Mimivirus',\n",
    "    'vaccinia virus': 'Vaccinia virus',\n",
    "    'dengue virus': 'Dengue virus',\n",
    "    'polio virus': 'Polio virus',\n",
    "    'polio': 'Polio',\n",
    "    'cell-culture-adapted Hantavirus': 'Cell-culture-adapted Hantavirus',\n",
    "    'rabies virus, modified live rabies virus': 'Rabies virus, modified live rabies virus',\n",
    "    'fowl plague virus': 'Fowl plague virus',\n",
    "    'Ebola virus Zaire, also Machupo, Japanese Encephalitis Virus, Dengue, Lassa, Junin, Rift Valley Fever': 'Ebola virus Zaire, Machupo, Japanese Encephalitis Virus, Dengue, Lassa, Junin, Rift Valley Fever',\n",
    "    'influenza B virus': 'Influenza B',\n",
    "    'vaccinia virus': 'Vaccinia virus',\n",
    "    'orf virus': 'Orf virus',\n",
    "    'HIV, human immunodeficiency virus type 1, HIV-1': 'HIV',\n",
    "    'vaccinia': 'Vaccinia',\n",
    "    'bovine spongiform encephalopathy, BSE, prion': 'Bovine spongiform encephalopathy prion',\n",
    "    'Suspension of the live yeast form of Sporothrix schenckii': 'Sporothrix schenckii',\n",
    "    'bovine spongiform encephalopathy prion, BSE, mad cow disease, vCJD, variant Creutzfeldt-Jakob disease': 'Bovine spongiform encephalopathy prion, variant Creutzfeldt-Jakob disease',\n",
    "    'Only first initial was provided- V (suspected to be Marburg Virus)': 'Marburg Virus',\n",
    "    'prion, BSE, bovine spongiform encephalopathy, CJD, Creutzfeld-Jakob Disease': 'Bovine spongiform encephalopathy prion, variant Creutzfeldt-Jakob disease',\n",
    "}"
   ]
  },
  {
   "cell_type": "code",
   "execution_count": 21,
   "id": "e94be860",
   "metadata": {},
   "outputs": [],
   "source": [
    "def get_geocode(location):\n",
    "    if location in locations_to_ignore:\n",
    "        return None\n",
    "    \n",
    "    if location in location_cache:\n",
    "        return location_cache[location]\n",
    "    \n",
    "    try:\n",
    "        geocode = geolocator.geocode(location, timeout=3)\n",
    "        location_cache[location] = geocode\n",
    "        sleep(1)\n",
    "        return geocode\n",
    "    except Exception as e:\n",
    "        print(f\"Location {location} errored with error {e}\")\n",
    "        return None\n"
   ]
  },
  {
   "cell_type": "code",
   "execution_count": 22,
   "id": "4bffb85b",
   "metadata": {},
   "outputs": [],
   "source": [
    "def get_year(s):\n",
    "    years = re.findall('\\d{4}', s)\n",
    "    if years:\n",
    "        return int(years[0])\n",
    "    else:\n",
    "        return None"
   ]
  },
  {
   "cell_type": "markdown",
   "id": "67373464",
   "metadata": {},
   "source": [
    "## Read data"
   ]
  },
  {
   "cell_type": "code",
   "execution_count": 23,
   "id": "7f4f1a1c",
   "metadata": {},
   "outputs": [],
   "source": [
    "f = open(\"raw_data.txt\", \"r\") #copy/pasted from the two pages at https://my.absa.org/LAI\n",
    "lines = f.readlines()\n",
    "f.close()"
   ]
  },
  {
   "cell_type": "code",
   "execution_count": 24,
   "id": "0353eb84",
   "metadata": {},
   "outputs": [],
   "source": [
    "date_strs = []\n",
    "locations = []\n",
    "agents = []\n",
    "bsls = []\n",
    "\n",
    "for line in lines:\n",
    "    if line.startswith('Date(s) of LAI / exposure:'):\n",
    "        date_strs.append(line[27:-1])\n",
    "    if line.startswith('Location where LAI / exposure occurred:'):\n",
    "        locations.append(line[40:-1])\n",
    "    if line.startswith('Agent(s) involved:'):\n",
    "        agents.append(line[19:-1])\n",
    "    if line.startswith('Biological Safety Level (BSL) for work being performed?:'):\n",
    "        bsls.append(line[56:-1])\n"
   ]
  },
  {
   "cell_type": "markdown",
   "id": "cca49a47",
   "metadata": {},
   "source": [
    "## Clean data"
   ]
  },
  {
   "cell_type": "code",
   "execution_count": 25,
   "id": "da95747c",
   "metadata": {},
   "outputs": [],
   "source": [
    "geolocator = Nominatim(user_agent=\"MyApp\")"
   ]
  },
  {
   "cell_type": "code",
   "execution_count": 26,
   "id": "82183a2d",
   "metadata": {},
   "outputs": [],
   "source": [
    "location_cache = pickle.load(open('location_cache.pickle', 'rb'))\n",
    "locations_to_ignore = ['Unknown', 'unknown', 'Various', 'Worldwide', 'Various locations', 'not stated', '', \n",
    "             'not known', 'multiple', 'Not stated']"
   ]
  },
  {
   "cell_type": "code",
   "execution_count": 27,
   "id": "923b1a57",
   "metadata": {},
   "outputs": [],
   "source": [
    "df = pd.DataFrame({\n",
    "    'orig_date_str': date_strs,\n",
    "    'orig_location': locations,\n",
    "    'orig_agent': agents,\n",
    "    'bsl': bsls,\n",
    "})\n",
    "\n",
    "df['year'] = df['orig_date_str'].apply(get_year)\n",
    "df['cleaned_agent'] = df['orig_agent'].replace(agent_cleaner)\n",
    "df['orig_location'] = df['orig_location'].apply(lambda s: s.replace('U.S.A.', 'USA'))\n",
    "df['orig_location'] = df['orig_location'].apply(lambda s: s.replace('U.S.A', 'USA'))\n",
    "df['cleaned_location'] = df['orig_location'].replace(location_cleaner)"
   ]
  },
  {
   "cell_type": "code",
   "execution_count": 28,
   "id": "7f832909",
   "metadata": {},
   "outputs": [],
   "source": [
    "df['geocode'] = df['cleaned_location'].apply(get_geocode)\n",
    "pickle.dump(location_cache, open('location_cache.pickle', 'wb'))"
   ]
  },
  {
   "cell_type": "code",
   "execution_count": 29,
   "id": "a8f7a4fc",
   "metadata": {},
   "outputs": [],
   "source": [
    "df['geocode_location'] = df['geocode'].apply(lambda g: g.address if g else None)\n",
    "df['latitude'] = df['geocode'].apply(lambda g: g.latitude if g else None)\n",
    "df['longitude'] = df['geocode'].apply(lambda g: g.longitude if g else None)\n",
    "df['bsl'] = df['bsl'].apply(lambda s: s.strip())\n",
    "df['year'] = df['year'].fillna('Unknown')"
   ]
  },
  {
   "cell_type": "code",
   "execution_count": 30,
   "id": "f184290c",
   "metadata": {},
   "outputs": [],
   "source": [
    "df.to_excel('cleaned_data.xlsx', index=False)"
   ]
  },
  {
   "cell_type": "markdown",
   "id": "a0e79932",
   "metadata": {},
   "source": [
    "### Map\n",
    "This makes a Plotly map, although the blog post uses a Datawrapper map"
   ]
  },
  {
   "cell_type": "code",
   "execution_count": 31,
   "id": "1769ce90",
   "metadata": {},
   "outputs": [],
   "source": [
    "# Remove events with overly generic locations for large countries\n",
    "df = df[~df['cleaned_location'].isin({'worldwide', 'Canada', 'USA', 'United States', 'US', 'United States of America', 'Quebec, Canada'})]\n",
    "df = df[df['latitude'].notnull()]"
   ]
  },
  {
   "cell_type": "code",
   "execution_count": 32,
   "id": "e8b9da80",
   "metadata": {},
   "outputs": [],
   "source": [
    "df['size'] = 300 # The exact number doesn't matter\n",
    "df['jittered_latitude'] = df['latitude'] + 0.06 * np.random.randn(len(df))\n",
    "df['jittered_longitude'] = df['longitude'] + 0.06 * np.random.randn(len(df))"
   ]
  },
  {
   "cell_type": "code",
   "execution_count": 33,
   "id": "7fcdca34",
   "metadata": {},
   "outputs": [
    {
     "data": {
      "application/vnd.plotly.v1+json": {
       "config": {
        "plotlyServerURL": "https://plot.ly"
       },
       "data": [
        {
         "customdata": [
          [
           "Wisconsin, USA",
           "Brucella melitensis",
           2008,
           44.52559966543819,
           -89.72168434666398,
           300
          ],
          [
           "Boston, MA, USA",
           "Francisella tularensis Type A",
           2004,
           42.39429602781377,
           -71.06978710852422,
           300
          ],
          [
           "Connecticut, USA",
           "Sabiá virus",
           1994,
           41.58810990201997,
           -72.71577360607769,
           300
          ],
          [
           "India",
           "Buffalopox virus (BPXV)",
           2010,
           22.28012507996437,
           78.74508052027579,
           300
          ],
          [
           "South Korea",
           "Dengue",
           2014,
           36.60397484581657,
           127.69913045796802,
           300
          ],
          [
           "Australia",
           "Dengue Virus Serotype 2 (DENV-type 2)",
           2011,
           -24.738768536396126,
           134.76648257232958,
           300
          ],
          [
           "Recife, PE, Brazil",
           "Leishmania (Viannia) naiffi",
           2012,
           -8.152971628862955,
           -34.92574720793872,
           300
          ],
          [
           "London, England",
           "Plasmodium falciparum",
           1979,
           51.44684356315005,
           -0.11504978454586796,
           300
          ],
          [
           "Davis, CA, USA",
           "Titi Monkey Adenovirus (TMAdV)",
           2009,
           38.51214901072919,
           -121.82689542204562,
           300
          ],
          [
           "Auburn, AL, USA",
           "Cryptosporidium sp.",
           1982,
           32.669590094410566,
           -85.50669324611948,
           300
          ],
          [
           "New York State, USA",
           "Escherichia coli O157:H7",
           1999,
           43.187911767593334,
           -75.93470503990615,
           300
          ],
          [
           "California, USA",
           "Streptobacillus moniliformis (rat bite fever)",
           1984,
           36.70168956720986,
           -118.7765900327377,
           300
          ],
          [
           "Maine, US",
           "Salmonella Typhimurium",
           2013,
           45.72642189248397,
           -68.88942905038815,
           300
          ],
          [
           "Boston, MA, USA",
           "Vaccinia virus (Western Reserve)",
           2013,
           42.33380048075123,
           -71.00309766765022,
           300
          ],
          [
           "Germany",
           "Brucella spp.",
           1962,
           51.265569818482284,
           10.423888935238235,
           300
          ],
          [
           "Alabama, United States",
           "Neisseria meningitidis serogroups B and C",
           2000,
           33.39727896189955,
           -86.85306115164315,
           300
          ],
          [
           "Singapore",
           "SARS-CoV",
           2003,
           1.318651964440907,
           103.82742707935131,
           300
          ],
          [
           "Wroclaw, Poland",
           "Viral hepatatis, tuberculosis and brucellosis as the tmost common ones, followed by amebiasis, malaria, zoster, toxoplasmosis, varicella, mumps, mycosis, listeriosis and others",
           1990,
           51.08427914453009,
           16.995434710939136,
           300
          ],
          [
           "São Paulo, Brazil",
           "Sabiá virus",
           "Unknown",
           -23.591146771261805,
           -46.73409889161982,
           300
          ],
          [
           "Auckland, New Zealand",
           "Hepatitis B Virus",
           1982,
           -36.79843808405654,
           174.82615841462334,
           300
          ],
          [
           "Wisconsin, USA",
           "Vesicular Stomatitis Virus",
           1950,
           44.55846770573809,
           -89.6535583616425,
           300
          ],
          [
           "Örebro, Sweden",
           "Neisseria meningitidis",
           2005,
           59.27928146109745,
           15.22766125119905,
           300
          ],
          [
           "Venezuela",
           "Trypanosoma cruzi",
           1988,
           8.03240756665317,
           -66.06929445777682,
           300
          ],
          [
           "Los Angeles, California, USA",
           "Chlamydia trachomatis",
           1984,
           34.02165408626211,
           -118.19214007393391,
           300
          ],
          [
           "Saudi Arabia",
           "Brucella melitensis",
           1989,
           25.67129125730179,
           42.34447330127898,
           300
          ],
          [
           "England",
           "Brucella melitensis",
           1995,
           52.5365752812305,
           -1.1669705289110004,
           300
          ],
          [
           "Copenhagen, Denmark",
           "Bacillus Calmette-Guerin (BCG) vaccine",
           1975,
           55.69228230165136,
           12.548776894083788,
           300
          ],
          [
           "South Africa",
           "Salmonella enterica (serotype Typhi)",
           2012,
           -28.846159326591824,
           25.073062700025613,
           300
          ],
          [
           "Sverdlovsk",
           "Bacillus anthracis",
           1980,
           56.71330213050922,
           60.745798644522715,
           300
          ],
          [
           "Philadelphia, USA",
           "Vaccinia virus",
           2004,
           39.9627844045832,
           -75.13807004135764,
           300
          ],
          [
           "Copenhagen, Denmark",
           "Bacille Calmette-Guerin (BCG)",
           1977,
           55.69923129684989,
           12.642806986838771,
           300
          ],
          [
           "Houston, Texas, USA",
           "Brucella spp.",
           1981,
           29.8476780863971,
           -95.27958081297596,
           300
          ],
          [
           "Baltimore, USA",
           "Salmonella enteritidis and Neisseria meningitidis, group C",
           1983,
           39.3362098490529,
           -76.60018373527538,
           300
          ],
          [
           "Los Angeles, CA, USA",
           "Burkholderia pseudomallei",
           2003,
           34.15073889364183,
           -118.17744766016855,
           300
          ],
          [
           "Santa Cruz, Bolivia",
           "Machupo virus",
           1994,
           -17.247383885654667,
           -61.53098814082113,
           300
          ],
          [
           "Kansas City, USA",
           "Brucella suis",
           2010,
           39.21976572310549,
           -94.58577862553737,
           300
          ],
          [
           "Maine, US",
           "Salmonella enteritidis (phage type 8)",
           2006,
           45.78932221013198,
           -68.86641271194331,
           300
          ],
          [
           "Mississippi, USA",
           "Brucella suis",
           2010,
           33.03422910930681,
           -89.76640321254678,
           300
          ],
          [
           "Lausanne, Switzerland",
           "Lymphocytic choriomeningitis virus",
           2015,
           46.54975332924278,
           6.650741244891804,
           300
          ],
          [
           "Brussels, Belgium",
           "Brucella melitensis",
           1982,
           50.733901729374196,
           4.355684776364752,
           300
          ],
          [
           "Nice, France",
           "Brucella melitensis",
           1996,
           43.72787947655412,
           7.145961419941255,
           300
          ],
          [
           "Germany",
           "HIV",
           2000,
           51.181795436935616,
           10.42368346467749,
           300
          ],
          [
           "New York, USA",
           "Brucella abortus RB51",
           2007,
           40.69835176770329,
           -73.94105837283472,
           300
          ],
          [
           "Virginia, USA",
           "Vaccinia (VACV Western reserve strain - contaminant of the recombinant construct OVA-vac with which the lab was working",
           2008,
           37.08833795448534,
           -78.50118126134201,
           300
          ],
          [
           "München, Germany",
           "Brucella melitensis",
           1994,
           48.12047646982391,
           11.591175366961872,
           300
          ],
          [
           "Oklahoma, USA",
           "Vaccinia virus",
           2003,
           34.90793011567847,
           -97.2361757331178,
           300
          ],
          [
           "Austria",
           "Vibrio cholerae",
           2008,
           47.60325942775093,
           14.172316421101987,
           300
          ],
          [
           "Mexico",
           "Sporothrix schenckii",
           2016,
           23.609272526299822,
           -102.05435846105271,
           300
          ],
          [
           "California, USA",
           "Neisseria meningitidis serogroup C and serogroup B",
           1991,
           36.61425046576504,
           -118.81929336498399,
           300
          ],
          [
           "Vanderburgh, Indiana, USA",
           "Lymphocytic Choriomeningitis Virus (LCMV)",
           2012,
           37.892916497619446,
           -87.59701629288699,
           300
          ],
          [
           "New York, USA",
           "Avian Influenza A(H7N2)",
           2016,
           40.91824177556975,
           -74.09777708196086,
           300
          ],
          [
           "Beijing, China",
           "SARS coronavirus",
           2004,
           39.85620361990576,
           116.27224033679634,
           300
          ],
          [
           "Spain",
           "Histoplasma capsulatum var capsulatum",
           2011,
           39.28646141151583,
           -4.860460845155772,
           300
          ],
          [
           "Seville, Spain",
           "Brucella melitensis",
           1988,
           37.42737186242446,
           -6.032383424361556,
           300
          ],
          [
           "Boulder, Colorado",
           "Sin Nombre virus",
           2005,
           40.07030104288574,
           -105.31296832316023,
           300
          ],
          [
           "Atlanta USA",
           "lymphocytic choriomeningitis virus (LCMV)",
           1989,
           33.699982759902085,
           -84.39303265688714,
           300
          ],
          [
           "Boulder, Colorado, USA",
           "Blastomyces dermatiditis",
           1998,
           40.05542864159414,
           -105.25309205671505,
           300
          ],
          [
           "Maine, USA",
           "Brucella ceti",
           2012,
           45.732072418415875,
           -69.0034035018307,
           300
          ],
          [
           "Indiana, USA",
           "Brucella spp.",
           2006,
           40.34172164832047,
           -86.143064275024,
           300
          ],
          [
           "Milwaukee, Wisconsin, USA",
           "Brucella melitensis",
           1992,
           42.97296303421177,
           -88.04873648958198,
           300
          ],
          [
           "Massachusetts, USA",
           "Brucella melitensis",
           2008,
           42.39887351846377,
           -72.00693808572679,
           300
          ],
          [
           "Rome, Italy",
           "Brucella melitensis",
           2006,
           41.958422537161034,
           12.430106025628017,
           300
          ],
          [
           "California, USA",
           "Bacillus anthracis",
           2004,
           36.61004403717203,
           -118.72787602642512,
           300
          ],
          [
           "French Guiana",
           "Mayaro virus",
           1998,
           4.067656299361673,
           -52.94075821949945,
           300
          ],
          [
           "Malatya, Turkey",
           "Staphylococcus aureus",
           "Unknown",
           38.4350396991831,
           38.372777724364504,
           300
          ],
          [
           "Germany",
           "Coxiella burnetii",
           "Unknown",
           51.11210244616019,
           10.494786838368695,
           300
          ],
          [
           "Japan",
           "Anthroderma benhamiae",
           2002,
           36.52596737682503,
           139.28487834387371,
           300
          ],
          [
           "Köln, Germany",
           "Echovirus 11",
           1978,
           51.068078026680034,
           6.906690900971095,
           300
          ],
          [
           "San Francisco, CA, USA",
           "Coxiella burnetii",
           1979,
           37.69333703132903,
           -122.40899456280331,
           300
          ],
          [
           "Paris, France",
           "Penicillium marneffei",
           1994,
           48.863584734132026,
           2.346557305929417,
           300
          ],
          [
           "Philadelphia, Pennsylvania, USA",
           "Cryptosporidium",
           2015,
           40.016231575847335,
           -75.23230877600157,
           300
          ],
          [
           "Reston, VA",
           "Ebola virus",
           1994,
           39.00149521206304,
           -77.46334012204812,
           300
          ],
          [
           "London, England",
           "Echo 11 Virus",
           1978,
           51.69093923432151,
           -0.11585087461702459,
           300
          ],
          [
           "California, USA",
           "Creutzfeldt-Jakob disease",
           1990,
           36.65866259597383,
           -118.66247008560696,
           300
          ],
          [
           "Germany",
           "Creutzfeldt-Jakob disease",
           1992,
           51.18230600123835,
           10.42669425443391,
           300
          ],
          [
           "Taiwan",
           "Vibrio parahaemolyticus",
           1999,
           24.034193809939445,
           121.01062868804472,
           300
          ],
          [
           "Babol, Iran",
           "Brucella sp.",
           1997,
           36.57225109095087,
           52.6763581219434,
           300
          ],
          [
           "Reading, Berkshire, England",
           "Shigella sonnei",
           1983,
           51.46086670719705,
           -0.9757934332303446,
           300
          ],
          [
           "Nantes, France",
           "Mycobacterium tuberculosis",
           1997,
           47.2241196242925,
           -1.6414960510934813,
           300
          ],
          [
           "Washington, USA",
           "Mycobacterium tuberculosis",
           1997,
           38.963461600132284,
           -76.99823239004219,
           300
          ],
          [
           "Frederick, MD",
           "Rickettsia rickettsii",
           1971,
           39.36509307052301,
           -77.37622333387755,
           300
          ],
          [
           "Philadelphia, PA, USA",
           "Escherichia coli O157:H7",
           2002,
           39.99871582046766,
           -75.19068390104547,
           300
          ],
          [
           "Moscow, Russia",
           "Omsk Hemorrhagic Fever Virus (Flavidivirdiae, Flavivirus, Tick-borne Encephalitis Antigenic Compliex",
           1970,
           55.68938857344129,
           37.657594922462,
           300
          ],
          [
           "Massachusetts, Boston. USA",
           "Vaccinia Virus",
           2013,
           42.437139971120274,
           -71.05822165387582,
           300
          ],
          [
           "Chile",
           "Coccidioides posadasii",
           2017,
           -31.82674356844572,
           -71.38542097909051,
           300
          ],
          [
           "Shenyang, People’s Republic of China",
           "Seoul Virus and Hantavirus",
           2006,
           41.590564429837734,
           123.464068493367,
           300
          ],
          [
           "New York",
           "Creutzfeld-Jakob disease",
           1988,
           40.672764386479656,
           -73.97702479243588,
           300
          ],
          [
           "Australia",
           "Newcastle Disease virus (NDV)",
           1987,
           -24.873031931298627,
           134.766797216572,
           300
          ],
          [
           "UK",
           "Hantavirus",
           1977,
           54.770954661572034,
           -3.2926401089374684,
           300
          ],
          [
           "Afyonkarahisar, Turkey",
           "Brucella melitensis",
           2008,
           38.683139630752116,
           30.73252346397193,
           300
          ],
          [
           "Australia",
           "Candidatus Mycoplasma haemohominis",
           2018,
           -24.762323962753282,
           134.74532675763683,
           300
          ],
          [
           "Townsville, Australia",
           "Brucella suis",
           1996,
           -19.24321889248609,
           146.77820308207578,
           300
          ],
          [
           "The Netherlands",
           "Meticillin-Resistant Staphylococcus aureus (MRSA) multilocus sequence type 5 (paediatric) and 8 (New York/Japan strain)",
           2004,
           52.21493977610351,
           5.521324981102063,
           300
          ],
          [
           "Great Britain",
           "Hepatitis A, Hepatitis B and non-A, non-B Hepatitis, Tuberculosis, Shigella, Brucella, Herpes, unidentified bowel infections",
           1982,
           54.18351315839163,
           -1.9921580355850226,
           300
          ],
          [
           "Rio de Janeiro, Brazil",
           "Zika Virus (ZIKV) Brazilian strain",
           2017,
           -23.015235113628414,
           -43.23956763388836,
           300
          ],
          [
           "Washington State",
           "Mycobacterium tuberculosis; Tuberculosis",
           1996,
           47.26939617463079,
           -120.14132154087399,
           300
          ],
          [
           "China",
           "Brucella melitensis biovar",
           2011,
           34.973892169687865,
           105.01523806938191,
           300
          ],
          [
           "Winnipeg, Manitoba, Canada",
           "Francisella tularensis type B subspecies holarctica",
           2018,
           49.95589467478949,
           -97.14970239143057,
           300
          ],
          [
           "Ottawa, Canada",
           "Creutzfeld-Jakob disease",
           1988,
           45.378059234995426,
           -75.64042316775796,
           300
          ],
          [
           "San Francisco, CA, USA",
           "Neisseria meningitidis serogroup B",
           2012,
           37.81766380690245,
           -122.35831565333665,
           300
          ],
          [
           "South Africa",
           "African horsesickness virus",
           1985,
           -28.828871625467606,
           24.95842727517942,
           300
          ],
          [
           "Moscow, Russia",
           "Venezuelan Equine Encephalomyelitis virus (VEE_",
           1956,
           55.695012777266285,
           37.69847946664593,
           300
          ],
          [
           "Moscow, Russia",
           "Kyasanur Forest Disease Virus",
           1988,
           55.75669261403161,
           37.55532722299863,
           300
          ],
          [
           "Moscow, Russia",
           "Vesicular Stomatitis Virus (Rhabdoviridae, Vesilculovirus, Vesicular Stomatitis Antigenic Group)",
           1964,
           55.68153723511182,
           37.55940888802065,
           300
          ],
          [
           "Moscow, Russia",
           "Crimean-Congo Hemorrhagic Fever Virus (Bunyaviridae, Bunyaviirus, CHF-Congo Antigenic Group",
           1970,
           55.74215435495201,
           37.722778100844735,
           300
          ],
          [
           "Randolph County, West Virginia, USA",
           "Hantavirus, Sin Nombre Virus (monongahela)",
           2004,
           38.79049577454815,
           -79.903802967809,
           300
          ],
          [
           "Moscow, Russia",
           "Dhori Virus (Orthomyxoviridae)",
           1978,
           55.75745488449196,
           37.59183842690003,
           300
          ],
          [
           "Germany",
           "Simian Foamy Virus",
           1976,
           51.13023160111599,
           10.504479710266395,
           300
          ],
          [
           "Moscow, Russia",
           "Hemorrhagic Fever with the Renal Syndrome (Bunyaviridae, Hantavirus(",
           1958,
           55.77085940976586,
           37.652228783411445,
           300
          ],
          [
           "Pretoria, South Africa",
           "West Nile Virus, lineage 2",
           2008,
           -25.751433034454188,
           28.22724379728903,
           300
          ],
          [
           "Buenos Aires, Argentina",
           "Brucella abortus strain S19",
           1999,
           -34.61605309352986,
           -58.42856803578891,
           300
          ],
          [
           "Texas, USA",
           "Novel adenovirus (BaAdV-1, BaAdV-2(",
           1997,
           31.19746797901683,
           -98.58666818470084,
           300
          ],
          [
           "Finland",
           "Toxoplasma gondii",
           1983,
           63.18537738390783,
           25.96127275822006,
           300
          ],
          [
           "Oakland, California",
           "Mycobacterium tuberculosis",
           1978,
           37.8140002412855,
           -122.32281707060304,
           300
          ],
          [
           "Italy",
           "HIV, Hepatitis C",
           "Unknown",
           42.64005661208223,
           12.668683237047176,
           300
          ],
          [
           "Richland, WA",
           "Enterobacter aerogenes",
           "Unknown",
           46.28237378420323,
           -119.31004254551287,
           300
          ],
          [
           "Japan",
           "Arthorderma benhamiae",
           2001,
           36.640169715338274,
           139.19647329577865,
           300
          ],
          [
           "Madison, Wisconsin, USA",
           "Influenza A (H1N1)",
           1994,
           42.996752351466704,
           -89.31606163994103,
           300
          ],
          [
           "Shahrekord, Iran",
           "Vaccinia virus",
           2013,
           32.40390121526011,
           50.86300516182815,
           300
          ],
          [
           "La Jolla, CA, USA",
           "Lymphocytic choriomeningitis virus (LCMV)",
           2001,
           32.86264877553488,
           -117.22854597206512,
           300
          ],
          [
           "Boston, Massachusetts, USA",
           "Vaccinia virus",
           2007,
           42.27995315794796,
           -71.16375210988835,
           300
          ],
          [
           "Washington D.C., USA",
           "Plasmodium falciparum",
           1982,
           38.870452430080455,
           -76.94771904576179,
           300
          ],
          [
           "Atlanta, Georgia, USA",
           "Bacillus anthracis",
           2002,
           33.83551932549836,
           -84.4637178412973,
           300
          ],
          [
           "Suffield, Alberta, Canada",
           "West Nile virus",
           2003,
           50.23612595959478,
           -111.09758056318597,
           300
          ],
          [
           "United Kingdom",
           "Hepatitis C, Shigella sonnei, Shigella flexneri, Escherichia coli O157, Mycobacterium tuberculosis",
           1994,
           54.73097657828145,
           -3.182843089533776,
           300
          ],
          [
           "Taiwan",
           "Dengue type 1",
           2004,
           23.954555084940107,
           121.0552284228356,
           300
          ],
          [
           "Sweden",
           "Brucella melitensis",
           2013,
           59.6119861005001,
           14.547070818130099,
           300
          ],
          [
           "Taiwan",
           "Shigella",
           2006,
           23.91997028547992,
           120.95879354326988,
           300
          ],
          [
           "Fort Detrick, Maryland",
           "Burkholderia mallei",
           2000,
           39.362371842007505,
           -77.37250561561693,
           300
          ],
          [
           "Bethesda, MD, USA",
           "Francisella tularensis",
           2012,
           39.04213044513903,
           -77.06739504833189,
           300
          ],
          [
           "New York State, USA",
           "Brucella melitensis",
           2001,
           43.1728082775847,
           -75.85660768489105,
           300
          ],
          [
           "Kent, UK",
           "Toxoplasma gondii (RH strain)",
           "Unknown",
           51.31957495663214,
           0.7227967398984774,
           300
          ],
          [
           "Great Britain",
           "Mycobacterium tuberculosis, Brucella spp, Hepatitis virus and Shigella spp.",
           1976,
           54.25744346146153,
           -1.86798765398762,
           300
          ],
          [
           "Maringa, Brazil",
           "Trypanosoma cruzi (strain Y)",
           2003,
           -23.451806163638885,
           -51.925736000595336,
           300
          ],
          [
           "Chicago, IL, USA",
           "Yersinia pestis",
           2009,
           41.9803086762121,
           -87.61883608591604,
           300
          ],
          [
           "Ibadan, Nigeria",
           "Trypanosoma gambiense",
           "Unknown",
           7.387385329258322,
           3.861693487820955,
           300
          ],
          [
           "Fort Collins, CO, USA",
           "Cryptosporidium",
           1987,
           40.61814245944742,
           -105.01134931301515,
           300
          ],
          [
           "Little Rock, AR, USA",
           "Coxiella burnetti",
           1985,
           34.67301452925816,
           -92.36179810873658,
           300
          ],
          [
           "Glasgow, UK",
           "T.gondii and L.monocytogenes",
           2001,
           55.76642243608357,
           -4.198394573598179,
           300
          ],
          [
           "Denver, Colorado, USA",
           "Coxiella burnetti",
           1980,
           39.74218248885639,
           -104.95499959896786,
           300
          ],
          [
           "London, UK",
           "Toxoplasma gondii",
           "Unknown",
           51.56047368084588,
           -0.15335365016142652,
           300
          ],
          [
           "Brookings, South Dakota, USA",
           "Coxiella burnetti",
           2013,
           44.36113895239452,
           -96.73147830652715,
           300
          ],
          [
           "Spain",
           "Brucella sp.",
           2003,
           39.267244035763404,
           -4.877608403196972,
           300
          ],
          [
           "Charleston, South Carolina, USA",
           "Coxiella burnetti",
           1991,
           32.843644541333376,
           -79.96961150300591,
           300
          ],
          [
           "Tübingen, Germany",
           "Leishmania mexicana",
           1997,
           48.59855654489417,
           8.941462601467327,
           300
          ],
          [
           "Washington, DC, USA",
           "Plasmodium falciparum",
           1982,
           38.851090590210845,
           -77.10068997632659,
           300
          ],
          [
           "Finland",
           "Chiamydia pneumoniae,",
           1993,
           63.23447804524255,
           25.897647404322324,
           300
          ],
          [
           "Cape Cod, Massachusetts, USA",
           "Influenza A virus (A/Seal/Mass/1/80[H7N7])",
           1979,
           41.83061016340823,
           -69.96246271074983,
           300
          ],
          [
           "Bordeaux, France",
           "Trypanosoma gambiense (strain FEO ITMAP-1893)",
           1992,
           44.92933640965981,
           -0.6099995584386967,
           300
          ],
          [
           "Toronto Canada",
           "Campylobacter jejuni",
           "Unknown",
           43.6572885064059,
           -79.35787499592276,
           300
          ],
          [
           "Brazil",
           "Brucella abortus",
           2012,
           -10.354072115159214,
           -53.17596952875346,
           300
          ],
          [
           "New York, USA",
           "Venezuelan Equine Encephalitis virus",
           1963,
           40.75206135765091,
           -73.92347874756622,
           300
          ],
          [
           "Albuquerque, NM, USA",
           "Campylobacter fetus ss jejuni",
           "Unknown",
           35.07657741350524,
           -106.6053888373559,
           300
          ],
          [
           "San Francisco, USA",
           "Trypanosoma cruzi (strain CL)",
           1985,
           37.72486074889131,
           -122.39230099061946,
           300
          ],
          [
           "North Queensland, Australia",
           "Burkholderia (Pseudomonas) pseudomallei",
           "Unknown",
           -25.306416014799755,
           151.2207268762437,
           300
          ],
          [
           "Australia",
           "Shigella flexneri",
           1982,
           -24.715809681546503,
           134.75794849833522,
           300
          ],
          [
           "Oklahoma, USA",
           "Francisella tularensis",
           2007,
           34.99370573047867,
           -97.31124823096471,
           300
          ],
          [
           "Girona, Spain",
           "Brucella melitensis, Rev-1",
           1982,
           41.959548137083466,
           2.7912541696945357,
           300
          ],
          [
           "UK",
           "Case 1 - Leptospira interrogans serogroup Icterohaemorrhagiae strain CF1",
           1988,
           54.61814194490566,
           -3.26225020919088,
           300
          ],
          [
           "Scotland",
           "Verotoxin-producing Escherichia coli (VTEC) (O157:H7)",
           "Unknown",
           56.76847654494973,
           -4.05291930586797,
           300
          ],
          [
           "Germany",
           "Recombinant Vaccinia virus strain Western Reserve",
           "Unknown",
           51.150499472043876,
           10.402472177841956,
           300
          ],
          [
           "Pensacola, FL, USA",
           "Cercopithecid herpesvirus 1, Herpesvirus simiae",
           1987,
           30.515524729279303,
           -87.09665903892657,
           300
          ],
          [
           "Suffield, Alberta, Canada",
           "West Nile Virus",
           2003,
           50.13375533637931,
           -111.21647217853732,
           300
          ],
          [
           "Denmark",
           "Escherichia coli O117:K1:H7",
           1997,
           55.62671763537738,
           10.285827126986767,
           300
          ],
          [
           "France",
           "Neisseria meningitidis Group C",
           1985,
           46.6436950153238,
           1.931448016284157,
           300
          ],
          [
           "France",
           "Neisseria meningitidis Group B",
           1987,
           46.51127304145601,
           1.950764918641856,
           300
          ],
          [
           "Syracuse NY, USA",
           "Burkholderia (Pseudomonas) pseudomallei",
           1980,
           43.06758606768023,
           -76.07340735289439,
           300
          ],
          [
           "Martha's Vineyard, Massachusetts, USA",
           "Francisella tularensis",
           2000,
           41.350890448214486,
           -70.69273694856732,
           300
          ],
          [
           "Fukuoka, Japan",
           "Helicobacter pylori",
           "Unknown",
           33.61073465984063,
           130.57050485628764,
           300
          ],
          [
           "Finland",
           "Chlamydia pneumoniae Kajaani 6",
           1987,
           63.19687329032358,
           25.99238993027441,
           300
          ],
          [
           "Ames, Iowa, USA",
           "Leptospira interrogans serovar hardjo",
           "Unknown",
           42.00693580598492,
           -93.47101761594277,
           300
          ],
          [
           "Finland",
           "Chlamydophila/Chlamydia pneumoniae",
           1990,
           63.25413795025849,
           25.88401659967317,
           300
          ],
          [
           "London, United Kingdom",
           "Corynebacterium diphtheriae var gravis",
           1997,
           51.43809863435077,
           -0.192593680724571,
           300
          ],
          [
           "Germany",
           "Corynebacterium diphtheriae NCTC 10684",
           1996,
           51.149616668719375,
           10.44158064925623,
           300
          ],
          [
           "Auburn, Alabama, USA",
           "Bovine stomatitis virus",
           1978,
           32.529090435554416,
           -85.43475716662205,
           300
          ],
          [
           "Los Angeles, CA, USA",
           "Chlamydia trachomatis",
           1982,
           34.12554252369687,
           -118.25112597078578,
           300
          ],
          [
           "Beer Sheva, Israel",
           "Chlamydia trachomatis",
           1986,
           31.213369491605427,
           34.83341288573682,
           300
          ],
          [
           "San Francisco, California, USA",
           "Chlamydia pneumoniae",
           1989,
           37.784886263326875,
           -122.36236612122276,
           300
          ],
          [
           "India",
           "Mycobacterium leprae",
           "Unknown",
           22.25540895081694,
           78.62498275525606,
           300
          ],
          [
           "Portugal",
           "Mycobacterium tuberculosis",
           "Unknown",
           39.71956815423616,
           -8.051008155942382,
           300
          ],
          [
           "Iran",
           "Vaccinia virus",
           2013,
           32.67345452870346,
           54.5031350320343,
           300
          ],
          [
           "Japan",
           "Mycobacterium tuberculosis",
           1985,
           36.58776103181902,
           139.17841363687162,
           300
          ],
          [
           "New York State, USA",
           "Escherichia coli O157:H7",
           1999,
           43.23324943241112,
           -75.83002600254088,
           300
          ],
          [
           "United Kingdom",
           "Neisseria meningitidis Group C",
           1992,
           54.71213883184818,
           -3.2637819262599073,
           300
          ],
          [
           "Hradec Králové, Czechia",
           "Francisella tularensis",
           1989,
           50.19458861668094,
           15.85549285883144,
           300
          ],
          [
           "Seattle, Washington, USA",
           "Mycobacterium tuberculosis",
           2004,
           47.60091942549118,
           -122.38434970468099,
           300
          ],
          [
           "Idaho",
           "Cryptosporidium",
           1980,
           43.60695485307849,
           -113.90296171868337,
           300
          ],
          [
           "Auburn, Alabama, USA",
           "Cryptosporidium",
           "Unknown",
           32.604195393589876,
           -85.50609868250655,
           300
          ],
          [
           "Georgia, USA",
           "Rocky Mountain Spotted Fever (RMSF)",
           1977,
           32.303334389117566,
           -83.15188482081295,
           300
          ],
          [
           "Seoul, Korea",
           "Orentia tsutsugamushi",
           2000,
           37.4592238454695,
           126.96123425099596,
           300
          ],
          [
           "Switzerland",
           "Neisseria Meningitidis, group C",
           "Unknown",
           46.74574854123476,
           8.333717887555526,
           300
          ],
          [
           "Belgium",
           "Mycobacterium Kansasii",
           1994,
           50.68127075655766,
           4.642479037029279,
           300
          ],
          [
           "Minnesota, USA",
           "Streptobacillus moniliformis",
           "Unknown",
           46.02619232341057,
           -94.66029980998046,
           300
          ],
          [
           "Ottawa, Canada",
           "Neisseria gonorrhoeae strain 188 T1",
           "Unknown",
           45.47939068896821,
           -75.75842069119406,
           300
          ],
          [
           "The Netherlands",
           "Staphylococcus aureus, MRSA, MSSA",
           "Unknown",
           52.3279069902341,
           5.585615789773387,
           300
          ],
          [
           "Seoul, Korea",
           "Rickettsia typhi",
           1990,
           37.66734041429001,
           127.03348305974514,
           300
          ],
          [
           "Sydney, New South Wales, Australia",
           "Staphylococcus aureus, MRSA, EMRSA",
           2002,
           -33.84048705876704,
           151.18462729434822,
           300
          ],
          [
           "Germany",
           "Mycobacterium tuberculosis",
           "Unknown",
           51.04196167873962,
           10.441794990178591,
           300
          ],
          [
           "Netherlands",
           "Shigella flexneri",
           1985,
           52.14975173295236,
           5.652201877674194,
           300
          ],
          [
           "Kuala Lumpur Malaysia",
           "Salmonella typhi",
           "Unknown",
           3.1363119504296297,
           101.7417418700936,
           300
          ],
          [
           "Maryland, USA",
           "Salmonella typhimurium",
           2011,
           39.57067434987635,
           -76.9704347188076,
           300
          ],
          [
           "Texas, USA",
           "Shigella dysenteriae",
           1996,
           31.27343922065669,
           -98.54597831830266,
           300
          ],
          [
           "Denmark",
           "Salmonella typhi, Salmonella paratyphi A, Salmonella paratyphi B",
           1986,
           55.56718704420357,
           10.327911625591673,
           300
          ],
          [
           "Great Britain",
           "Neisseria meningitidis",
           1985,
           54.30405752654985,
           -1.8624894601558912,
           300
          ],
          [
           "Zagreb, Croatia",
           "Neisseria gonorrhoeae",
           2015,
           45.856510247717125,
           15.90841959335982,
           300
          ],
          [
           "Germany",
           "Shigella boydii",
           1981,
           51.23236217110011,
           10.506459180493144,
           300
          ],
          [
           "Arizona, USA",
           "Yersinia pestis",
           2007,
           34.36153478317137,
           -111.77262720420663,
           300
          ],
          [
           "Bethesda, USA",
           "Rickettsia typhi",
           1978,
           38.98155366285438,
           -77.09186053450124,
           300
          ],
          [
           "Baltimore, Maryland",
           "HIV-2",
           2001,
           39.32504038043826,
           -76.60453115583385,
           300
          ],
          [
           "Leeds, West Yorkshire, England",
           "Salmonella typhimurium strain LT-2",
           "Unknown",
           53.77693600524831,
           -1.5200253166253206,
           300
          ],
          [
           "Boston, MA, USA",
           "Bacteroides asaccharolyticus",
           "Unknown",
           42.40204379876213,
           -70.961149420472,
           300
          ],
          [
           "Chapel Hill, NC USA",
           "Neisseria gonorrhoeae",
           1983,
           35.9409311351186,
           -79.04826817191108,
           300
          ],
          [
           "San Diego, CA, USA",
           "Neisseria gonorrhoeae",
           "Unknown",
           32.723591906735756,
           -117.09979700451525,
           300
          ],
          [
           "Frankfurt, Germany",
           "Neisseria gonorrhoeae",
           1980,
           50.064354460627825,
           8.727202340687901,
           300
          ],
          [
           "Chapel Hill, North Carolina, USA",
           "Neisseria meningitidis",
           "Unknown",
           35.887327408890634,
           -78.97745066672539,
           300
          ],
          [
           "Paris, France",
           "Neisseria meningitidis",
           2007,
           48.8583376306264,
           2.4111162733570994,
           300
          ],
          [
           "Atlanta, GA, USA",
           "Rickettsia sp. (Rocky Mounted Spotted Fever)",
           1977,
           33.744966993641164,
           -84.42091869304106,
           300
          ],
          [
           "Townsville, Queensland Australia",
           "Salmonella typhi; Salmonella give",
           1989,
           -19.251223514376278,
           146.87658165206113,
           300
          ],
          [
           "Bethesda, Maryland, USA",
           "Bordetella pertussis",
           1985,
           38.98912014472522,
           -77.15426605385403,
           300
          ],
          [
           "London, England",
           "Brucella melitensis",
           1995,
           51.532572480565705,
           -0.11559300787121558,
           300
          ],
          [
           "Nairobi, Kenya",
           "Brucella melitensis",
           "Unknown",
           -1.2222082428934022,
           36.807816103386365,
           300
          ],
          [
           "Royal Oak, MI, USA",
           "Brucella melitensis",
           1996,
           42.48357614740688,
           -83.2078518761334,
           300
          ],
          [
           "United Arab Emirates",
           "Brucella melitensis",
           "Unknown",
           23.98623766664707,
           54.01900858395528,
           300
          ],
          [
           "Turkey",
           "Brucella",
           "Unknown",
           38.86224491884641,
           34.86116153853125,
           300
          ],
          [
           "Columbia, Missouri, USA",
           "Pasteurella multocida",
           "Unknown",
           38.94269762698753,
           -92.2577157058801,
           300
          ],
          [
           "Michigan, USA",
           "Brucella melitensis",
           1988,
           43.55046167078045,
           -84.640173881523,
           300
          ],
          [
           "Spain",
           "Brucella abortus Strain 19",
           1982,
           39.378909981177515,
           -4.79151687686805,
           300
          ],
          [
           "Beer-Sheva, Israel",
           "Brucella melitensis",
           1997,
           31.236511973519313,
           34.88075209043171,
           300
          ],
          [
           "Atlanta, Georgia USA",
           "Brucella melitensis",
           "Unknown",
           33.64234632168608,
           -84.47124959450088,
           300
          ],
          [
           "Kuala Lumpur, Malaysia",
           "Brucella melitensis",
           2009,
           3.144764084269803,
           101.7533685253899,
           300
          ],
          [
           "Michigan USA",
           "Brucella melitensis",
           1988,
           42.95810560267191,
           -82.42359704571491,
           300
          ],
          [
           "Great Britain",
           "Vaccinia virus -recombinant WR strain, thymidiine kinase negative",
           "Unknown",
           54.3829227523162,
           -1.9412705695826067,
           300
          ],
          [
           "Madison, Wisconsin USA",
           "Vesicular stomatitis virus",
           "Unknown",
           43.086387096592084,
           -89.36581346281045,
           300
          ],
          [
           "Minas Gerais, Brazil",
           "Vaccinia virus",
           "Unknown",
           -18.435494507201053,
           -44.09927026360689,
           300
          ],
          [
           "Biedenkopf, Germany",
           "Vaccina virus recombined with Hepatitis C virus protein",
           "Unknown",
           50.916192794146724,
           8.614595613417722,
           300
          ],
          [
           "South Africa",
           "West Nile virus lineage 2",
           "Unknown",
           -28.88592813804607,
           24.919384385550828,
           300
          ],
          [
           "Slovenia",
           "tick-born encephalitis virus",
           1992,
           45.85364133105384,
           14.482182242089564,
           300
          ],
          [
           "London UK",
           "recombinant vaccinia viruses expressing RSV glycoprotein G and RSV 22K protein",
           1990,
           51.516087044741006,
           -0.2679878122675141,
           300
          ],
          [
           "Vladivostok, Russia",
           "Vaccinia virus",
           2000,
           43.18206133082652,
           131.83313063875372,
           300
          ],
          [
           "Franceville, Gabon",
           "Simian Foamy Virus (SFV)",
           2010,
           -1.6405912349053458,
           13.523908959016408,
           300
          ],
          [
           "Corvallis, Oregon, USA",
           "Vesivirus",
           2006,
           44.60022565336767,
           -123.25148945142081,
           300
          ],
          [
           "Ankara Turkey",
           "Brucella",
           2003,
           39.93936430663025,
           32.885033695529664,
           300
          ],
          [
           "Spain",
           "Brucella sp.",
           1970,
           39.358813343165984,
           -4.82015861118411,
           300
          ],
          [
           "Chicago, IL, USA",
           "Brucella melitensis",
           1980,
           41.90303926331274,
           -87.61471476692533,
           300
          ],
          [
           "Calcutta, India",
           "Vibrio parahaemolyticus",
           1972,
           22.586559292830508,
           88.33573630988707,
           300
          ],
          [
           "Ames, IA",
           "Brucella abortus, Strain 19",
           1988,
           42.04066608779065,
           -93.63099024348806,
           300
          ],
          [
           "Baltimore, Maryland, USA",
           "Salmonella typhi",
           "Unknown",
           39.28735396270473,
           -76.49236781735662,
           300
          ],
          [
           "Thailand",
           "Burkholderia pseudomallei",
           2014,
           14.870846034327826,
           100.77045330763698,
           300
          ],
          [
           "Minnesota, USA",
           "Salmonellya typhimurium",
           1988,
           46.045835752274584,
           -94.59756792717158,
           300
          ],
          [
           "Kuala Lumpur, Malaysia",
           "Salmonella typhi",
           1992,
           3.1050979297812944,
           101.67450738070694,
           300
          ],
          [
           "Sassari, Italy",
           "Brucella abortus",
           1990,
           40.73699081336145,
           8.530502641817115,
           300
          ],
          [
           "Jerusalem, Israel",
           "Brucella melitensis",
           1985,
           31.856883370275565,
           35.22874153335706,
           300
          ],
          [
           "Chicago, Illinois, USA",
           "Bacillus cereus",
           2011,
           41.97202693703108,
           -87.51878782780264,
           300
          ],
          [
           "Madison, Wisconsin, USA",
           "Salmonella enterica Enteritidis",
           "Unknown",
           43.05198386297699,
           -89.31762365383021,
           300
          ],
          [
           "Jalan Pahang, Kuala Lumpur",
           "Rickettsia typhi",
           "Unknown",
           3.2511685086556796,
           101.72945674230267,
           300
          ],
          [
           "South Korea",
           "Orientia tsutsugamushi",
           "Unknown",
           36.586235691709476,
           127.664544802292,
           300
          ],
          [
           "Florida, USA",
           "Brucella spp.",
           2009,
           27.72621261957534,
           -81.49070063164527,
           300
          ],
          [
           "Nairobi, Kenya",
           "Brucella melitensis",
           "Unknown",
           -1.2785488313612074,
           36.864559515090924,
           300
          ],
          [
           "China",
           "Brucella spp.",
           2010,
           35.0067132034919,
           104.92375177613894,
           300
          ],
          [
           "Riyadh, Saudi Arabia",
           "Brucella spp.",
           1984,
           24.56169365976838,
           46.715141101831776,
           300
          ],
          [
           "Pensacola, Florida, USA",
           "Herpes B Virus",
           "Unknown",
           30.488549364619743,
           -87.18038772072994,
           300
          ],
          [
           "Colorado, USA",
           "Burkholderia pseudomallei",
           2010,
           38.71829691907785,
           -105.60910765801661,
           300
          ],
          [
           "uknown",
           "Campylobacter jejuni strain VLA2/18",
           "Unknown",
           30.531464475068553,
           78.72820258621704,
           300
          ],
          [
           "The Netherlands",
           "Mycobacterium tuberculosis",
           "Unknown",
           52.311238057731046,
           5.58160268627917,
           300
          ],
          [
           "Oxford, UK",
           "Brucella melitensis",
           1991,
           51.701410492502305,
           -1.3548739877620415,
           300
          ],
          [
           "Nairobi, Kenya",
           "Brucella melitensis",
           1992,
           -1.4606497511448007,
           36.86030169234295,
           300
          ],
          [
           "Kansas City, USA",
           "Brucella melitensis",
           2011,
           39.00839469584865,
           -94.59171156559132,
           300
          ],
          [
           "Serdang, Selangor, Malaysia",
           "Brucella sp.",
           2014,
           2.9130331676996275,
           101.6722913989254,
           300
          ],
          [
           "Germany",
           "Brucella sp.",
           2002,
           51.20467492202299,
           10.47809967747873,
           300
          ],
          [
           "Pretoria, South Africa",
           "Lymphocytic choriomeningitis virus",
           2008,
           -25.859112822419203,
           28.17461546499,
           300
          ],
          [
           "Rio de Janeiro, Brazil",
           "Vaccinia virus",
           2003,
           -22.867758378943886,
           -43.18862971622379,
           300
          ],
          [
           "London, England",
           "Plasmodium vivax",
           1968,
           51.466027105889395,
           -0.2551369018854196,
           300
          ],
          [
           "Toronto, Ontario, Canada",
           "Burkolderia (Pseudomonas) pseudomallei",
           1966,
           43.5378045469508,
           -79.42981163263165,
           300
          ],
          [
           "Copenhagen, Denmark",
           "Brucella melitensis",
           2012,
           55.653674387189035,
           12.667273074749861,
           300
          ],
          [
           "Panama Canal Zone",
           "Vesicular stomatitis virus",
           1962,
           8.967204958345903,
           -79.54566842674146,
           300
          ],
          [
           "Minneapolis, Minnesota USA",
           "Treponema pallidum, Nichols strain",
           1975,
           44.95907661888293,
           -93.1787941050711,
           300
          ],
          [
           "north Karnataka India",
           "Echinoccus spp.",
           "Unknown",
           12.916214224818692,
           77.59527161745193,
           300
          ],
          [
           "Saskatchewan, Canada",
           "Salmonella enterica Serovar Typhimurium",
           2011,
           55.58967458313841,
           -106.0910227109239,
           300
          ],
          [
           "Carshalton, England",
           "Mycoplasma caviae",
           1971,
           51.37890584909564,
           -0.23063951888918338,
           300
          ],
          [
           "Japan",
           "AHC virus (enterovirus 70)",
           1976,
           36.50004944850595,
           139.19002306116346,
           300
          ],
          [
           "Cleveland, OH, USA",
           "Blastomyces dermatitidis",
           1970,
           41.51094086907366,
           -81.68970454518903,
           300
          ],
          [
           "Washington, D.C., USA",
           "Kyasanur Forest Disease Virus",
           1957,
           38.93228357729386,
           -77.0488292999019,
           300
          ],
          [
           "South Africa",
           "West Nile Virus",
           "Unknown",
           -28.87201152465987,
           25.00005510291622,
           300
          ],
          [
           "Cairo, Egypt",
           "West Nile Virus",
           1952,
           29.896397355967018,
           31.32230140453544,
           300
          ],
          [
           "Pullman, Washington, USA",
           "Recombinant WR strain vaccinia virus expressing VSV(IND serotype) protein N",
           1986,
           46.69277127477774,
           -117.19670198157391,
           300
          ],
          [
           "Wiltshire, England",
           "Ebola virus",
           1976,
           51.25202412446047,
           -1.9363693443172725,
           300
          ],
          [
           "Riyadh, Saudi Arabia",
           "Brucella spp.",
           1983,
           24.581225138176652,
           46.62604640808199,
           300
          ],
          [
           "Bandafassi, Senegal",
           "Zika virus",
           2008,
           12.452336131578186,
           -12.366987491321762,
           300
          ],
          [
           "Riyadh, Saudi Arabia",
           "Brucella spp.",
           1991,
           24.596734249703132,
           46.699322536808324,
           300
          ],
          [
           "Riyadh, Saudi Arabia",
           "Brucella melitensis",
           "Unknown",
           24.603314231904967,
           46.83902500957218,
           300
          ],
          [
           "China",
           "Hantavirus",
           1995,
           34.937391236531894,
           105.03998086479841,
           300
          ],
          [
           "China",
           "Hantavirus",
           "Unknown",
           34.97031925272118,
           105.0734844182189,
           300
          ],
          [
           "Sendai, Japan",
           "Korean haemorrhagic fever",
           1975,
           38.23995204573815,
           140.85620417406315,
           300
          ],
          [
           "Plumas County, California",
           "Sin Nombre Virus, hantavirus",
           2004,
           40.02413157487282,
           -120.7302208123204,
           300
          ],
          [
           "Finland",
           "Puumala virus, hantavirus",
           "Unknown",
           63.363143886410974,
           25.940164127272755,
           300
          ],
          [
           "Blacksburg, VA, USA",
           "Hantavirus",
           2004,
           37.33700058250384,
           -80.35859869624178,
           300
          ],
          [
           "Great Britain",
           "Shigella flexneri, Salmonella typhimurium, Salmonella typhi, M. tuberculosis, non-A non-B hepatitis",
           1986,
           54.29588447236356,
           -1.9852495266377692,
           300
          ],
          [
           "Boston, Massachusetts, USA",
           "Neisseria meningitides",
           2009,
           42.296342761671625,
           -71.06642299244704,
           300
          ],
          [
           "Minnesota, USA",
           "Staphylococcus, Shigella B",
           1986,
           45.952669944584144,
           -94.53801417854757,
           300
          ],
          [
           "Japan",
           "Mycobacterium tuberculosis, Hepatitis B, Non-A Non-B hepatitis, Rubella, Hepatitis A, Mycoplasma, Camplylobacter enteritis, Paratyphus, Salmonella, Varicella",
           1980,
           36.63105741658918,
           139.21427360317267,
           300
          ],
          [
           "Fort Detrick, Maryland, USA",
           "Bacillus anthracis, Yersinia pestis, Francisella tularensis, Burkholderia pseudomallei, Burkholderia mallei, alphavirus, bunyavirus, flavivirus, filovirus, orthopox virus, botulinum toxin",
           1989,
           39.44938829815127,
           -77.47902231069855,
           300
          ],
          [
           "United Kingdom",
           "Hepatitis, Tuberculosis, Chickenpox, Salmonellosis, Shigella, Malaria",
           1979,
           54.733675670738336,
           -3.270751665358672,
           300
          ],
          [
           "Bethesda, MD, USA",
           "Bordetella pertussis",
           1983,
           38.943051573065794,
           -77.11220343561858,
           300
          ],
          [
           "Chandigarh, India",
           "Mycobacterium tuberculosis",
           1987,
           30.8165648363934,
           76.8349047024808,
           300
          ],
          [
           "Georgia, USA",
           "Bordetella pertussis",
           1995,
           32.31640986757629,
           -83.11876785684764,
           300
          ],
          [
           "Seoul, Korea",
           "Hantaan virus",
           1971,
           37.58204820403443,
           127.03408183371404,
           300
          ],
          [
           "Norwood, Massachusetts, USA",
           "Mycobacterium tuberculosis",
           "Unknown",
           42.231935727427704,
           -71.22592434741415,
           300
          ],
          [
           "Osaka, Japan",
           "Corynebacterium equi, Rhodococcus equi",
           1987,
           34.55104226606511,
           135.38428426634846,
           300
          ],
          [
           "Cambridge, United Kingdom",
           "Streptococcus pyogenes group A",
           1981,
           52.23556083396777,
           0.140303565501948,
           300
          ],
          [
           "Seattle, Washington, USA",
           "Mycobacterium tuberculosis",
           2004,
           47.61555965407261,
           -122.28984542837073,
           300
          ],
          [
           "Fort Detrick, Maryland, USA",
           "Rickettsia rickettsii",
           1955,
           39.48687091179116,
           -77.46158829623919,
           300
          ],
          [
           "Massachusetts, USA",
           "Salmonella typhi",
           1977,
           42.406748637195015,
           -72.02181233850999,
           300
          ],
          [
           "Fort Detrick, Maryland, USA",
           "Rickettsia rickettsii",
           1971,
           39.45737011283981,
           -77.4404870696677,
           300
          ],
          [
           "Maryland, USA",
           "Hantavirus: Sin Nombre(SNV) and Andes",
           2004,
           39.50838292032043,
           -76.86690262605082,
           300
          ],
          [
           "Istanbul, Turkey",
           "Brucella spp.",
           2004,
           41.092337400820796,
           28.94049656020483,
           300
          ],
          [
           "Broward County, FL, USA",
           "Burkholderia pseudomallei",
           2005,
           26.228165855601077,
           -80.43939225846529,
           300
          ],
          [
           "Kalamazoo, MI, USA",
           "Herpes B",
           1989,
           42.256530496626624,
           -85.57118689932845,
           300
          ],
          [
           "Ibadan, Nigeria",
           "Chikungunya virus, Dugbe virus, Wesselbron virus, Dengue virus",
           1963,
           7.3338359467833785,
           3.9277792255829147,
           300
          ],
          [
           "Winnipeg, Canada",
           "Ebola",
           2016,
           49.88147941352957,
           -97.0095920005047,
           300
          ],
          [
           "Pensacola, FL, USA",
           "Herpes B",
           1987,
           30.366561728832703,
           -87.28312432107386,
           300
          ],
          [
           "Virginia",
           "Filovirus",
           1990,
           37.16274115150228,
           -78.59266796066152,
           300
          ],
          [
           "Turku, Finland",
           "Cryptosporidium",
           1986,
           60.49800204875998,
           22.24518596481828,
           300
          ],
          [
           "Pune, India",
           "Ganjam virus",
           1977,
           18.482393465238342,
           73.86783346544124,
           300
          ],
          [
           "Washington State, USA",
           "Escherichia coli 0157:h7",
           1987,
           47.33431051462678,
           -120.24767996560745,
           300
          ],
          [
           "United Kingdom",
           "Escherichia coli 0157",
           1996,
           54.76813900752974,
           -3.1962756722855348,
           300
          ],
          [
           "Sweden",
           "Vibrio cholera",
           1992,
           59.63034671703747,
           14.50759339100676,
           300
          ],
          [
           "Alberta, Canada",
           "Neisseria meningitidis",
           "Unknown",
           55.073019482110645,
           -115.01558457315889,
           300
          ],
          [
           "East Lansing, Michigan, USA",
           "Brucella melitensis",
           1938,
           42.66092510298476,
           -84.4796220107003,
           300
          ],
          [
           "Netherlands",
           "Coxiella burnetii",
           1983,
           52.175802863739555,
           5.736166857114617,
           300
          ],
          [
           "Paris, France",
           "Helicobacter pylori",
           "Unknown",
           48.870292947705785,
           2.343942593677401,
           300
          ],
          [
           "Toronto, Ontario, Canada",
           "Coxiella burnetii",
           1982,
           43.643647026001354,
           -79.36265569002846,
           300
          ],
          [
           "Russia",
           "Ratpox [cowpox]",
           1988,
           64.65920259896967,
           97.71015697358456,
           300
          ],
          [
           "Raleigh, North Carolina, USA",
           "Cryptosporidium sp",
           "Unknown",
           35.7798478983032,
           -78.67390461811348,
           300
          ],
          [
           "Suffield, Canada",
           "Neisseria meningitidis",
           "Unknown",
           50.205940704956404,
           -111.20424460910179,
           300
          ],
          [
           "Bronx, New York",
           "Rift Valley Fever virus",
           1932,
           40.833134537080234,
           -73.84849767153538,
           300
          ],
          [
           "Great Britain",
           "Salmonella typhi, Salmonella typhimurium, Salmonella virchow, Vibrio cholerae, Group A Streptococcus",
           1984,
           54.29100612649747,
           -1.8777050326750016,
           300
          ],
          [
           "Texas, USA",
           "Brucella spp.",
           2006,
           31.31649081069457,
           -98.61677381481523,
           300
          ],
          [
           "Japan",
           "Mycobacterium tuberculosis",
           2004,
           36.543774444915655,
           139.1894177123744,
           300
          ],
          [
           "Great Britain",
           "Ringworm, Bacillus anthracis, Brucella spp., Erysipelothrix rhusiopathiae, Leptospira spp., Newcastle virus, Chlamydia psittaci, Orf virus, Salmonella, Streptococcus suis, M. tuberculosis, M. bovis",
           1982,
           54.28017868695342,
           -1.952920091388371,
           300
          ],
          [
           "Little Rock, Arkansas, USA",
           "Mycobacterium tuberculosis",
           "Unknown",
           34.70746405242551,
           -92.29290536329592,
           300
          ],
          [
           "Fort Detrick, Maryland, USA",
           "Francisella tularensis, Coxiella burnetii, Venezuelan Equine Encephalitis",
           1989,
           39.34931977655929,
           -77.42503506802129,
           300
          ],
          [
           "Little Rock, Arkansas, USA",
           "Mycobacterium tuberculosis",
           "Unknown",
           34.82616180452736,
           -92.25078646191709,
           300
          ],
          [
           "Glasgow, UK",
           "T. gondii",
           2001,
           55.93578103716157,
           -4.254967678062597,
           300
          ],
          [
           "Israel",
           "Brucella melitensis",
           2002,
           30.819223547105818,
           34.878802104835565,
           300
          ],
          [
           "Buenos Aires, Argentina",
           "Junin virus",
           1974,
           -34.63364664926748,
           -58.43019008298792,
           300
          ],
          [
           "Woden Valley, Canberra, Australia",
           "Vaccinia vaccine",
           2009,
           -35.40399334453942,
           149.07655935574533,
           300
          ],
          [
           "United Kingdom",
           "Escherichia coli O157",
           1993,
           54.68623339256316,
           -3.396996146479442,
           300
          ],
          [
           "Little Rock, Arkansas, USA",
           "Mycobacterium tuberculosis",
           "Unknown",
           34.65935295991721,
           -92.29077068805623,
           300
          ],
          [
           "Fort Detrick, Maryland, USA",
           "Yersinia pestis, Burkholderia mallei, Venezuelan Equine Encephalitis, Chikungunya, Vaccinia",
           1989,
           39.47425990990352,
           -77.39949594961365,
           300
          ],
          [
           "Japan",
           "Tuberculosis, hepatitis A, hepatitis B, non-A non-B hepatitis, rubella, mycoplasma, Campylobacter, paratyphus, Salmonella, Chicken pox (Varicella zoster)",
           1979,
           36.468188715715115,
           139.25478528153536,
           300
          ],
          [
           "Belgium",
           "Salmonella, Mycobacterium tuberculosis, Brucella, Shigella, Coxiella burnetii, Mycoplasma, Campylobacter, Bacillus Calmette Guerin, Bartonella, Listeria",
           2007,
           50.72328468767441,
           4.782117537678454,
           300
          ],
          [
           "Belgium",
           "Trypanosoma brucei gambiense, Toxoplasma gondi",
           2007,
           50.71480703014577,
           4.7027549008371015,
           300
          ],
          [
           "Fort Detrick, Maryland, USA",
           "Francisella tularensis",
           2009,
           39.46617154902185,
           -77.44362631350734,
           300
          ],
          [
           "Belgium",
           "Trichophyton verrucosum, Microsporum canis",
           2007,
           50.52560009894551,
           4.7028474281890595,
           300
          ],
          [
           "Boston, Massachusetts, USA",
           "Neisseria meningitidis",
           2009,
           42.193900617728325,
           -71.11357217279078,
           300
          ],
          [
           "Belgium",
           "Herpes virus, Hepatitis B virus, Parvovirus B19, Human immunodeficiency virus, Rubella virus, Avian influenza virus, Rabies virus, Recombinanant viral vector",
           2007,
           50.698988410445025,
           4.545901621756568,
           300
          ],
          [
           "France",
           "Bacillus anthracis",
           2009,
           46.628966019531944,
           2.000650728504823,
           300
          ],
          [
           "England",
           "Foot and mouth disease virus",
           2007,
           52.55641060640238,
           -1.2343493450584695,
           300
          ],
          [
           "Russia",
           "Ebola virus",
           2004,
           64.7476196542404,
           97.6925661628592,
           300
          ],
          [
           "New York State, USA",
           "Lymphocytic Choriomeningitis Virus (LCM)",
           1971,
           43.15161819929951,
           -75.91817179425153,
           300
          ],
          [
           "Buenos Aires, Argentina",
           "Junin virus, Argentine hemorrhagic fever",
           "Unknown",
           -34.66825357925823,
           -58.391085537918315,
           300
          ],
          [
           "Fort Detrick, Maryland, USA",
           "Ebola virus",
           2004,
           39.51815392749357,
           -77.40629388444471,
           300
          ],
          [
           "Marseille, France",
           "Mimivirus",
           2004,
           43.316132659740646,
           5.398666504169907,
           300
          ],
          [
           "Fort Detrick, Maryland, USA",
           "Rickettsia, rickettsii",
           1955,
           39.39425397064412,
           -77.41691552076921,
           300
          ],
          [
           "UK",
           "Corynebacterium diptheriae",
           1997,
           54.62585264326727,
           -3.367286989916307,
           300
          ],
          [
           "Georgia, USA",
           "Cowpox virus",
           2010,
           32.42568565143115,
           -83.1372495378029,
           300
          ],
          [
           "Virginia, USA",
           "Vaccinia virus",
           2008,
           37.13421997007072,
           -78.46621376710627,
           300
          ],
          [
           "Marseille, France",
           "Mimivirus",
           2004,
           43.23160505741401,
           5.398739445022084,
           300
          ],
          [
           "Beijing, China",
           "SARS virus and polio virus type 1",
           2004,
           40.017937059464984,
           116.4551636383888,
           300
          ],
          [
           "Japan",
           "Human parvovirus B19 (HPV/B19)",
           1987,
           36.52577046552131,
           139.26454524669953,
           300
          ],
          [
           "The Netherlands",
           "Poliovirus type 1",
           1992,
           52.255089681513404,
           5.419949443412751,
           300
          ],
          [
           "San Diego, CA, USA",
           "Vaccinia virus",
           2018,
           32.74852510077433,
           -117.08811244955959,
           300
          ],
          [
           "New Haven, Connecticut",
           "Rocio",
           1981,
           41.37340995918688,
           -73.00025084062204,
           300
          ],
          [
           "Cambridge, Massachusetts, USA",
           "Dengue virus",
           2002,
           42.25946926959637,
           -71.10565473447262,
           300
          ],
          [
           "Madison, Wisconsin, USA",
           "Recombinant raccoonpox virus",
           2003,
           42.934449851646,
           -89.28673492801397,
           300
          ],
          [
           "Japan",
           "Brucella abortus",
           2019,
           36.6394279172942,
           139.27565113738635,
           300
          ],
          [
           "Guangzhou, Guangdong Province, China",
           "SARS-CoV, coronavirus, SARS",
           2003,
           23.153547660299342,
           113.29903842123016,
           300
          ],
          [
           "Birmingham, England",
           "Smallpox",
           "Unknown",
           52.44295287853829,
           -1.8504082384835279,
           300
          ],
          [
           "Gansu Province, China",
           "Brucella",
           2019,
           38.031965658610225,
           101.98125221791857,
           300
          ],
          [
           "South Africa",
           "Polio",
           1941,
           -28.85744266894197,
           25.012434958431804,
           300
          ],
          [
           "Kagoshima, Japan",
           "Herpes B virus",
           2019,
           31.429033008309652,
           130.51395328189867,
           300
          ],
          [
           "Houston, Texas, USA",
           "Pichinde virus (Arenavirus)",
           1974,
           29.793712138178858,
           -95.40034724331598,
           300
          ],
          [
           "Singapore",
           "Brucella melitensis",
           2018,
           1.3486449398925895,
           103.72377724970977,
           300
          ],
          [
           "Maryland",
           "Cell-culture-adapted Hantavirus",
           1994,
           39.51800718423579,
           -76.91797927921368,
           300
          ],
          [
           "South Africa",
           "Salmonella enterica Typhi",
           2012,
           -28.910751573741237,
           24.909922732963068,
           300
          ],
          [
           "Germany",
           "Semliki Forest Virus",
           1978,
           51.155763638837335,
           10.400250053655492,
           300
          ],
          [
           "Germany",
           "Influenza A H2N2 (A/Japan/305/57)",
           2004,
           51.145943080093154,
           10.37828980917472,
           300
          ],
          [
           "New York, USA",
           "Rabies virus, modified live rabies virus",
           1977,
           40.76620918469108,
           -73.8853605983415,
           300
          ],
          [
           "Tai National Park, Cote-d'Ivoire",
           "Ebola virus",
           1994,
           5.641337622411612,
           -7.119627784440054,
           300
          ],
          [
           "Turkey",
           "Crimean-Congo Haemorrhagic Fever (CCHF) virus",
           2002,
           38.96762644100938,
           34.89716125100844,
           300
          ],
          [
           "Pittsburgh, PA, USA",
           "Zika Virus",
           2016,
           40.490514290596536,
           -80.06000563941903,
           300
          ],
          [
           "Cote d'Ivoire",
           "Ebola virus",
           1994,
           8.035205124947593,
           -5.551872111046679,
           300
          ],
          [
           "Taiwan",
           "SARS-CoV, SARS, coronavirus",
           2003,
           23.985995581003426,
           120.92700366391884,
           300
          ],
          [
           "Hamburg, Germany",
           "Ebola virus",
           2009,
           53.54849805766775,
           9.933009225275523,
           300
          ],
          [
           "Texas, USA",
           "Rabies Virus “fixed” laboratory strain",
           1973,
           31.36453968170203,
           -98.53798165958155,
           300
          ],
          [
           "Arkansas, USA",
           "Salmonella typhi, Salmonella agona",
           1980,
           35.270623756225355,
           -92.42378929113984,
           300
          ],
          [
           "Hamburg, Germany",
           "Ebola virus",
           2009,
           53.58438461199497,
           10.053042308564903,
           300
          ],
          [
           "Texas",
           "Coxiella burnetii",
           2009,
           31.23162115383877,
           -98.48117416507564,
           300
          ],
          [
           "Melbourne, Victoria, Australia",
           "Fowl plague virus",
           1977,
           -37.807643105439254,
           144.8548136817521,
           300
          ],
          [
           "Washington, D.C., USA",
           "Escherichia coli O157:H7",
           2003,
           38.91637499833243,
           -77.08884260783063,
           300
          ],
          [
           "Wyndmoor, Pennsylvania, USA",
           "Escherichia coli O157:H7",
           2002,
           40.12078079454673,
           -75.09744696182426,
           300
          ],
          [
           "Andaman & Nicobar Islands, India",
           "Leptospira",
           2003,
           13.453752110989628,
           92.89303604047693,
           300
          ],
          [
           "Beijing, China",
           "SARS coronavirus",
           2004,
           39.966528396535345,
           116.35658895232628,
           300
          ],
          [
           "Maryland, USA",
           "Ebola virus Zaire, Machupo, Japanese Encephalitis Virus, Dengue, Lassa, Junin, Rift Valley Fever",
           2004,
           39.57051241797492,
           -76.99867399995155,
           300
          ],
          [
           "Taipei, Taiwan",
           "SARS coronavirus",
           2003,
           25.076233145144183,
           121.6241112199819,
           300
          ],
          [
           "New Haven, CT, USA",
           "Poliomyelitis Virus",
           1945,
           41.32401190659689,
           -72.8836432889567,
           300
          ],
          [
           "Taipei, Taiwan",
           "SARS",
           2004,
           25.06858572955961,
           121.53875749365733,
           300
          ],
          [
           "Beijing, China",
           "SARS coronavirus",
           2004,
           39.87229385815606,
           116.4047849156849,
           300
          ],
          [
           "Melbourne, Australia",
           "Newcastle virus, Albiston-Gorrie strain",
           1987,
           -37.83365409977908,
           144.87925257494584,
           300
          ],
          [
           "Miyagi, Japan",
           "Influenza B",
           "Unknown",
           38.454355462162226,
           141.0029715032687,
           300
          ],
          [
           "Hamburg, Germany",
           "Ebola virus Zaire",
           2009,
           53.4718331510482,
           9.991978078944028,
           300
          ],
          [
           "Uttara Kannada District, India",
           "Kyasanur Forest Virus Disease Virus",
           1957,
           14.931449375043405,
           74.61614488909899,
           300
          ],
          [
           "Houston, Texas, USA",
           "Orf virus",
           1982,
           29.722603106516324,
           -95.43205857225426,
           300
          ],
          [
           "Ames, Iowa, USA",
           "Leptospira sp.",
           1987,
           42.06730054394984,
           -93.64154070266841,
           300
          ],
          [
           "Bristol, England",
           "Coxiella burneti",
           1981,
           51.53467773948128,
           -2.700053766813318,
           300
          ],
          [
           "Arizona, USA",
           "Vaccinia virus",
           2007,
           34.52675909190956,
           -111.68431942441863,
           300
          ],
          [
           "Tucson, Arizona",
           "Vaccinia",
           2003,
           32.30059734165489,
           -111.06760766674213,
           300
          ],
          [
           "Osaka, Japan",
           "Dengue virus",
           1980,
           34.47610844587382,
           135.41447113676816,
           300
          ],
          [
           "Amsterdam, Netherlands",
           "Mycobacterium tuberculosis",
           1994,
           52.45974335367544,
           5.014676858140624,
           300
          ],
          [
           "Andaman & Nicobar Islands, India",
           "Leptospirosis",
           2003,
           13.513917297427218,
           92.86419517857927,
           300
          ],
          [
           "Boston, MA, USA",
           "Mycobacterium tuberculosis",
           1997,
           42.296459477133475,
           -71.07957308409053,
           300
          ],
          [
           "Hunan Province, China",
           "Bacillus anthracis",
           2017,
           27.673334604614293,
           111.74636657616763,
           300
          ],
          [
           "Atlanta, Georgia, USA",
           "Ebola virus",
           2014,
           33.68851884137121,
           -84.45782861987826,
           300
          ],
          [
           "Paris, France",
           "Bovine spongiform encephalopathy prion",
           2010,
           48.78300240172599,
           2.3128066164598766,
           300
          ],
          [
           "Chicago, Illinois, USA",
           "Bacillus cereus",
           2011,
           41.93987697847892,
           -87.60481170418461,
           300
          ],
          [
           "North Carolina, USA",
           "Dengue virus",
           2018,
           35.58914796347198,
           -79.0417327515733,
           300
          ],
          [
           "France",
           "Prions/bovine spongiform encephalopathy (BSE)/variant Creutzfeldt-Jakob disease (vCJD)",
           2010,
           46.62433359227619,
           1.9213289883269962,
           300
          ],
          [
           "Middlesex, England",
           "Herpes B virus, monkey B virus",
           1957,
           51.65466371332352,
           -0.2604997707464806,
           300
          ],
          [
           "Alaska, USA",
           "Brucella suis",
           2012,
           64.47598371171526,
           -149.67981971087042,
           300
          ],
          [
           "New York, USA",
           "Herpes B virus, monkey B virus",
           1932,
           40.74286660375145,
           -74.01121313977816,
           300
          ],
          [
           "East Lansing, Michigan, USA",
           "Brucella melitensis",
           1938,
           42.684809265952254,
           -84.42782426949253,
           300
          ],
          [
           "Boulder County, Colorado, USA",
           "Sin Nombre virus, hantavirus",
           2005,
           40.05401153584932,
           -105.34048026850488,
           300
          ],
          [
           "Japan",
           "Hemorrhagic Fever with Renal Syndrome virus (HFRS virus)",
           1985,
           36.56500083833492,
           139.10710874299315,
           300
          ],
          [
           "Atlanta, Georgia, USA",
           "Rocky Mountain Spotted Fever",
           1977,
           33.797620918630265,
           -84.37260039407863,
           300
          ],
          [
           "Hokuriku, Japan",
           "Sporothrix schenckii",
           1966,
           36.6001052940486,
           136.68412525654378,
           300
          ],
          [
           "East Lansing, Michigan, USA",
           "Mycobacterium bovis",
           2018,
           42.74525347471663,
           -84.48593238283324,
           300
          ],
          [
           "Madras, India",
           "Trichophyton simii",
           1979,
           13.04947251961236,
           80.18713678201487,
           300
          ],
          [
           "Pune, India",
           "Dengue Virus type 2",
           1983,
           18.558213723829326,
           73.77787751091624,
           300
          ],
          [
           "Switzerland",
           "Escherichia coli O157:H7 strain NZ 2149-92",
           1992,
           46.76580636522548,
           8.255430438319431,
           300
          ],
          [
           "California, USA",
           "Sin Nombre virus, hantavirus",
           "Unknown",
           36.77900552027851,
           -118.70169387150231,
           300
          ],
          [
           "France",
           "Bovine spongiform encephalopathy prion, variant Creutzfeldt-Jakob disease",
           2010,
           46.68138807768756,
           1.896195738082833,
           300
          ],
          [
           "Lanzhou, China",
           "Brucella spp.",
           "Unknown",
           36.008875822195805,
           103.85530547886644,
           300
          ],
          [
           "Africa",
           "Ganjam virus",
           1984,
           11.537629688548042,
           17.790325474873494,
           300
          ],
          [
           "Taipei, Taiwan",
           "SARS",
           2003,
           25.071524918421034,
           121.56600461578171,
           300
          ],
          [
           "Taipei, Taiwan",
           "SARS-CoV-2",
           2021,
           25.009728559719026,
           121.5325846468273,
           300
          ],
          [
           "Novosibirsk, Russia",
           "Marburg Virus",
           1990,
           55.06764108226468,
           82.90068011753743,
           300
          ],
          [
           "Albany, NY",
           "Sporothrix schenckii",
           1989,
           42.667598259369115,
           -73.74773310571688,
           300
          ],
          [
           "Fort Detrick, Maryland, USA",
           "Pasteurella pestis, Yersinia pestis",
           1959,
           39.42716013457195,
           -77.3818256555977,
           300
          ],
          [
           "Toulouse, France",
           "Creutzfeldt-Jakob Disease",
           2021,
           43.532589873160916,
           1.4813795753142893,
           300
          ],
          [
           "New York, New York, USA",
           "Brucella spp., Brucella melitensis, Brucella abortus",
           2015,
           40.67128794805167,
           -73.88004659452498,
           300
          ],
          [
           "Toronto, Ontario, Canada",
           "Coccidioides immitis, Coccidioides posadasii",
           2012,
           43.653712092848345,
           -79.27595733618057,
           300
          ],
          [
           "France",
           "Creutzfeldt-Jakob Disease",
           2019,
           46.50313557416336,
           1.861143971898189,
           300
          ],
          [
           "China",
           "Brucella spp",
           2006,
           34.98152976643472,
           104.95438854057286,
           300
          ],
          [
           "Washington, DC, USA",
           "Vibrio cholerae Inaba strain 20A67 and Vibrio cholerae Ogawa strain",
           1965,
           38.8922103800819,
           -77.02676553518266,
           300
          ],
          [
           "Pennsylvania, USA",
           "Zika",
           2016,
           40.97499653938426,
           -77.81024335102357,
           300
          ],
          [
           "Beijing, China",
           "Monkey B virus, Herpes B virus, Macacine alphaherpesvirus 1",
           2021,
           39.8278254343366,
           116.35253578401701,
           300
          ],
          [
           "Jouy-en-Josas, France",
           "Bovine spongiform encephalopathy prion, variant Creutzfeldt-Jakob disease",
           2010,
           48.82156150830995,
           2.145623822558762,
           300
          ],
          [
           "Basel, Switzerland",
           "Lymphocytogenic choriomeningitis virus, LCMV",
           2017,
           47.5671081004023,
           7.694111758806022,
           300
          ],
          [
           "Lausanne, Switzerland",
           "Lymphocytogenic choriomeningitis virus, LCMV",
           2016,
           46.5847654272602,
           6.678314745435184,
           300
          ],
          [
           "Taipei, Taiwan",
           "SARS-CoV-2, COVID-19",
           2021,
           25.059216654154092,
           121.56784108718871,
           300
          ],
          [
           "China",
           "Brucella melitensis biovar",
           2006,
           35.09183249128804,
           105.01234355981026,
           300
          ]
         ],
         "hovertemplate": "<b>%{hovertext}</b><br><br>Location=%{customdata[0]}<br>Agent=%{customdata[1]}<br>Year=%{customdata[2]}<extra></extra>",
         "hovertext": [
          "Brucella melitensis",
          "Francisella tularensis Type A",
          "Sabiá virus",
          "Buffalopox virus (BPXV)",
          "Dengue",
          "Dengue Virus Serotype 2 (DENV-type 2)",
          "Leishmania (Viannia) naiffi",
          "Plasmodium falciparum",
          "Titi Monkey Adenovirus (TMAdV)",
          "Cryptosporidium sp.",
          "Escherichia coli O157:H7",
          "Streptobacillus moniliformis (rat bite fever)",
          "Salmonella Typhimurium",
          "Vaccinia virus (Western Reserve)",
          "Brucella spp.",
          "Neisseria meningitidis serogroups B and C",
          "SARS-CoV",
          "Viral hepatatis, tuberculosis and brucellosis as the tmost common ones, followed by amebiasis, malaria, zoster, toxoplasmosis, varicella, mumps, mycosis, listeriosis and others",
          "Sabiá virus",
          "Hepatitis B Virus",
          "Vesicular Stomatitis Virus",
          "Neisseria meningitidis",
          "Trypanosoma cruzi",
          "Chlamydia trachomatis",
          "Brucella melitensis",
          "Brucella melitensis",
          "Bacillus Calmette-Guerin (BCG) vaccine",
          "Salmonella enterica (serotype Typhi)",
          "Bacillus anthracis",
          "Vaccinia virus",
          "Bacille Calmette-Guerin (BCG)",
          "Brucella spp.",
          "Salmonella enteritidis and Neisseria meningitidis, group C",
          "Burkholderia pseudomallei",
          "Machupo virus",
          "Brucella suis",
          "Salmonella enteritidis (phage type 8)",
          "Brucella suis",
          "Lymphocytic choriomeningitis virus",
          "Brucella melitensis",
          "Brucella melitensis",
          "HIV",
          "Brucella abortus RB51",
          "Vaccinia (VACV Western reserve strain - contaminant of the recombinant construct OVA-vac with which the lab was working",
          "Brucella melitensis",
          "Vaccinia virus",
          "Vibrio cholerae",
          "Sporothrix schenckii",
          "Neisseria meningitidis serogroup C and serogroup B",
          "Lymphocytic Choriomeningitis Virus (LCMV)",
          "Avian Influenza A(H7N2)",
          "SARS coronavirus",
          "Histoplasma capsulatum var capsulatum",
          "Brucella melitensis",
          "Sin Nombre virus",
          "lymphocytic choriomeningitis virus (LCMV)",
          "Blastomyces dermatiditis",
          "Brucella ceti",
          "Brucella spp.",
          "Brucella melitensis",
          "Brucella melitensis",
          "Brucella melitensis",
          "Bacillus anthracis",
          "Mayaro virus",
          "Staphylococcus aureus",
          "Coxiella burnetii",
          "Anthroderma benhamiae",
          "Echovirus 11",
          "Coxiella burnetii",
          "Penicillium marneffei",
          "Cryptosporidium",
          "Ebola virus",
          "Echo 11 Virus",
          "Creutzfeldt-Jakob disease",
          "Creutzfeldt-Jakob disease",
          "Vibrio parahaemolyticus",
          "Brucella sp.",
          "Shigella sonnei",
          "Mycobacterium tuberculosis",
          "Mycobacterium tuberculosis",
          "Rickettsia rickettsii",
          "Escherichia coli O157:H7",
          "Omsk Hemorrhagic Fever Virus (Flavidivirdiae, Flavivirus, Tick-borne Encephalitis Antigenic Compliex",
          "Vaccinia Virus",
          "Coccidioides posadasii",
          "Seoul Virus and Hantavirus",
          "Creutzfeld-Jakob disease",
          "Newcastle Disease virus (NDV)",
          "Hantavirus",
          "Brucella melitensis",
          "Candidatus Mycoplasma haemohominis",
          "Brucella suis",
          "Meticillin-Resistant Staphylococcus aureus (MRSA) multilocus sequence type 5 (paediatric) and 8 (New York/Japan strain)",
          "Hepatitis A, Hepatitis B and non-A, non-B Hepatitis, Tuberculosis, Shigella, Brucella, Herpes, unidentified bowel infections",
          "Zika Virus (ZIKV) Brazilian strain",
          "Mycobacterium tuberculosis; Tuberculosis",
          "Brucella melitensis biovar",
          "Francisella tularensis type B subspecies holarctica",
          "Creutzfeld-Jakob disease",
          "Neisseria meningitidis serogroup B",
          "African horsesickness virus",
          "Venezuelan Equine Encephalomyelitis virus (VEE_",
          "Kyasanur Forest Disease Virus",
          "Vesicular Stomatitis Virus (Rhabdoviridae, Vesilculovirus, Vesicular Stomatitis Antigenic Group)",
          "Crimean-Congo Hemorrhagic Fever Virus (Bunyaviridae, Bunyaviirus, CHF-Congo Antigenic Group",
          "Hantavirus, Sin Nombre Virus (monongahela)",
          "Dhori Virus (Orthomyxoviridae)",
          "Simian Foamy Virus",
          "Hemorrhagic Fever with the Renal Syndrome (Bunyaviridae, Hantavirus(",
          "West Nile Virus, lineage 2",
          "Brucella abortus strain S19",
          "Novel adenovirus (BaAdV-1, BaAdV-2(",
          "Toxoplasma gondii",
          "Mycobacterium tuberculosis",
          "HIV, Hepatitis C",
          "Enterobacter aerogenes",
          "Arthorderma benhamiae",
          "Influenza A (H1N1)",
          "Vaccinia virus",
          "Lymphocytic choriomeningitis virus (LCMV)",
          "Vaccinia virus",
          "Plasmodium falciparum",
          "Bacillus anthracis",
          "West Nile virus",
          "Hepatitis C, Shigella sonnei, Shigella flexneri, Escherichia coli O157, Mycobacterium tuberculosis",
          "Dengue type 1",
          "Brucella melitensis",
          "Shigella",
          "Burkholderia mallei",
          "Francisella tularensis",
          "Brucella melitensis",
          "Toxoplasma gondii (RH strain)",
          "Mycobacterium tuberculosis, Brucella spp, Hepatitis virus and Shigella spp.",
          "Trypanosoma cruzi (strain Y)",
          "Yersinia pestis",
          "Trypanosoma gambiense",
          "Cryptosporidium",
          "Coxiella burnetti",
          "T.gondii and L.monocytogenes",
          "Coxiella burnetti",
          "Toxoplasma gondii",
          "Coxiella burnetti",
          "Brucella sp.",
          "Coxiella burnetti",
          "Leishmania mexicana",
          "Plasmodium falciparum",
          "Chiamydia pneumoniae,",
          "Influenza A virus (A/Seal/Mass/1/80[H7N7])",
          "Trypanosoma gambiense (strain FEO ITMAP-1893)",
          "Campylobacter jejuni",
          "Brucella abortus",
          "Venezuelan Equine Encephalitis virus",
          "Campylobacter fetus ss jejuni",
          "Trypanosoma cruzi (strain CL)",
          "Burkholderia (Pseudomonas) pseudomallei",
          "Shigella flexneri",
          "Francisella tularensis",
          "Brucella melitensis, Rev-1",
          "Case 1 - Leptospira interrogans serogroup Icterohaemorrhagiae strain CF1",
          "Verotoxin-producing Escherichia coli (VTEC) (O157:H7)",
          "Recombinant Vaccinia virus strain Western Reserve",
          "Cercopithecid herpesvirus 1, Herpesvirus simiae",
          "West Nile Virus",
          "Escherichia coli O117:K1:H7",
          "Neisseria meningitidis Group C",
          "Neisseria meningitidis Group B",
          "Burkholderia (Pseudomonas) pseudomallei",
          "Francisella tularensis",
          "Helicobacter pylori",
          "Chlamydia pneumoniae Kajaani 6",
          "Leptospira interrogans serovar hardjo",
          "Chlamydophila/Chlamydia pneumoniae",
          "Corynebacterium diphtheriae var gravis",
          "Corynebacterium diphtheriae NCTC 10684",
          "Bovine stomatitis virus",
          "Chlamydia trachomatis",
          "Chlamydia trachomatis",
          "Chlamydia pneumoniae",
          "Mycobacterium leprae",
          "Mycobacterium tuberculosis",
          "Vaccinia virus",
          "Mycobacterium tuberculosis",
          "Escherichia coli O157:H7",
          "Neisseria meningitidis Group C",
          "Francisella tularensis",
          "Mycobacterium tuberculosis",
          "Cryptosporidium",
          "Cryptosporidium",
          "Rocky Mountain Spotted Fever (RMSF)",
          "Orentia tsutsugamushi",
          "Neisseria Meningitidis, group C",
          "Mycobacterium Kansasii",
          "Streptobacillus moniliformis",
          "Neisseria gonorrhoeae strain 188 T1",
          "Staphylococcus aureus, MRSA, MSSA",
          "Rickettsia typhi",
          "Staphylococcus aureus, MRSA, EMRSA",
          "Mycobacterium tuberculosis",
          "Shigella flexneri",
          "Salmonella typhi",
          "Salmonella typhimurium",
          "Shigella dysenteriae",
          "Salmonella typhi, Salmonella paratyphi A, Salmonella paratyphi B",
          "Neisseria meningitidis",
          "Neisseria gonorrhoeae",
          "Shigella boydii",
          "Yersinia pestis",
          "Rickettsia typhi",
          "HIV-2",
          "Salmonella typhimurium strain LT-2",
          "Bacteroides asaccharolyticus",
          "Neisseria gonorrhoeae",
          "Neisseria gonorrhoeae",
          "Neisseria gonorrhoeae",
          "Neisseria meningitidis",
          "Neisseria meningitidis",
          "Rickettsia sp. (Rocky Mounted Spotted Fever)",
          "Salmonella typhi; Salmonella give",
          "Bordetella pertussis",
          "Brucella melitensis",
          "Brucella melitensis",
          "Brucella melitensis",
          "Brucella melitensis",
          "Brucella",
          "Pasteurella multocida",
          "Brucella melitensis",
          "Brucella abortus Strain 19",
          "Brucella melitensis",
          "Brucella melitensis",
          "Brucella melitensis",
          "Brucella melitensis",
          "Vaccinia virus -recombinant WR strain, thymidiine kinase negative",
          "Vesicular stomatitis virus",
          "Vaccinia virus",
          "Vaccina virus recombined with Hepatitis C virus protein",
          "West Nile virus lineage 2",
          "tick-born encephalitis virus",
          "recombinant vaccinia viruses expressing RSV glycoprotein G and RSV 22K protein",
          "Vaccinia virus",
          "Simian Foamy Virus (SFV)",
          "Vesivirus",
          "Brucella",
          "Brucella sp.",
          "Brucella melitensis",
          "Vibrio parahaemolyticus",
          "Brucella abortus, Strain 19",
          "Salmonella typhi",
          "Burkholderia pseudomallei",
          "Salmonellya typhimurium",
          "Salmonella typhi",
          "Brucella abortus",
          "Brucella melitensis",
          "Bacillus cereus",
          "Salmonella enterica Enteritidis",
          "Rickettsia typhi",
          "Orientia tsutsugamushi",
          "Brucella spp.",
          "Brucella melitensis",
          "Brucella spp.",
          "Brucella spp.",
          "Herpes B Virus",
          "Burkholderia pseudomallei",
          "Campylobacter jejuni strain VLA2/18",
          "Mycobacterium tuberculosis",
          "Brucella melitensis",
          "Brucella melitensis",
          "Brucella melitensis",
          "Brucella sp.",
          "Brucella sp.",
          "Lymphocytic choriomeningitis virus",
          "Vaccinia virus",
          "Plasmodium vivax",
          "Burkolderia (Pseudomonas) pseudomallei",
          "Brucella melitensis",
          "Vesicular stomatitis virus",
          "Treponema pallidum, Nichols strain",
          "Echinoccus spp.",
          "Salmonella enterica Serovar Typhimurium",
          "Mycoplasma caviae",
          "AHC virus (enterovirus 70)",
          "Blastomyces dermatitidis",
          "Kyasanur Forest Disease Virus",
          "West Nile Virus",
          "West Nile Virus",
          "Recombinant WR strain vaccinia virus expressing VSV(IND serotype) protein N",
          "Ebola virus",
          "Brucella spp.",
          "Zika virus",
          "Brucella spp.",
          "Brucella melitensis",
          "Hantavirus",
          "Hantavirus",
          "Korean haemorrhagic fever",
          "Sin Nombre Virus, hantavirus",
          "Puumala virus, hantavirus",
          "Hantavirus",
          "Shigella flexneri, Salmonella typhimurium, Salmonella typhi, M. tuberculosis, non-A non-B hepatitis",
          "Neisseria meningitides",
          "Staphylococcus, Shigella B",
          "Mycobacterium tuberculosis, Hepatitis B, Non-A Non-B hepatitis, Rubella, Hepatitis A, Mycoplasma, Camplylobacter enteritis, Paratyphus, Salmonella, Varicella",
          "Bacillus anthracis, Yersinia pestis, Francisella tularensis, Burkholderia pseudomallei, Burkholderia mallei, alphavirus, bunyavirus, flavivirus, filovirus, orthopox virus, botulinum toxin",
          "Hepatitis, Tuberculosis, Chickenpox, Salmonellosis, Shigella, Malaria",
          "Bordetella pertussis",
          "Mycobacterium tuberculosis",
          "Bordetella pertussis",
          "Hantaan virus",
          "Mycobacterium tuberculosis",
          "Corynebacterium equi, Rhodococcus equi",
          "Streptococcus pyogenes group A",
          "Mycobacterium tuberculosis",
          "Rickettsia rickettsii",
          "Salmonella typhi",
          "Rickettsia rickettsii",
          "Hantavirus: Sin Nombre(SNV) and Andes",
          "Brucella spp.",
          "Burkholderia pseudomallei",
          "Herpes B",
          "Chikungunya virus, Dugbe virus, Wesselbron virus, Dengue virus",
          "Ebola",
          "Herpes B",
          "Filovirus",
          "Cryptosporidium",
          "Ganjam virus",
          "Escherichia coli 0157:h7",
          "Escherichia coli 0157",
          "Vibrio cholera",
          "Neisseria meningitidis",
          "Brucella melitensis",
          "Coxiella burnetii",
          "Helicobacter pylori",
          "Coxiella burnetii",
          "Ratpox [cowpox]",
          "Cryptosporidium sp",
          "Neisseria meningitidis",
          "Rift Valley Fever virus",
          "Salmonella typhi, Salmonella typhimurium, Salmonella virchow, Vibrio cholerae, Group A Streptococcus",
          "Brucella spp.",
          "Mycobacterium tuberculosis",
          "Ringworm, Bacillus anthracis, Brucella spp., Erysipelothrix rhusiopathiae, Leptospira spp., Newcastle virus, Chlamydia psittaci, Orf virus, Salmonella, Streptococcus suis, M. tuberculosis, M. bovis",
          "Mycobacterium tuberculosis",
          "Francisella tularensis, Coxiella burnetii, Venezuelan Equine Encephalitis",
          "Mycobacterium tuberculosis",
          "T. gondii",
          "Brucella melitensis",
          "Junin virus",
          "Vaccinia vaccine",
          "Escherichia coli O157",
          "Mycobacterium tuberculosis",
          "Yersinia pestis, Burkholderia mallei, Venezuelan Equine Encephalitis, Chikungunya, Vaccinia",
          "Tuberculosis, hepatitis A, hepatitis B, non-A non-B hepatitis, rubella, mycoplasma, Campylobacter, paratyphus, Salmonella, Chicken pox (Varicella zoster)",
          "Salmonella, Mycobacterium tuberculosis, Brucella, Shigella, Coxiella burnetii, Mycoplasma, Campylobacter, Bacillus Calmette Guerin, Bartonella, Listeria",
          "Trypanosoma brucei gambiense, Toxoplasma gondi",
          "Francisella tularensis",
          "Trichophyton verrucosum, Microsporum canis",
          "Neisseria meningitidis",
          "Herpes virus, Hepatitis B virus, Parvovirus B19, Human immunodeficiency virus, Rubella virus, Avian influenza virus, Rabies virus, Recombinanant viral vector",
          "Bacillus anthracis",
          "Foot and mouth disease virus",
          "Ebola virus",
          "Lymphocytic Choriomeningitis Virus (LCM)",
          "Junin virus, Argentine hemorrhagic fever",
          "Ebola virus",
          "Mimivirus",
          "Rickettsia, rickettsii",
          "Corynebacterium diptheriae",
          "Cowpox virus",
          "Vaccinia virus",
          "Mimivirus",
          "SARS virus and polio virus type 1",
          "Human parvovirus B19 (HPV/B19)",
          "Poliovirus type 1",
          "Vaccinia virus",
          "Rocio",
          "Dengue virus",
          "Recombinant raccoonpox virus",
          "Brucella abortus",
          "SARS-CoV, coronavirus, SARS",
          "Smallpox",
          "Brucella",
          "Polio",
          "Herpes B virus",
          "Pichinde virus (Arenavirus)",
          "Brucella melitensis",
          "Cell-culture-adapted Hantavirus",
          "Salmonella enterica Typhi",
          "Semliki Forest Virus",
          "Influenza A H2N2 (A/Japan/305/57)",
          "Rabies virus, modified live rabies virus",
          "Ebola virus",
          "Crimean-Congo Haemorrhagic Fever (CCHF) virus",
          "Zika Virus",
          "Ebola virus",
          "SARS-CoV, SARS, coronavirus",
          "Ebola virus",
          "Rabies Virus “fixed” laboratory strain",
          "Salmonella typhi, Salmonella agona",
          "Ebola virus",
          "Coxiella burnetii",
          "Fowl plague virus",
          "Escherichia coli O157:H7",
          "Escherichia coli O157:H7",
          "Leptospira",
          "SARS coronavirus",
          "Ebola virus Zaire, Machupo, Japanese Encephalitis Virus, Dengue, Lassa, Junin, Rift Valley Fever",
          "SARS coronavirus",
          "Poliomyelitis Virus",
          "SARS",
          "SARS coronavirus",
          "Newcastle virus, Albiston-Gorrie strain",
          "Influenza B",
          "Ebola virus Zaire",
          "Kyasanur Forest Virus Disease Virus",
          "Orf virus",
          "Leptospira sp.",
          "Coxiella burneti",
          "Vaccinia virus",
          "Vaccinia",
          "Dengue virus",
          "Mycobacterium tuberculosis",
          "Leptospirosis",
          "Mycobacterium tuberculosis",
          "Bacillus anthracis",
          "Ebola virus",
          "Bovine spongiform encephalopathy prion",
          "Bacillus cereus",
          "Dengue virus",
          "Prions/bovine spongiform encephalopathy (BSE)/variant Creutzfeldt-Jakob disease (vCJD)",
          "Herpes B virus, monkey B virus",
          "Brucella suis",
          "Herpes B virus, monkey B virus",
          "Brucella melitensis",
          "Sin Nombre virus, hantavirus",
          "Hemorrhagic Fever with Renal Syndrome virus (HFRS virus)",
          "Rocky Mountain Spotted Fever",
          "Sporothrix schenckii",
          "Mycobacterium bovis",
          "Trichophyton simii",
          "Dengue Virus type 2",
          "Escherichia coli O157:H7 strain NZ 2149-92",
          "Sin Nombre virus, hantavirus",
          "Bovine spongiform encephalopathy prion, variant Creutzfeldt-Jakob disease",
          "Brucella spp.",
          "Ganjam virus",
          "SARS",
          "SARS-CoV-2",
          "Marburg Virus",
          "Sporothrix schenckii",
          "Pasteurella pestis, Yersinia pestis",
          "Creutzfeldt-Jakob Disease",
          "Brucella spp., Brucella melitensis, Brucella abortus",
          "Coccidioides immitis, Coccidioides posadasii",
          "Creutzfeldt-Jakob Disease",
          "Brucella spp",
          "Vibrio cholerae Inaba strain 20A67 and Vibrio cholerae Ogawa strain",
          "Zika",
          "Monkey B virus, Herpes B virus, Macacine alphaherpesvirus 1",
          "Bovine spongiform encephalopathy prion, variant Creutzfeldt-Jakob disease",
          "Lymphocytogenic choriomeningitis virus, LCMV",
          "Lymphocytogenic choriomeningitis virus, LCMV",
          "SARS-CoV-2, COVID-19",
          "Brucella melitensis biovar"
         ],
         "lat": [
          44.52559966543819,
          42.39429602781377,
          41.58810990201997,
          22.28012507996437,
          36.60397484581657,
          -24.738768536396126,
          -8.152971628862955,
          51.44684356315005,
          38.51214901072919,
          32.669590094410566,
          43.187911767593334,
          36.70168956720986,
          45.72642189248397,
          42.33380048075123,
          51.265569818482284,
          33.39727896189955,
          1.318651964440907,
          51.08427914453009,
          -23.591146771261805,
          -36.79843808405654,
          44.55846770573809,
          59.27928146109745,
          8.03240756665317,
          34.02165408626211,
          25.67129125730179,
          52.5365752812305,
          55.69228230165136,
          -28.846159326591824,
          56.71330213050922,
          39.9627844045832,
          55.69923129684989,
          29.8476780863971,
          39.3362098490529,
          34.15073889364183,
          -17.247383885654667,
          39.21976572310549,
          45.78932221013198,
          33.03422910930681,
          46.54975332924278,
          50.733901729374196,
          43.72787947655412,
          51.181795436935616,
          40.69835176770329,
          37.08833795448534,
          48.12047646982391,
          34.90793011567847,
          47.60325942775093,
          23.609272526299822,
          36.61425046576504,
          37.892916497619446,
          40.91824177556975,
          39.85620361990576,
          39.28646141151583,
          37.42737186242446,
          40.07030104288574,
          33.699982759902085,
          40.05542864159414,
          45.732072418415875,
          40.34172164832047,
          42.97296303421177,
          42.39887351846377,
          41.958422537161034,
          36.61004403717203,
          4.067656299361673,
          38.4350396991831,
          51.11210244616019,
          36.52596737682503,
          51.068078026680034,
          37.69333703132903,
          48.863584734132026,
          40.016231575847335,
          39.00149521206304,
          51.69093923432151,
          36.65866259597383,
          51.18230600123835,
          24.034193809939445,
          36.57225109095087,
          51.46086670719705,
          47.2241196242925,
          38.963461600132284,
          39.36509307052301,
          39.99871582046766,
          55.68938857344129,
          42.437139971120274,
          -31.82674356844572,
          41.590564429837734,
          40.672764386479656,
          -24.873031931298627,
          54.770954661572034,
          38.683139630752116,
          -24.762323962753282,
          -19.24321889248609,
          52.21493977610351,
          54.18351315839163,
          -23.015235113628414,
          47.26939617463079,
          34.973892169687865,
          49.95589467478949,
          45.378059234995426,
          37.81766380690245,
          -28.828871625467606,
          55.695012777266285,
          55.75669261403161,
          55.68153723511182,
          55.74215435495201,
          38.79049577454815,
          55.75745488449196,
          51.13023160111599,
          55.77085940976586,
          -25.751433034454188,
          -34.61605309352986,
          31.19746797901683,
          63.18537738390783,
          37.8140002412855,
          42.64005661208223,
          46.28237378420323,
          36.640169715338274,
          42.996752351466704,
          32.40390121526011,
          32.86264877553488,
          42.27995315794796,
          38.870452430080455,
          33.83551932549836,
          50.23612595959478,
          54.73097657828145,
          23.954555084940107,
          59.6119861005001,
          23.91997028547992,
          39.362371842007505,
          39.04213044513903,
          43.1728082775847,
          51.31957495663214,
          54.25744346146153,
          -23.451806163638885,
          41.9803086762121,
          7.387385329258322,
          40.61814245944742,
          34.67301452925816,
          55.76642243608357,
          39.74218248885639,
          51.56047368084588,
          44.36113895239452,
          39.267244035763404,
          32.843644541333376,
          48.59855654489417,
          38.851090590210845,
          63.23447804524255,
          41.83061016340823,
          44.92933640965981,
          43.6572885064059,
          -10.354072115159214,
          40.75206135765091,
          35.07657741350524,
          37.72486074889131,
          -25.306416014799755,
          -24.715809681546503,
          34.99370573047867,
          41.959548137083466,
          54.61814194490566,
          56.76847654494973,
          51.150499472043876,
          30.515524729279303,
          50.13375533637931,
          55.62671763537738,
          46.6436950153238,
          46.51127304145601,
          43.06758606768023,
          41.350890448214486,
          33.61073465984063,
          63.19687329032358,
          42.00693580598492,
          63.25413795025849,
          51.43809863435077,
          51.149616668719375,
          32.529090435554416,
          34.12554252369687,
          31.213369491605427,
          37.784886263326875,
          22.25540895081694,
          39.71956815423616,
          32.67345452870346,
          36.58776103181902,
          43.23324943241112,
          54.71213883184818,
          50.19458861668094,
          47.60091942549118,
          43.60695485307849,
          32.604195393589876,
          32.303334389117566,
          37.4592238454695,
          46.74574854123476,
          50.68127075655766,
          46.02619232341057,
          45.47939068896821,
          52.3279069902341,
          37.66734041429001,
          -33.84048705876704,
          51.04196167873962,
          52.14975173295236,
          3.1363119504296297,
          39.57067434987635,
          31.27343922065669,
          55.56718704420357,
          54.30405752654985,
          45.856510247717125,
          51.23236217110011,
          34.36153478317137,
          38.98155366285438,
          39.32504038043826,
          53.77693600524831,
          42.40204379876213,
          35.9409311351186,
          32.723591906735756,
          50.064354460627825,
          35.887327408890634,
          48.8583376306264,
          33.744966993641164,
          -19.251223514376278,
          38.98912014472522,
          51.532572480565705,
          -1.2222082428934022,
          42.48357614740688,
          23.98623766664707,
          38.86224491884641,
          38.94269762698753,
          43.55046167078045,
          39.378909981177515,
          31.236511973519313,
          33.64234632168608,
          3.144764084269803,
          42.95810560267191,
          54.3829227523162,
          43.086387096592084,
          -18.435494507201053,
          50.916192794146724,
          -28.88592813804607,
          45.85364133105384,
          51.516087044741006,
          43.18206133082652,
          -1.6405912349053458,
          44.60022565336767,
          39.93936430663025,
          39.358813343165984,
          41.90303926331274,
          22.586559292830508,
          42.04066608779065,
          39.28735396270473,
          14.870846034327826,
          46.045835752274584,
          3.1050979297812944,
          40.73699081336145,
          31.856883370275565,
          41.97202693703108,
          43.05198386297699,
          3.2511685086556796,
          36.586235691709476,
          27.72621261957534,
          -1.2785488313612074,
          35.0067132034919,
          24.56169365976838,
          30.488549364619743,
          38.71829691907785,
          30.531464475068553,
          52.311238057731046,
          51.701410492502305,
          -1.4606497511448007,
          39.00839469584865,
          2.9130331676996275,
          51.20467492202299,
          -25.859112822419203,
          -22.867758378943886,
          51.466027105889395,
          43.5378045469508,
          55.653674387189035,
          8.967204958345903,
          44.95907661888293,
          12.916214224818692,
          55.58967458313841,
          51.37890584909564,
          36.50004944850595,
          41.51094086907366,
          38.93228357729386,
          -28.87201152465987,
          29.896397355967018,
          46.69277127477774,
          51.25202412446047,
          24.581225138176652,
          12.452336131578186,
          24.596734249703132,
          24.603314231904967,
          34.937391236531894,
          34.97031925272118,
          38.23995204573815,
          40.02413157487282,
          63.363143886410974,
          37.33700058250384,
          54.29588447236356,
          42.296342761671625,
          45.952669944584144,
          36.63105741658918,
          39.44938829815127,
          54.733675670738336,
          38.943051573065794,
          30.8165648363934,
          32.31640986757629,
          37.58204820403443,
          42.231935727427704,
          34.55104226606511,
          52.23556083396777,
          47.61555965407261,
          39.48687091179116,
          42.406748637195015,
          39.45737011283981,
          39.50838292032043,
          41.092337400820796,
          26.228165855601077,
          42.256530496626624,
          7.3338359467833785,
          49.88147941352957,
          30.366561728832703,
          37.16274115150228,
          60.49800204875998,
          18.482393465238342,
          47.33431051462678,
          54.76813900752974,
          59.63034671703747,
          55.073019482110645,
          42.66092510298476,
          52.175802863739555,
          48.870292947705785,
          43.643647026001354,
          64.65920259896967,
          35.7798478983032,
          50.205940704956404,
          40.833134537080234,
          54.29100612649747,
          31.31649081069457,
          36.543774444915655,
          54.28017868695342,
          34.70746405242551,
          39.34931977655929,
          34.82616180452736,
          55.93578103716157,
          30.819223547105818,
          -34.63364664926748,
          -35.40399334453942,
          54.68623339256316,
          34.65935295991721,
          39.47425990990352,
          36.468188715715115,
          50.72328468767441,
          50.71480703014577,
          39.46617154902185,
          50.52560009894551,
          42.193900617728325,
          50.698988410445025,
          46.628966019531944,
          52.55641060640238,
          64.7476196542404,
          43.15161819929951,
          -34.66825357925823,
          39.51815392749357,
          43.316132659740646,
          39.39425397064412,
          54.62585264326727,
          32.42568565143115,
          37.13421997007072,
          43.23160505741401,
          40.017937059464984,
          36.52577046552131,
          52.255089681513404,
          32.74852510077433,
          41.37340995918688,
          42.25946926959637,
          42.934449851646,
          36.6394279172942,
          23.153547660299342,
          52.44295287853829,
          38.031965658610225,
          -28.85744266894197,
          31.429033008309652,
          29.793712138178858,
          1.3486449398925895,
          39.51800718423579,
          -28.910751573741237,
          51.155763638837335,
          51.145943080093154,
          40.76620918469108,
          5.641337622411612,
          38.96762644100938,
          40.490514290596536,
          8.035205124947593,
          23.985995581003426,
          53.54849805766775,
          31.36453968170203,
          35.270623756225355,
          53.58438461199497,
          31.23162115383877,
          -37.807643105439254,
          38.91637499833243,
          40.12078079454673,
          13.453752110989628,
          39.966528396535345,
          39.57051241797492,
          25.076233145144183,
          41.32401190659689,
          25.06858572955961,
          39.87229385815606,
          -37.83365409977908,
          38.454355462162226,
          53.4718331510482,
          14.931449375043405,
          29.722603106516324,
          42.06730054394984,
          51.53467773948128,
          34.52675909190956,
          32.30059734165489,
          34.47610844587382,
          52.45974335367544,
          13.513917297427218,
          42.296459477133475,
          27.673334604614293,
          33.68851884137121,
          48.78300240172599,
          41.93987697847892,
          35.58914796347198,
          46.62433359227619,
          51.65466371332352,
          64.47598371171526,
          40.74286660375145,
          42.684809265952254,
          40.05401153584932,
          36.56500083833492,
          33.797620918630265,
          36.6001052940486,
          42.74525347471663,
          13.04947251961236,
          18.558213723829326,
          46.76580636522548,
          36.77900552027851,
          46.68138807768756,
          36.008875822195805,
          11.537629688548042,
          25.071524918421034,
          25.009728559719026,
          55.06764108226468,
          42.667598259369115,
          39.42716013457195,
          43.532589873160916,
          40.67128794805167,
          43.653712092848345,
          46.50313557416336,
          34.98152976643472,
          38.8922103800819,
          40.97499653938426,
          39.8278254343366,
          48.82156150830995,
          47.5671081004023,
          46.5847654272602,
          25.059216654154092,
          35.09183249128804
         ],
         "legendgroup": "",
         "lon": [
          -89.72168434666398,
          -71.06978710852422,
          -72.71577360607769,
          78.74508052027579,
          127.69913045796802,
          134.76648257232958,
          -34.92574720793872,
          -0.11504978454586796,
          -121.82689542204562,
          -85.50669324611948,
          -75.93470503990615,
          -118.7765900327377,
          -68.88942905038815,
          -71.00309766765022,
          10.423888935238235,
          -86.85306115164315,
          103.82742707935131,
          16.995434710939136,
          -46.73409889161982,
          174.82615841462334,
          -89.6535583616425,
          15.22766125119905,
          -66.06929445777682,
          -118.19214007393391,
          42.34447330127898,
          -1.1669705289110004,
          12.548776894083788,
          25.073062700025613,
          60.745798644522715,
          -75.13807004135764,
          12.642806986838771,
          -95.27958081297596,
          -76.60018373527538,
          -118.17744766016855,
          -61.53098814082113,
          -94.58577862553737,
          -68.86641271194331,
          -89.76640321254678,
          6.650741244891804,
          4.355684776364752,
          7.145961419941255,
          10.42368346467749,
          -73.94105837283472,
          -78.50118126134201,
          11.591175366961872,
          -97.2361757331178,
          14.172316421101987,
          -102.05435846105271,
          -118.81929336498399,
          -87.59701629288699,
          -74.09777708196086,
          116.27224033679634,
          -4.860460845155772,
          -6.032383424361556,
          -105.31296832316023,
          -84.39303265688714,
          -105.25309205671505,
          -69.0034035018307,
          -86.143064275024,
          -88.04873648958198,
          -72.00693808572679,
          12.430106025628017,
          -118.72787602642512,
          -52.94075821949945,
          38.372777724364504,
          10.494786838368695,
          139.28487834387371,
          6.906690900971095,
          -122.40899456280331,
          2.346557305929417,
          -75.23230877600157,
          -77.46334012204812,
          -0.11585087461702459,
          -118.66247008560696,
          10.42669425443391,
          121.01062868804472,
          52.6763581219434,
          -0.9757934332303446,
          -1.6414960510934813,
          -76.99823239004219,
          -77.37622333387755,
          -75.19068390104547,
          37.657594922462,
          -71.05822165387582,
          -71.38542097909051,
          123.464068493367,
          -73.97702479243588,
          134.766797216572,
          -3.2926401089374684,
          30.73252346397193,
          134.74532675763683,
          146.77820308207578,
          5.521324981102063,
          -1.9921580355850226,
          -43.23956763388836,
          -120.14132154087399,
          105.01523806938191,
          -97.14970239143057,
          -75.64042316775796,
          -122.35831565333665,
          24.95842727517942,
          37.69847946664593,
          37.55532722299863,
          37.55940888802065,
          37.722778100844735,
          -79.903802967809,
          37.59183842690003,
          10.504479710266395,
          37.652228783411445,
          28.22724379728903,
          -58.42856803578891,
          -98.58666818470084,
          25.96127275822006,
          -122.32281707060304,
          12.668683237047176,
          -119.31004254551287,
          139.19647329577865,
          -89.31606163994103,
          50.86300516182815,
          -117.22854597206512,
          -71.16375210988835,
          -76.94771904576179,
          -84.4637178412973,
          -111.09758056318597,
          -3.182843089533776,
          121.0552284228356,
          14.547070818130099,
          120.95879354326988,
          -77.37250561561693,
          -77.06739504833189,
          -75.85660768489105,
          0.7227967398984774,
          -1.86798765398762,
          -51.925736000595336,
          -87.61883608591604,
          3.861693487820955,
          -105.01134931301515,
          -92.36179810873658,
          -4.198394573598179,
          -104.95499959896786,
          -0.15335365016142652,
          -96.73147830652715,
          -4.877608403196972,
          -79.96961150300591,
          8.941462601467327,
          -77.10068997632659,
          25.897647404322324,
          -69.96246271074983,
          -0.6099995584386967,
          -79.35787499592276,
          -53.17596952875346,
          -73.92347874756622,
          -106.6053888373559,
          -122.39230099061946,
          151.2207268762437,
          134.75794849833522,
          -97.31124823096471,
          2.7912541696945357,
          -3.26225020919088,
          -4.05291930586797,
          10.402472177841956,
          -87.09665903892657,
          -111.21647217853732,
          10.285827126986767,
          1.931448016284157,
          1.950764918641856,
          -76.07340735289439,
          -70.69273694856732,
          130.57050485628764,
          25.99238993027441,
          -93.47101761594277,
          25.88401659967317,
          -0.192593680724571,
          10.44158064925623,
          -85.43475716662205,
          -118.25112597078578,
          34.83341288573682,
          -122.36236612122276,
          78.62498275525606,
          -8.051008155942382,
          54.5031350320343,
          139.17841363687162,
          -75.83002600254088,
          -3.2637819262599073,
          15.85549285883144,
          -122.38434970468099,
          -113.90296171868337,
          -85.50609868250655,
          -83.15188482081295,
          126.96123425099596,
          8.333717887555526,
          4.642479037029279,
          -94.66029980998046,
          -75.75842069119406,
          5.585615789773387,
          127.03348305974514,
          151.18462729434822,
          10.441794990178591,
          5.652201877674194,
          101.7417418700936,
          -76.9704347188076,
          -98.54597831830266,
          10.327911625591673,
          -1.8624894601558912,
          15.90841959335982,
          10.506459180493144,
          -111.77262720420663,
          -77.09186053450124,
          -76.60453115583385,
          -1.5200253166253206,
          -70.961149420472,
          -79.04826817191108,
          -117.09979700451525,
          8.727202340687901,
          -78.97745066672539,
          2.4111162733570994,
          -84.42091869304106,
          146.87658165206113,
          -77.15426605385403,
          -0.11559300787121558,
          36.807816103386365,
          -83.2078518761334,
          54.01900858395528,
          34.86116153853125,
          -92.2577157058801,
          -84.640173881523,
          -4.79151687686805,
          34.88075209043171,
          -84.47124959450088,
          101.7533685253899,
          -82.42359704571491,
          -1.9412705695826067,
          -89.36581346281045,
          -44.09927026360689,
          8.614595613417722,
          24.919384385550828,
          14.482182242089564,
          -0.2679878122675141,
          131.83313063875372,
          13.523908959016408,
          -123.25148945142081,
          32.885033695529664,
          -4.82015861118411,
          -87.61471476692533,
          88.33573630988707,
          -93.63099024348806,
          -76.49236781735662,
          100.77045330763698,
          -94.59756792717158,
          101.67450738070694,
          8.530502641817115,
          35.22874153335706,
          -87.51878782780264,
          -89.31762365383021,
          101.72945674230267,
          127.664544802292,
          -81.49070063164527,
          36.864559515090924,
          104.92375177613894,
          46.715141101831776,
          -87.18038772072994,
          -105.60910765801661,
          78.72820258621704,
          5.58160268627917,
          -1.3548739877620415,
          36.86030169234295,
          -94.59171156559132,
          101.6722913989254,
          10.47809967747873,
          28.17461546499,
          -43.18862971622379,
          -0.2551369018854196,
          -79.42981163263165,
          12.667273074749861,
          -79.54566842674146,
          -93.1787941050711,
          77.59527161745193,
          -106.0910227109239,
          -0.23063951888918338,
          139.19002306116346,
          -81.68970454518903,
          -77.0488292999019,
          25.00005510291622,
          31.32230140453544,
          -117.19670198157391,
          -1.9363693443172725,
          46.62604640808199,
          -12.366987491321762,
          46.699322536808324,
          46.83902500957218,
          105.03998086479841,
          105.0734844182189,
          140.85620417406315,
          -120.7302208123204,
          25.940164127272755,
          -80.35859869624178,
          -1.9852495266377692,
          -71.06642299244704,
          -94.53801417854757,
          139.21427360317267,
          -77.47902231069855,
          -3.270751665358672,
          -77.11220343561858,
          76.8349047024808,
          -83.11876785684764,
          127.03408183371404,
          -71.22592434741415,
          135.38428426634846,
          0.140303565501948,
          -122.28984542837073,
          -77.46158829623919,
          -72.02181233850999,
          -77.4404870696677,
          -76.86690262605082,
          28.94049656020483,
          -80.43939225846529,
          -85.57118689932845,
          3.9277792255829147,
          -97.0095920005047,
          -87.28312432107386,
          -78.59266796066152,
          22.24518596481828,
          73.86783346544124,
          -120.24767996560745,
          -3.1962756722855348,
          14.50759339100676,
          -115.01558457315889,
          -84.4796220107003,
          5.736166857114617,
          2.343942593677401,
          -79.36265569002846,
          97.71015697358456,
          -78.67390461811348,
          -111.20424460910179,
          -73.84849767153538,
          -1.8777050326750016,
          -98.61677381481523,
          139.1894177123744,
          -1.952920091388371,
          -92.29290536329592,
          -77.42503506802129,
          -92.25078646191709,
          -4.254967678062597,
          34.878802104835565,
          -58.43019008298792,
          149.07655935574533,
          -3.396996146479442,
          -92.29077068805623,
          -77.39949594961365,
          139.25478528153536,
          4.782117537678454,
          4.7027549008371015,
          -77.44362631350734,
          4.7028474281890595,
          -71.11357217279078,
          4.545901621756568,
          2.000650728504823,
          -1.2343493450584695,
          97.6925661628592,
          -75.91817179425153,
          -58.391085537918315,
          -77.40629388444471,
          5.398666504169907,
          -77.41691552076921,
          -3.367286989916307,
          -83.1372495378029,
          -78.46621376710627,
          5.398739445022084,
          116.4551636383888,
          139.26454524669953,
          5.419949443412751,
          -117.08811244955959,
          -73.00025084062204,
          -71.10565473447262,
          -89.28673492801397,
          139.27565113738635,
          113.29903842123016,
          -1.8504082384835279,
          101.98125221791857,
          25.012434958431804,
          130.51395328189867,
          -95.40034724331598,
          103.72377724970977,
          -76.91797927921368,
          24.909922732963068,
          10.400250053655492,
          10.37828980917472,
          -73.8853605983415,
          -7.119627784440054,
          34.89716125100844,
          -80.06000563941903,
          -5.551872111046679,
          120.92700366391884,
          9.933009225275523,
          -98.53798165958155,
          -92.42378929113984,
          10.053042308564903,
          -98.48117416507564,
          144.8548136817521,
          -77.08884260783063,
          -75.09744696182426,
          92.89303604047693,
          116.35658895232628,
          -76.99867399995155,
          121.6241112199819,
          -72.8836432889567,
          121.53875749365733,
          116.4047849156849,
          144.87925257494584,
          141.0029715032687,
          9.991978078944028,
          74.61614488909899,
          -95.43205857225426,
          -93.64154070266841,
          -2.700053766813318,
          -111.68431942441863,
          -111.06760766674213,
          135.41447113676816,
          5.014676858140624,
          92.86419517857927,
          -71.07957308409053,
          111.74636657616763,
          -84.45782861987826,
          2.3128066164598766,
          -87.60481170418461,
          -79.0417327515733,
          1.9213289883269962,
          -0.2604997707464806,
          -149.67981971087042,
          -74.01121313977816,
          -84.42782426949253,
          -105.34048026850488,
          139.10710874299315,
          -84.37260039407863,
          136.68412525654378,
          -84.48593238283324,
          80.18713678201487,
          73.77787751091624,
          8.255430438319431,
          -118.70169387150231,
          1.896195738082833,
          103.85530547886644,
          17.790325474873494,
          121.56600461578171,
          121.5325846468273,
          82.90068011753743,
          -73.74773310571688,
          -77.3818256555977,
          1.4813795753142893,
          -73.88004659452498,
          -79.27595733618057,
          1.861143971898189,
          104.95438854057286,
          -77.02676553518266,
          -77.81024335102357,
          116.35253578401701,
          2.145623822558762,
          7.694111758806022,
          6.678314745435184,
          121.56784108718871,
          105.01234355981026
         ],
         "marker": {
          "color": "#C4C967",
          "opacity": 1,
          "size": [
           300,
           300,
           300,
           300,
           300,
           300,
           300,
           300,
           300,
           300,
           300,
           300,
           300,
           300,
           300,
           300,
           300,
           300,
           300,
           300,
           300,
           300,
           300,
           300,
           300,
           300,
           300,
           300,
           300,
           300,
           300,
           300,
           300,
           300,
           300,
           300,
           300,
           300,
           300,
           300,
           300,
           300,
           300,
           300,
           300,
           300,
           300,
           300,
           300,
           300,
           300,
           300,
           300,
           300,
           300,
           300,
           300,
           300,
           300,
           300,
           300,
           300,
           300,
           300,
           300,
           300,
           300,
           300,
           300,
           300,
           300,
           300,
           300,
           300,
           300,
           300,
           300,
           300,
           300,
           300,
           300,
           300,
           300,
           300,
           300,
           300,
           300,
           300,
           300,
           300,
           300,
           300,
           300,
           300,
           300,
           300,
           300,
           300,
           300,
           300,
           300,
           300,
           300,
           300,
           300,
           300,
           300,
           300,
           300,
           300,
           300,
           300,
           300,
           300,
           300,
           300,
           300,
           300,
           300,
           300,
           300,
           300,
           300,
           300,
           300,
           300,
           300,
           300,
           300,
           300,
           300,
           300,
           300,
           300,
           300,
           300,
           300,
           300,
           300,
           300,
           300,
           300,
           300,
           300,
           300,
           300,
           300,
           300,
           300,
           300,
           300,
           300,
           300,
           300,
           300,
           300,
           300,
           300,
           300,
           300,
           300,
           300,
           300,
           300,
           300,
           300,
           300,
           300,
           300,
           300,
           300,
           300,
           300,
           300,
           300,
           300,
           300,
           300,
           300,
           300,
           300,
           300,
           300,
           300,
           300,
           300,
           300,
           300,
           300,
           300,
           300,
           300,
           300,
           300,
           300,
           300,
           300,
           300,
           300,
           300,
           300,
           300,
           300,
           300,
           300,
           300,
           300,
           300,
           300,
           300,
           300,
           300,
           300,
           300,
           300,
           300,
           300,
           300,
           300,
           300,
           300,
           300,
           300,
           300,
           300,
           300,
           300,
           300,
           300,
           300,
           300,
           300,
           300,
           300,
           300,
           300,
           300,
           300,
           300,
           300,
           300,
           300,
           300,
           300,
           300,
           300,
           300,
           300,
           300,
           300,
           300,
           300,
           300,
           300,
           300,
           300,
           300,
           300,
           300,
           300,
           300,
           300,
           300,
           300,
           300,
           300,
           300,
           300,
           300,
           300,
           300,
           300,
           300,
           300,
           300,
           300,
           300,
           300,
           300,
           300,
           300,
           300,
           300,
           300,
           300,
           300,
           300,
           300,
           300,
           300,
           300,
           300,
           300,
           300,
           300,
           300,
           300,
           300,
           300,
           300,
           300,
           300,
           300,
           300,
           300,
           300,
           300,
           300,
           300,
           300,
           300,
           300,
           300,
           300,
           300,
           300,
           300,
           300,
           300,
           300,
           300,
           300,
           300,
           300,
           300,
           300,
           300,
           300,
           300,
           300,
           300,
           300,
           300,
           300,
           300,
           300,
           300,
           300,
           300,
           300,
           300,
           300,
           300,
           300,
           300,
           300,
           300,
           300,
           300,
           300,
           300,
           300,
           300,
           300,
           300,
           300,
           300,
           300,
           300,
           300,
           300,
           300,
           300,
           300,
           300,
           300,
           300,
           300,
           300,
           300,
           300,
           300,
           300,
           300,
           300,
           300,
           300,
           300,
           300,
           300,
           300,
           300,
           300,
           300,
           300,
           300,
           300,
           300,
           300,
           300,
           300,
           300,
           300,
           300,
           300,
           300,
           300,
           300,
           300,
           300,
           300,
           300,
           300,
           300,
           300,
           300,
           300,
           300,
           300,
           300,
           300,
           300,
           300,
           300,
           300,
           300,
           300,
           300,
           300,
           300,
           300,
           300,
           300,
           300,
           300,
           300,
           300,
           300,
           300,
           300,
           300,
           300,
           300,
           300,
           300,
           300,
           300,
           300,
           300,
           300,
           300,
           300,
           300,
           300,
           300,
           300,
           300,
           300,
           300,
           300,
           300,
           300,
           300,
           300,
           300,
           300,
           300,
           300,
           300,
           300,
           300
          ],
          "sizemode": "area",
          "sizeref": 3
         },
         "mode": "markers",
         "name": "",
         "showlegend": false,
         "subplot": "mapbox",
         "type": "scattermapbox"
        }
       ],
       "layout": {
        "height": 400,
        "legend": {
         "itemsizing": "constant",
         "tracegroupgap": 0
        },
        "mapbox": {
         "center": {
          "lat": 35.38025578308108,
          "lon": -14.04247707154261
         },
         "domain": {
          "x": [
           0,
           1
          ],
          "y": [
           0,
           1
          ]
         },
         "style": "open-street-map",
         "zoom": 2
        },
        "margin": {
         "b": 0,
         "l": 0,
         "r": 0,
         "t": 0
        },
        "template": {
         "data": {
          "bar": [
           {
            "error_x": {
             "color": "#2a3f5f"
            },
            "error_y": {
             "color": "#2a3f5f"
            },
            "marker": {
             "line": {
              "color": "#E5ECF6",
              "width": 0.5
             },
             "pattern": {
              "fillmode": "overlay",
              "size": 10,
              "solidity": 0.2
             }
            },
            "type": "bar"
           }
          ],
          "barpolar": [
           {
            "marker": {
             "line": {
              "color": "#E5ECF6",
              "width": 0.5
             },
             "pattern": {
              "fillmode": "overlay",
              "size": 10,
              "solidity": 0.2
             }
            },
            "type": "barpolar"
           }
          ],
          "carpet": [
           {
            "aaxis": {
             "endlinecolor": "#2a3f5f",
             "gridcolor": "white",
             "linecolor": "white",
             "minorgridcolor": "white",
             "startlinecolor": "#2a3f5f"
            },
            "baxis": {
             "endlinecolor": "#2a3f5f",
             "gridcolor": "white",
             "linecolor": "white",
             "minorgridcolor": "white",
             "startlinecolor": "#2a3f5f"
            },
            "type": "carpet"
           }
          ],
          "choropleth": [
           {
            "colorbar": {
             "outlinewidth": 0,
             "ticks": ""
            },
            "type": "choropleth"
           }
          ],
          "contour": [
           {
            "colorbar": {
             "outlinewidth": 0,
             "ticks": ""
            },
            "colorscale": [
             [
              0,
              "#0d0887"
             ],
             [
              0.1111111111111111,
              "#46039f"
             ],
             [
              0.2222222222222222,
              "#7201a8"
             ],
             [
              0.3333333333333333,
              "#9c179e"
             ],
             [
              0.4444444444444444,
              "#bd3786"
             ],
             [
              0.5555555555555556,
              "#d8576b"
             ],
             [
              0.6666666666666666,
              "#ed7953"
             ],
             [
              0.7777777777777778,
              "#fb9f3a"
             ],
             [
              0.8888888888888888,
              "#fdca26"
             ],
             [
              1,
              "#f0f921"
             ]
            ],
            "type": "contour"
           }
          ],
          "contourcarpet": [
           {
            "colorbar": {
             "outlinewidth": 0,
             "ticks": ""
            },
            "type": "contourcarpet"
           }
          ],
          "heatmap": [
           {
            "colorbar": {
             "outlinewidth": 0,
             "ticks": ""
            },
            "colorscale": [
             [
              0,
              "#0d0887"
             ],
             [
              0.1111111111111111,
              "#46039f"
             ],
             [
              0.2222222222222222,
              "#7201a8"
             ],
             [
              0.3333333333333333,
              "#9c179e"
             ],
             [
              0.4444444444444444,
              "#bd3786"
             ],
             [
              0.5555555555555556,
              "#d8576b"
             ],
             [
              0.6666666666666666,
              "#ed7953"
             ],
             [
              0.7777777777777778,
              "#fb9f3a"
             ],
             [
              0.8888888888888888,
              "#fdca26"
             ],
             [
              1,
              "#f0f921"
             ]
            ],
            "type": "heatmap"
           }
          ],
          "heatmapgl": [
           {
            "colorbar": {
             "outlinewidth": 0,
             "ticks": ""
            },
            "colorscale": [
             [
              0,
              "#0d0887"
             ],
             [
              0.1111111111111111,
              "#46039f"
             ],
             [
              0.2222222222222222,
              "#7201a8"
             ],
             [
              0.3333333333333333,
              "#9c179e"
             ],
             [
              0.4444444444444444,
              "#bd3786"
             ],
             [
              0.5555555555555556,
              "#d8576b"
             ],
             [
              0.6666666666666666,
              "#ed7953"
             ],
             [
              0.7777777777777778,
              "#fb9f3a"
             ],
             [
              0.8888888888888888,
              "#fdca26"
             ],
             [
              1,
              "#f0f921"
             ]
            ],
            "type": "heatmapgl"
           }
          ],
          "histogram": [
           {
            "marker": {
             "pattern": {
              "fillmode": "overlay",
              "size": 10,
              "solidity": 0.2
             }
            },
            "type": "histogram"
           }
          ],
          "histogram2d": [
           {
            "colorbar": {
             "outlinewidth": 0,
             "ticks": ""
            },
            "colorscale": [
             [
              0,
              "#0d0887"
             ],
             [
              0.1111111111111111,
              "#46039f"
             ],
             [
              0.2222222222222222,
              "#7201a8"
             ],
             [
              0.3333333333333333,
              "#9c179e"
             ],
             [
              0.4444444444444444,
              "#bd3786"
             ],
             [
              0.5555555555555556,
              "#d8576b"
             ],
             [
              0.6666666666666666,
              "#ed7953"
             ],
             [
              0.7777777777777778,
              "#fb9f3a"
             ],
             [
              0.8888888888888888,
              "#fdca26"
             ],
             [
              1,
              "#f0f921"
             ]
            ],
            "type": "histogram2d"
           }
          ],
          "histogram2dcontour": [
           {
            "colorbar": {
             "outlinewidth": 0,
             "ticks": ""
            },
            "colorscale": [
             [
              0,
              "#0d0887"
             ],
             [
              0.1111111111111111,
              "#46039f"
             ],
             [
              0.2222222222222222,
              "#7201a8"
             ],
             [
              0.3333333333333333,
              "#9c179e"
             ],
             [
              0.4444444444444444,
              "#bd3786"
             ],
             [
              0.5555555555555556,
              "#d8576b"
             ],
             [
              0.6666666666666666,
              "#ed7953"
             ],
             [
              0.7777777777777778,
              "#fb9f3a"
             ],
             [
              0.8888888888888888,
              "#fdca26"
             ],
             [
              1,
              "#f0f921"
             ]
            ],
            "type": "histogram2dcontour"
           }
          ],
          "mesh3d": [
           {
            "colorbar": {
             "outlinewidth": 0,
             "ticks": ""
            },
            "type": "mesh3d"
           }
          ],
          "parcoords": [
           {
            "line": {
             "colorbar": {
              "outlinewidth": 0,
              "ticks": ""
             }
            },
            "type": "parcoords"
           }
          ],
          "pie": [
           {
            "automargin": true,
            "type": "pie"
           }
          ],
          "scatter": [
           {
            "fillpattern": {
             "fillmode": "overlay",
             "size": 10,
             "solidity": 0.2
            },
            "type": "scatter"
           }
          ],
          "scatter3d": [
           {
            "line": {
             "colorbar": {
              "outlinewidth": 0,
              "ticks": ""
             }
            },
            "marker": {
             "colorbar": {
              "outlinewidth": 0,
              "ticks": ""
             }
            },
            "type": "scatter3d"
           }
          ],
          "scattercarpet": [
           {
            "marker": {
             "colorbar": {
              "outlinewidth": 0,
              "ticks": ""
             }
            },
            "type": "scattercarpet"
           }
          ],
          "scattergeo": [
           {
            "marker": {
             "colorbar": {
              "outlinewidth": 0,
              "ticks": ""
             }
            },
            "type": "scattergeo"
           }
          ],
          "scattergl": [
           {
            "marker": {
             "colorbar": {
              "outlinewidth": 0,
              "ticks": ""
             }
            },
            "type": "scattergl"
           }
          ],
          "scattermapbox": [
           {
            "marker": {
             "colorbar": {
              "outlinewidth": 0,
              "ticks": ""
             }
            },
            "type": "scattermapbox"
           }
          ],
          "scatterpolar": [
           {
            "marker": {
             "colorbar": {
              "outlinewidth": 0,
              "ticks": ""
             }
            },
            "type": "scatterpolar"
           }
          ],
          "scatterpolargl": [
           {
            "marker": {
             "colorbar": {
              "outlinewidth": 0,
              "ticks": ""
             }
            },
            "type": "scatterpolargl"
           }
          ],
          "scatterternary": [
           {
            "marker": {
             "colorbar": {
              "outlinewidth": 0,
              "ticks": ""
             }
            },
            "type": "scatterternary"
           }
          ],
          "surface": [
           {
            "colorbar": {
             "outlinewidth": 0,
             "ticks": ""
            },
            "colorscale": [
             [
              0,
              "#0d0887"
             ],
             [
              0.1111111111111111,
              "#46039f"
             ],
             [
              0.2222222222222222,
              "#7201a8"
             ],
             [
              0.3333333333333333,
              "#9c179e"
             ],
             [
              0.4444444444444444,
              "#bd3786"
             ],
             [
              0.5555555555555556,
              "#d8576b"
             ],
             [
              0.6666666666666666,
              "#ed7953"
             ],
             [
              0.7777777777777778,
              "#fb9f3a"
             ],
             [
              0.8888888888888888,
              "#fdca26"
             ],
             [
              1,
              "#f0f921"
             ]
            ],
            "type": "surface"
           }
          ],
          "table": [
           {
            "cells": {
             "fill": {
              "color": "#EBF0F8"
             },
             "line": {
              "color": "white"
             }
            },
            "header": {
             "fill": {
              "color": "#C8D4E3"
             },
             "line": {
              "color": "white"
             }
            },
            "type": "table"
           }
          ]
         },
         "layout": {
          "annotationdefaults": {
           "arrowcolor": "#2a3f5f",
           "arrowhead": 0,
           "arrowwidth": 1
          },
          "autotypenumbers": "strict",
          "coloraxis": {
           "colorbar": {
            "outlinewidth": 0,
            "ticks": ""
           }
          },
          "colorscale": {
           "diverging": [
            [
             0,
             "#8e0152"
            ],
            [
             0.1,
             "#c51b7d"
            ],
            [
             0.2,
             "#de77ae"
            ],
            [
             0.3,
             "#f1b6da"
            ],
            [
             0.4,
             "#fde0ef"
            ],
            [
             0.5,
             "#f7f7f7"
            ],
            [
             0.6,
             "#e6f5d0"
            ],
            [
             0.7,
             "#b8e186"
            ],
            [
             0.8,
             "#7fbc41"
            ],
            [
             0.9,
             "#4d9221"
            ],
            [
             1,
             "#276419"
            ]
           ],
           "sequential": [
            [
             0,
             "#0d0887"
            ],
            [
             0.1111111111111111,
             "#46039f"
            ],
            [
             0.2222222222222222,
             "#7201a8"
            ],
            [
             0.3333333333333333,
             "#9c179e"
            ],
            [
             0.4444444444444444,
             "#bd3786"
            ],
            [
             0.5555555555555556,
             "#d8576b"
            ],
            [
             0.6666666666666666,
             "#ed7953"
            ],
            [
             0.7777777777777778,
             "#fb9f3a"
            ],
            [
             0.8888888888888888,
             "#fdca26"
            ],
            [
             1,
             "#f0f921"
            ]
           ],
           "sequentialminus": [
            [
             0,
             "#0d0887"
            ],
            [
             0.1111111111111111,
             "#46039f"
            ],
            [
             0.2222222222222222,
             "#7201a8"
            ],
            [
             0.3333333333333333,
             "#9c179e"
            ],
            [
             0.4444444444444444,
             "#bd3786"
            ],
            [
             0.5555555555555556,
             "#d8576b"
            ],
            [
             0.6666666666666666,
             "#ed7953"
            ],
            [
             0.7777777777777778,
             "#fb9f3a"
            ],
            [
             0.8888888888888888,
             "#fdca26"
            ],
            [
             1,
             "#f0f921"
            ]
           ]
          },
          "colorway": [
           "#636efa",
           "#EF553B",
           "#00cc96",
           "#ab63fa",
           "#FFA15A",
           "#19d3f3",
           "#FF6692",
           "#B6E880",
           "#FF97FF",
           "#FECB52"
          ],
          "font": {
           "color": "#2a3f5f"
          },
          "geo": {
           "bgcolor": "white",
           "lakecolor": "white",
           "landcolor": "#E5ECF6",
           "showlakes": true,
           "showland": true,
           "subunitcolor": "white"
          },
          "hoverlabel": {
           "align": "left"
          },
          "hovermode": "closest",
          "mapbox": {
           "style": "light"
          },
          "paper_bgcolor": "white",
          "plot_bgcolor": "#E5ECF6",
          "polar": {
           "angularaxis": {
            "gridcolor": "white",
            "linecolor": "white",
            "ticks": ""
           },
           "bgcolor": "#E5ECF6",
           "radialaxis": {
            "gridcolor": "white",
            "linecolor": "white",
            "ticks": ""
           }
          },
          "scene": {
           "xaxis": {
            "backgroundcolor": "#E5ECF6",
            "gridcolor": "white",
            "gridwidth": 2,
            "linecolor": "white",
            "showbackground": true,
            "ticks": "",
            "zerolinecolor": "white"
           },
           "yaxis": {
            "backgroundcolor": "#E5ECF6",
            "gridcolor": "white",
            "gridwidth": 2,
            "linecolor": "white",
            "showbackground": true,
            "ticks": "",
            "zerolinecolor": "white"
           },
           "zaxis": {
            "backgroundcolor": "#E5ECF6",
            "gridcolor": "white",
            "gridwidth": 2,
            "linecolor": "white",
            "showbackground": true,
            "ticks": "",
            "zerolinecolor": "white"
           }
          },
          "shapedefaults": {
           "line": {
            "color": "#2a3f5f"
           }
          },
          "ternary": {
           "aaxis": {
            "gridcolor": "white",
            "linecolor": "white",
            "ticks": ""
           },
           "baxis": {
            "gridcolor": "white",
            "linecolor": "white",
            "ticks": ""
           },
           "bgcolor": "#E5ECF6",
           "caxis": {
            "gridcolor": "white",
            "linecolor": "white",
            "ticks": ""
           }
          },
          "title": {
           "x": 0.05
          },
          "xaxis": {
           "automargin": true,
           "gridcolor": "white",
           "linecolor": "white",
           "ticks": "",
           "title": {
            "standoff": 15
           },
           "zerolinecolor": "white",
           "zerolinewidth": 2
          },
          "yaxis": {
           "automargin": true,
           "gridcolor": "white",
           "linecolor": "white",
           "ticks": "",
           "title": {
            "standoff": 15
           },
           "zerolinecolor": "white",
           "zerolinewidth": 2
          }
         }
        }
       }
      },
      "text/html": [
       "<div>                            <div id=\"4f44c993-2628-49c0-a08d-a2f2644d5edb\" class=\"plotly-graph-div\" style=\"height:400px; width:100%;\"></div>            <script type=\"text/javascript\">                require([\"plotly\"], function(Plotly) {                    window.PLOTLYENV=window.PLOTLYENV || {};                                    if (document.getElementById(\"4f44c993-2628-49c0-a08d-a2f2644d5edb\")) {                    Plotly.newPlot(                        \"4f44c993-2628-49c0-a08d-a2f2644d5edb\",                        [{\"customdata\":[[\"Wisconsin, USA\",\"Brucella melitensis\",2008.0,44.52559966543819,-89.72168434666398,300],[\"Boston, MA, USA\",\"Francisella tularensis Type A\",2004.0,42.39429602781377,-71.06978710852422,300],[\"Connecticut, USA\",\"Sabi\\u00e1 virus\",1994.0,41.58810990201997,-72.71577360607769,300],[\"India\",\"Buffalopox virus (BPXV)\",2010.0,22.28012507996437,78.74508052027579,300],[\"South Korea\",\"Dengue\",2014.0,36.60397484581657,127.69913045796802,300],[\"Australia\",\"Dengue Virus Serotype 2 (DENV-type 2)\",2011.0,-24.738768536396126,134.76648257232958,300],[\"Recife, PE, Brazil\",\"Leishmania (Viannia) naiffi\",2012.0,-8.152971628862955,-34.92574720793872,300],[\"London, England\",\"Plasmodium falciparum\",1979.0,51.44684356315005,-0.11504978454586796,300],[\"Davis, CA, USA\",\"Titi Monkey Adenovirus (TMAdV)\",2009.0,38.51214901072919,-121.82689542204562,300],[\"Auburn, AL, USA\",\"Cryptosporidium sp.\",1982.0,32.669590094410566,-85.50669324611948,300],[\"New York State, USA\",\"Escherichia coli O157:H7\",1999.0,43.187911767593334,-75.93470503990615,300],[\"California, USA\",\"Streptobacillus moniliformis (rat bite fever)\",1984.0,36.70168956720986,-118.7765900327377,300],[\"Maine, US\",\"Salmonella Typhimurium\",2013.0,45.72642189248397,-68.88942905038815,300],[\"Boston, MA, USA\",\"Vaccinia virus (Western Reserve)\",2013.0,42.33380048075123,-71.00309766765022,300],[\"Germany\",\"Brucella spp.\",1962.0,51.265569818482284,10.423888935238235,300],[\"Alabama, United States\",\"Neisseria meningitidis serogroups B and C\",2000.0,33.39727896189955,-86.85306115164315,300],[\"Singapore\",\"SARS-CoV\",2003.0,1.318651964440907,103.82742707935131,300],[\"Wroclaw, Poland\",\"Viral hepatatis, tuberculosis and brucellosis as the tmost common ones, followed by amebiasis, malaria, zoster, toxoplasmosis, varicella, mumps, mycosis, listeriosis and others\",1990.0,51.08427914453009,16.995434710939136,300],[\"S\\u00e3o Paulo, Brazil\",\"Sabi\\u00e1 virus\",\"Unknown\",-23.591146771261805,-46.73409889161982,300],[\"Auckland, New Zealand\",\"Hepatitis B Virus\",1982.0,-36.79843808405654,174.82615841462334,300],[\"Wisconsin, USA\",\"Vesicular Stomatitis Virus\",1950.0,44.55846770573809,-89.6535583616425,300],[\"\\u00d6rebro, Sweden\",\"Neisseria meningitidis\",2005.0,59.27928146109745,15.22766125119905,300],[\"Venezuela\",\"Trypanosoma cruzi\",1988.0,8.03240756665317,-66.06929445777682,300],[\"Los Angeles, California, USA\",\"Chlamydia trachomatis\",1984.0,34.02165408626211,-118.19214007393391,300],[\"Saudi Arabia\",\"Brucella melitensis\",1989.0,25.67129125730179,42.34447330127898,300],[\"England\",\"Brucella melitensis\",1995.0,52.5365752812305,-1.1669705289110004,300],[\"Copenhagen, Denmark\",\"Bacillus Calmette-Guerin (BCG) vaccine\",1975.0,55.69228230165136,12.548776894083788,300],[\"South Africa\",\"Salmonella enterica (serotype Typhi)\",2012.0,-28.846159326591824,25.073062700025613,300],[\"Sverdlovsk\",\"Bacillus anthracis\",1980.0,56.71330213050922,60.745798644522715,300],[\"Philadelphia, USA\",\"Vaccinia virus\",2004.0,39.9627844045832,-75.13807004135764,300],[\"Copenhagen, Denmark\",\"Bacille Calmette-Guerin (BCG)\",1977.0,55.69923129684989,12.642806986838771,300],[\"Houston, Texas, USA\",\"Brucella spp.\",1981.0,29.8476780863971,-95.27958081297596,300],[\"Baltimore, USA\",\"Salmonella enteritidis and Neisseria meningitidis, group C\",1983.0,39.3362098490529,-76.60018373527538,300],[\"Los Angeles, CA, USA\",\"Burkholderia pseudomallei\",2003.0,34.15073889364183,-118.17744766016855,300],[\"Santa Cruz, Bolivia\",\"Machupo virus\",1994.0,-17.247383885654667,-61.53098814082113,300],[\"Kansas City, USA\",\"Brucella suis\",2010.0,39.21976572310549,-94.58577862553737,300],[\"Maine, US\",\"Salmonella enteritidis (phage type 8)\",2006.0,45.78932221013198,-68.86641271194331,300],[\"Mississippi, USA\",\"Brucella suis\",2010.0,33.03422910930681,-89.76640321254678,300],[\"Lausanne, Switzerland\",\"Lymphocytic choriomeningitis virus\",2015.0,46.54975332924278,6.650741244891804,300],[\"Brussels, Belgium\",\"Brucella melitensis\",1982.0,50.733901729374196,4.355684776364752,300],[\"Nice, France\",\"Brucella melitensis\",1996.0,43.72787947655412,7.145961419941255,300],[\"Germany\",\"HIV\",2000.0,51.181795436935616,10.42368346467749,300],[\"New York, USA\",\"Brucella abortus RB51\",2007.0,40.69835176770329,-73.94105837283472,300],[\"Virginia, USA\",\"Vaccinia (VACV Western reserve strain - contaminant of the recombinant construct OVA-vac with which the lab was working\",2008.0,37.08833795448534,-78.50118126134201,300],[\"M\\u00fcnchen, Germany\",\"Brucella melitensis\",1994.0,48.12047646982391,11.591175366961872,300],[\"Oklahoma, USA\",\"Vaccinia virus\",2003.0,34.90793011567847,-97.2361757331178,300],[\"Austria\",\"Vibrio cholerae\",2008.0,47.60325942775093,14.172316421101987,300],[\"Mexico\",\"Sporothrix schenckii\",2016.0,23.609272526299822,-102.05435846105271,300],[\"California, USA\",\"Neisseria meningitidis serogroup C and serogroup B\",1991.0,36.61425046576504,-118.81929336498399,300],[\"Vanderburgh, Indiana, USA\",\"Lymphocytic Choriomeningitis Virus (LCMV)\",2012.0,37.892916497619446,-87.59701629288699,300],[\"New York, USA\",\"Avian Influenza A(H7N2)\",2016.0,40.91824177556975,-74.09777708196086,300],[\"Beijing, China\",\"SARS coronavirus\",2004.0,39.85620361990576,116.27224033679634,300],[\"Spain\",\"Histoplasma capsulatum var capsulatum\",2011.0,39.28646141151583,-4.860460845155772,300],[\"Seville, Spain\",\"Brucella melitensis\",1988.0,37.42737186242446,-6.032383424361556,300],[\"Boulder, Colorado\",\"Sin Nombre virus\",2005.0,40.07030104288574,-105.31296832316023,300],[\"Atlanta USA\",\"lymphocytic choriomeningitis virus (LCMV)\",1989.0,33.699982759902085,-84.39303265688714,300],[\"Boulder, Colorado, USA\",\"Blastomyces dermatiditis\",1998.0,40.05542864159414,-105.25309205671505,300],[\"Maine, USA\",\"Brucella ceti\",2012.0,45.732072418415875,-69.0034035018307,300],[\"Indiana, USA\",\"Brucella spp.\",2006.0,40.34172164832047,-86.143064275024,300],[\"Milwaukee, Wisconsin, USA\",\"Brucella melitensis\",1992.0,42.97296303421177,-88.04873648958198,300],[\"Massachusetts, USA\",\"Brucella melitensis\",2008.0,42.39887351846377,-72.00693808572679,300],[\"Rome, Italy\",\"Brucella melitensis\",2006.0,41.958422537161034,12.430106025628017,300],[\"California, USA\",\"Bacillus anthracis\",2004.0,36.61004403717203,-118.72787602642512,300],[\"French Guiana\",\"Mayaro virus\",1998.0,4.067656299361673,-52.94075821949945,300],[\"Malatya, Turkey\",\"Staphylococcus aureus\",\"Unknown\",38.4350396991831,38.372777724364504,300],[\"Germany\",\"Coxiella burnetii\",\"Unknown\",51.11210244616019,10.494786838368695,300],[\"Japan\",\"Anthroderma benhamiae\",2002.0,36.52596737682503,139.28487834387371,300],[\"K\\u00f6ln, Germany\",\"Echovirus 11\",1978.0,51.068078026680034,6.906690900971095,300],[\"San Francisco, CA, USA\",\"Coxiella burnetii\",1979.0,37.69333703132903,-122.40899456280331,300],[\"Paris, France\",\"Penicillium marneffei\",1994.0,48.863584734132026,2.346557305929417,300],[\"Philadelphia, Pennsylvania, USA\",\"Cryptosporidium\",2015.0,40.016231575847335,-75.23230877600157,300],[\"Reston, VA\",\"Ebola virus\",1994.0,39.00149521206304,-77.46334012204812,300],[\"London, England\",\"Echo 11 Virus\",1978.0,51.69093923432151,-0.11585087461702459,300],[\"California, USA\",\"Creutzfeldt-Jakob disease\",1990.0,36.65866259597383,-118.66247008560696,300],[\"Germany\",\"Creutzfeldt-Jakob disease\",1992.0,51.18230600123835,10.42669425443391,300],[\"Taiwan\",\"Vibrio parahaemolyticus\",1999.0,24.034193809939445,121.01062868804472,300],[\"Babol, Iran\",\"Brucella sp.\",1997.0,36.57225109095087,52.6763581219434,300],[\"Reading, Berkshire, England\",\"Shigella sonnei\",1983.0,51.46086670719705,-0.9757934332303446,300],[\"Nantes, France\",\"Mycobacterium tuberculosis\",1997.0,47.2241196242925,-1.6414960510934813,300],[\"Washington, USA\",\"Mycobacterium tuberculosis\",1997.0,38.963461600132284,-76.99823239004219,300],[\"Frederick, MD\",\"Rickettsia rickettsii\",1971.0,39.36509307052301,-77.37622333387755,300],[\"Philadelphia, PA, USA\",\"Escherichia coli O157:H7\",2002.0,39.99871582046766,-75.19068390104547,300],[\"Moscow, Russia\",\"Omsk Hemorrhagic Fever Virus (Flavidivirdiae, Flavivirus, Tick-borne Encephalitis Antigenic Compliex\",1970.0,55.68938857344129,37.657594922462,300],[\"Massachusetts, Boston. USA\",\"Vaccinia Virus\",2013.0,42.437139971120274,-71.05822165387582,300],[\"Chile\",\"Coccidioides posadasii\",2017.0,-31.82674356844572,-71.38542097909051,300],[\"Shenyang, People\\u2019s Republic of China\",\"Seoul Virus and Hantavirus\",2006.0,41.590564429837734,123.464068493367,300],[\"New York\",\"Creutzfeld-Jakob disease\",1988.0,40.672764386479656,-73.97702479243588,300],[\"Australia\",\"Newcastle Disease virus (NDV)\",1987.0,-24.873031931298627,134.766797216572,300],[\"UK\",\"Hantavirus\",1977.0,54.770954661572034,-3.2926401089374684,300],[\"Afyonkarahisar, Turkey\",\"Brucella melitensis\",2008.0,38.683139630752116,30.73252346397193,300],[\"Australia\",\"Candidatus Mycoplasma haemohominis\",2018.0,-24.762323962753282,134.74532675763683,300],[\"Townsville, Australia\",\"Brucella suis\",1996.0,-19.24321889248609,146.77820308207578,300],[\"The Netherlands\",\"Meticillin-Resistant Staphylococcus aureus (MRSA) multilocus sequence type 5 (paediatric) and 8 (New York/Japan strain)\",2004.0,52.21493977610351,5.521324981102063,300],[\"Great Britain\",\"Hepatitis A, Hepatitis B and non-A, non-B Hepatitis, Tuberculosis, Shigella, Brucella, Herpes, unidentified bowel infections\",1982.0,54.18351315839163,-1.9921580355850226,300],[\"Rio de Janeiro, Brazil\",\"Zika Virus (ZIKV) Brazilian strain\",2017.0,-23.015235113628414,-43.23956763388836,300],[\"Washington State\",\"Mycobacterium tuberculosis; Tuberculosis\",1996.0,47.26939617463079,-120.14132154087399,300],[\"China\",\"Brucella melitensis biovar\",2011.0,34.973892169687865,105.01523806938191,300],[\"Winnipeg, Manitoba, Canada\",\"Francisella tularensis type B subspecies holarctica\",2018.0,49.95589467478949,-97.14970239143057,300],[\"Ottawa, Canada\",\"Creutzfeld-Jakob disease\",1988.0,45.378059234995426,-75.64042316775796,300],[\"San Francisco, CA, USA\",\"Neisseria meningitidis serogroup B\",2012.0,37.81766380690245,-122.35831565333665,300],[\"South Africa\",\"African horsesickness virus\",1985.0,-28.828871625467606,24.95842727517942,300],[\"Moscow, Russia\",\"Venezuelan Equine Encephalomyelitis virus (VEE_\",1956.0,55.695012777266285,37.69847946664593,300],[\"Moscow, Russia\",\"Kyasanur Forest Disease Virus\",1988.0,55.75669261403161,37.55532722299863,300],[\"Moscow, Russia\",\"Vesicular Stomatitis Virus (Rhabdoviridae, Vesilculovirus, Vesicular Stomatitis Antigenic Group)\",1964.0,55.68153723511182,37.55940888802065,300],[\"Moscow, Russia\",\"Crimean-Congo Hemorrhagic Fever Virus (Bunyaviridae, Bunyaviirus, CHF-Congo Antigenic Group\",1970.0,55.74215435495201,37.722778100844735,300],[\"Randolph County, West Virginia, USA\",\"Hantavirus, Sin Nombre Virus (monongahela)\",2004.0,38.79049577454815,-79.903802967809,300],[\"Moscow, Russia\",\"Dhori Virus (Orthomyxoviridae)\",1978.0,55.75745488449196,37.59183842690003,300],[\"Germany\",\"Simian Foamy Virus\",1976.0,51.13023160111599,10.504479710266395,300],[\"Moscow, Russia\",\"Hemorrhagic Fever with the Renal Syndrome (Bunyaviridae, Hantavirus(\",1958.0,55.77085940976586,37.652228783411445,300],[\"Pretoria, South Africa\",\"West Nile Virus, lineage 2\",2008.0,-25.751433034454188,28.22724379728903,300],[\"Buenos Aires, Argentina\",\"Brucella abortus strain S19\",1999.0,-34.61605309352986,-58.42856803578891,300],[\"Texas, USA\",\"Novel adenovirus (BaAdV-1, BaAdV-2(\",1997.0,31.19746797901683,-98.58666818470084,300],[\"Finland\",\"Toxoplasma gondii\",1983.0,63.18537738390783,25.96127275822006,300],[\"Oakland, California\",\"Mycobacterium tuberculosis\",1978.0,37.8140002412855,-122.32281707060304,300],[\"Italy\",\"HIV, Hepatitis C\",\"Unknown\",42.64005661208223,12.668683237047176,300],[\"Richland, WA\",\"Enterobacter aerogenes\",\"Unknown\",46.28237378420323,-119.31004254551287,300],[\"Japan\",\"Arthorderma benhamiae\",2001.0,36.640169715338274,139.19647329577865,300],[\"Madison, Wisconsin, USA\",\"Influenza A (H1N1)\",1994.0,42.996752351466704,-89.31606163994103,300],[\"Shahrekord, Iran\",\"Vaccinia virus\",2013.0,32.40390121526011,50.86300516182815,300],[\"La Jolla, CA, USA\",\"Lymphocytic choriomeningitis virus (LCMV)\",2001.0,32.86264877553488,-117.22854597206512,300],[\"Boston, Massachusetts, USA\",\"Vaccinia virus\",2007.0,42.27995315794796,-71.16375210988835,300],[\"Washington D.C., USA\",\"Plasmodium falciparum\",1982.0,38.870452430080455,-76.94771904576179,300],[\"Atlanta, Georgia, USA\",\"Bacillus anthracis\",2002.0,33.83551932549836,-84.4637178412973,300],[\"Suffield, Alberta, Canada\",\"West Nile virus\",2003.0,50.23612595959478,-111.09758056318597,300],[\"United Kingdom\",\"Hepatitis C, Shigella sonnei, Shigella flexneri, Escherichia coli O157, Mycobacterium tuberculosis\",1994.0,54.73097657828145,-3.182843089533776,300],[\"Taiwan\",\"Dengue type 1\",2004.0,23.954555084940107,121.0552284228356,300],[\"Sweden\",\"Brucella melitensis\",2013.0,59.6119861005001,14.547070818130099,300],[\"Taiwan\",\"Shigella\",2006.0,23.91997028547992,120.95879354326988,300],[\"Fort Detrick, Maryland\",\"Burkholderia mallei\",2000.0,39.362371842007505,-77.37250561561693,300],[\"Bethesda, MD, USA\",\"Francisella tularensis\",2012.0,39.04213044513903,-77.06739504833189,300],[\"New York State, USA\",\"Brucella melitensis\",2001.0,43.1728082775847,-75.85660768489105,300],[\"Kent, UK\",\"Toxoplasma gondii (RH strain)\",\"Unknown\",51.31957495663214,0.7227967398984774,300],[\"Great Britain\",\"Mycobacterium tuberculosis, Brucella spp, Hepatitis virus and Shigella spp.\",1976.0,54.25744346146153,-1.86798765398762,300],[\"Maringa, Brazil\",\"Trypanosoma cruzi (strain Y)\",2003.0,-23.451806163638885,-51.925736000595336,300],[\"Chicago, IL, USA\",\"Yersinia pestis\",2009.0,41.9803086762121,-87.61883608591604,300],[\"Ibadan, Nigeria\",\"Trypanosoma gambiense\",\"Unknown\",7.387385329258322,3.861693487820955,300],[\"Fort Collins, CO, USA\",\"Cryptosporidium\",1987.0,40.61814245944742,-105.01134931301515,300],[\"Little Rock, AR, USA\",\"Coxiella burnetti\",1985.0,34.67301452925816,-92.36179810873658,300],[\"Glasgow, UK\",\"T.gondii and L.monocytogenes\",2001.0,55.76642243608357,-4.198394573598179,300],[\"Denver, Colorado, USA\",\"Coxiella burnetti\",1980.0,39.74218248885639,-104.95499959896786,300],[\"London, UK\",\"Toxoplasma gondii\",\"Unknown\",51.56047368084588,-0.15335365016142652,300],[\"Brookings, South Dakota, USA\",\"Coxiella burnetti\",2013.0,44.36113895239452,-96.73147830652715,300],[\"Spain\",\"Brucella sp.\",2003.0,39.267244035763404,-4.877608403196972,300],[\"Charleston, South Carolina, USA\",\"Coxiella burnetti\",1991.0,32.843644541333376,-79.96961150300591,300],[\"T\\u00fcbingen, Germany\",\"Leishmania mexicana\",1997.0,48.59855654489417,8.941462601467327,300],[\"Washington, DC, USA\",\"Plasmodium falciparum\",1982.0,38.851090590210845,-77.10068997632659,300],[\"Finland\",\"Chiamydia pneumoniae,\",1993.0,63.23447804524255,25.897647404322324,300],[\"Cape Cod, Massachusetts, USA\",\"Influenza A virus (A/Seal/Mass/1/80[H7N7])\",1979.0,41.83061016340823,-69.96246271074983,300],[\"Bordeaux, France\",\"Trypanosoma gambiense (strain FEO ITMAP-1893)\",1992.0,44.92933640965981,-0.6099995584386967,300],[\"Toronto Canada\",\"Campylobacter jejuni\",\"Unknown\",43.6572885064059,-79.35787499592276,300],[\"Brazil\",\"Brucella abortus\",2012.0,-10.354072115159214,-53.17596952875346,300],[\"New York, USA\",\"Venezuelan Equine Encephalitis virus\",1963.0,40.75206135765091,-73.92347874756622,300],[\"Albuquerque, NM, USA\",\"Campylobacter fetus ss jejuni\",\"Unknown\",35.07657741350524,-106.6053888373559,300],[\"San Francisco, USA\",\"Trypanosoma cruzi (strain CL)\",1985.0,37.72486074889131,-122.39230099061946,300],[\"North Queensland, Australia\",\"Burkholderia (Pseudomonas) pseudomallei\",\"Unknown\",-25.306416014799755,151.2207268762437,300],[\"Australia\",\"Shigella flexneri\",1982.0,-24.715809681546503,134.75794849833522,300],[\"Oklahoma, USA\",\"Francisella tularensis\",2007.0,34.99370573047867,-97.31124823096471,300],[\"Girona, Spain\",\"Brucella melitensis, Rev-1\",1982.0,41.959548137083466,2.7912541696945357,300],[\"UK\",\"Case 1 - Leptospira interrogans serogroup Icterohaemorrhagiae strain CF1\",1988.0,54.61814194490566,-3.26225020919088,300],[\"Scotland\",\"Verotoxin-producing Escherichia coli (VTEC) (O157:H7)\",\"Unknown\",56.76847654494973,-4.05291930586797,300],[\"Germany\",\"Recombinant Vaccinia virus strain Western Reserve\",\"Unknown\",51.150499472043876,10.402472177841956,300],[\"Pensacola, FL, USA\",\"Cercopithecid herpesvirus 1, Herpesvirus simiae\",1987.0,30.515524729279303,-87.09665903892657,300],[\"Suffield, Alberta, Canada\",\"West Nile Virus\",2003.0,50.13375533637931,-111.21647217853732,300],[\"Denmark\",\"Escherichia coli O117:K1:H7\",1997.0,55.62671763537738,10.285827126986767,300],[\"France\",\"Neisseria meningitidis Group C\",1985.0,46.6436950153238,1.931448016284157,300],[\"France\",\"Neisseria meningitidis Group B\",1987.0,46.51127304145601,1.950764918641856,300],[\"Syracuse NY, USA\",\"Burkholderia (Pseudomonas) pseudomallei\",1980.0,43.06758606768023,-76.07340735289439,300],[\"Martha's Vineyard, Massachusetts, USA\",\"Francisella tularensis\",2000.0,41.350890448214486,-70.69273694856732,300],[\"Fukuoka, Japan\",\"Helicobacter pylori\",\"Unknown\",33.61073465984063,130.57050485628764,300],[\"Finland\",\"Chlamydia pneumoniae Kajaani 6\",1987.0,63.19687329032358,25.99238993027441,300],[\"Ames, Iowa, USA\",\"Leptospira interrogans serovar hardjo\",\"Unknown\",42.00693580598492,-93.47101761594277,300],[\"Finland\",\"Chlamydophila/Chlamydia pneumoniae\",1990.0,63.25413795025849,25.88401659967317,300],[\"London, United Kingdom\",\"Corynebacterium diphtheriae var gravis\",1997.0,51.43809863435077,-0.192593680724571,300],[\"Germany\",\"Corynebacterium diphtheriae NCTC 10684\",1996.0,51.149616668719375,10.44158064925623,300],[\"Auburn, Alabama, USA\",\"Bovine stomatitis virus\",1978.0,32.529090435554416,-85.43475716662205,300],[\"Los Angeles, CA, USA\",\"Chlamydia trachomatis\",1982.0,34.12554252369687,-118.25112597078578,300],[\"Beer Sheva, Israel\",\"Chlamydia trachomatis\",1986.0,31.213369491605427,34.83341288573682,300],[\"San Francisco, California, USA\",\"Chlamydia pneumoniae\",1989.0,37.784886263326875,-122.36236612122276,300],[\"India\",\"Mycobacterium leprae\",\"Unknown\",22.25540895081694,78.62498275525606,300],[\"Portugal\",\"Mycobacterium tuberculosis\",\"Unknown\",39.71956815423616,-8.051008155942382,300],[\"Iran\",\"Vaccinia virus\",2013.0,32.67345452870346,54.5031350320343,300],[\"Japan\",\"Mycobacterium tuberculosis\",1985.0,36.58776103181902,139.17841363687162,300],[\"New York State, USA\",\"Escherichia coli O157:H7\",1999.0,43.23324943241112,-75.83002600254088,300],[\"United Kingdom\",\"Neisseria meningitidis Group C\",1992.0,54.71213883184818,-3.2637819262599073,300],[\"Hradec Kr\\u00e1lov\\u00e9, Czechia\",\"Francisella tularensis\",1989.0,50.19458861668094,15.85549285883144,300],[\"Seattle, Washington, USA\",\"Mycobacterium tuberculosis\",2004.0,47.60091942549118,-122.38434970468099,300],[\"Idaho\",\"Cryptosporidium\",1980.0,43.60695485307849,-113.90296171868337,300],[\"Auburn, Alabama, USA\",\"Cryptosporidium\",\"Unknown\",32.604195393589876,-85.50609868250655,300],[\"Georgia, USA\",\"Rocky Mountain Spotted Fever (RMSF)\",1977.0,32.303334389117566,-83.15188482081295,300],[\"Seoul, Korea\",\"Orentia tsutsugamushi\",2000.0,37.4592238454695,126.96123425099596,300],[\"Switzerland\",\"Neisseria Meningitidis, group C\",\"Unknown\",46.74574854123476,8.333717887555526,300],[\"Belgium\",\"Mycobacterium Kansasii\",1994.0,50.68127075655766,4.642479037029279,300],[\"Minnesota, USA\",\"Streptobacillus moniliformis\",\"Unknown\",46.02619232341057,-94.66029980998046,300],[\"Ottawa, Canada\",\"Neisseria gonorrhoeae strain 188 T1\",\"Unknown\",45.47939068896821,-75.75842069119406,300],[\"The Netherlands\",\"Staphylococcus aureus, MRSA, MSSA\",\"Unknown\",52.3279069902341,5.585615789773387,300],[\"Seoul, Korea\",\"Rickettsia typhi\",1990.0,37.66734041429001,127.03348305974514,300],[\"Sydney, New South Wales, Australia\",\"Staphylococcus aureus, MRSA, EMRSA\",2002.0,-33.84048705876704,151.18462729434822,300],[\"Germany\",\"Mycobacterium tuberculosis\",\"Unknown\",51.04196167873962,10.441794990178591,300],[\"Netherlands\",\"Shigella flexneri\",1985.0,52.14975173295236,5.652201877674194,300],[\"Kuala Lumpur Malaysia\",\"Salmonella typhi\",\"Unknown\",3.1363119504296297,101.7417418700936,300],[\"Maryland, USA\",\"Salmonella typhimurium\",2011.0,39.57067434987635,-76.9704347188076,300],[\"Texas, USA\",\"Shigella dysenteriae\",1996.0,31.27343922065669,-98.54597831830266,300],[\"Denmark\",\"Salmonella typhi, Salmonella paratyphi A, Salmonella paratyphi B\",1986.0,55.56718704420357,10.327911625591673,300],[\"Great Britain\",\"Neisseria meningitidis\",1985.0,54.30405752654985,-1.8624894601558912,300],[\"Zagreb, Croatia\",\"Neisseria gonorrhoeae\",2015.0,45.856510247717125,15.90841959335982,300],[\"Germany\",\"Shigella boydii\",1981.0,51.23236217110011,10.506459180493144,300],[\"Arizona, USA\",\"Yersinia pestis\",2007.0,34.36153478317137,-111.77262720420663,300],[\"Bethesda, USA\",\"Rickettsia typhi\",1978.0,38.98155366285438,-77.09186053450124,300],[\"Baltimore, Maryland\",\"HIV-2\",2001.0,39.32504038043826,-76.60453115583385,300],[\"Leeds, West Yorkshire, England\",\"Salmonella typhimurium strain LT-2\",\"Unknown\",53.77693600524831,-1.5200253166253206,300],[\"Boston, MA, USA\",\"Bacteroides asaccharolyticus\",\"Unknown\",42.40204379876213,-70.961149420472,300],[\"Chapel Hill, NC USA\",\"Neisseria gonorrhoeae\",1983.0,35.9409311351186,-79.04826817191108,300],[\"San Diego, CA, USA\",\"Neisseria gonorrhoeae\",\"Unknown\",32.723591906735756,-117.09979700451525,300],[\"Frankfurt, Germany\",\"Neisseria gonorrhoeae\",1980.0,50.064354460627825,8.727202340687901,300],[\"Chapel Hill, North Carolina, USA\",\"Neisseria meningitidis\",\"Unknown\",35.887327408890634,-78.97745066672539,300],[\"Paris, France\",\"Neisseria meningitidis\",2007.0,48.8583376306264,2.4111162733570994,300],[\"Atlanta, GA, USA\",\"Rickettsia sp. (Rocky Mounted Spotted Fever)\",1977.0,33.744966993641164,-84.42091869304106,300],[\"Townsville, Queensland Australia\",\"Salmonella typhi; Salmonella give\",1989.0,-19.251223514376278,146.87658165206113,300],[\"Bethesda, Maryland, USA\",\"Bordetella pertussis\",1985.0,38.98912014472522,-77.15426605385403,300],[\"London, England\",\"Brucella melitensis\",1995.0,51.532572480565705,-0.11559300787121558,300],[\"Nairobi, Kenya\",\"Brucella melitensis\",\"Unknown\",-1.2222082428934022,36.807816103386365,300],[\"Royal Oak, MI, USA\",\"Brucella melitensis\",1996.0,42.48357614740688,-83.2078518761334,300],[\"United Arab Emirates\",\"Brucella melitensis\",\"Unknown\",23.98623766664707,54.01900858395528,300],[\"Turkey\",\"Brucella\",\"Unknown\",38.86224491884641,34.86116153853125,300],[\"Columbia, Missouri, USA\",\"Pasteurella multocida\",\"Unknown\",38.94269762698753,-92.2577157058801,300],[\"Michigan, USA\",\"Brucella melitensis\",1988.0,43.55046167078045,-84.640173881523,300],[\"Spain\",\"Brucella abortus Strain 19\",1982.0,39.378909981177515,-4.79151687686805,300],[\"Beer-Sheva, Israel\",\"Brucella melitensis\",1997.0,31.236511973519313,34.88075209043171,300],[\"Atlanta, Georgia USA\",\"Brucella melitensis\",\"Unknown\",33.64234632168608,-84.47124959450088,300],[\"Kuala Lumpur, Malaysia\",\"Brucella melitensis\",2009.0,3.144764084269803,101.7533685253899,300],[\"Michigan USA\",\"Brucella melitensis\",1988.0,42.95810560267191,-82.42359704571491,300],[\"Great Britain\",\"Vaccinia virus -recombinant WR strain, thymidiine kinase negative\",\"Unknown\",54.3829227523162,-1.9412705695826067,300],[\"Madison, Wisconsin USA\",\"Vesicular stomatitis virus\",\"Unknown\",43.086387096592084,-89.36581346281045,300],[\"Minas Gerais, Brazil\",\"Vaccinia virus\",\"Unknown\",-18.435494507201053,-44.09927026360689,300],[\"Biedenkopf, Germany\",\"Vaccina virus recombined with Hepatitis C virus protein\",\"Unknown\",50.916192794146724,8.614595613417722,300],[\"South Africa\",\"West Nile virus lineage 2\",\"Unknown\",-28.88592813804607,24.919384385550828,300],[\"Slovenia\",\"tick-born encephalitis virus\",1992.0,45.85364133105384,14.482182242089564,300],[\"London UK\",\"recombinant vaccinia viruses expressing RSV glycoprotein G and RSV 22K protein\",1990.0,51.516087044741006,-0.2679878122675141,300],[\"Vladivostok, Russia\",\"Vaccinia virus\",2000.0,43.18206133082652,131.83313063875372,300],[\"Franceville, Gabon\",\"Simian Foamy Virus (SFV)\",2010.0,-1.6405912349053458,13.523908959016408,300],[\"Corvallis, Oregon, USA\",\"Vesivirus\",2006.0,44.60022565336767,-123.25148945142081,300],[\"Ankara Turkey\",\"Brucella\",2003.0,39.93936430663025,32.885033695529664,300],[\"Spain\",\"Brucella sp.\",1970.0,39.358813343165984,-4.82015861118411,300],[\"Chicago, IL, USA\",\"Brucella melitensis\",1980.0,41.90303926331274,-87.61471476692533,300],[\"Calcutta, India\",\"Vibrio parahaemolyticus\",1972.0,22.586559292830508,88.33573630988707,300],[\"Ames, IA\",\"Brucella abortus, Strain 19\",1988.0,42.04066608779065,-93.63099024348806,300],[\"Baltimore, Maryland, USA\",\"Salmonella typhi\",\"Unknown\",39.28735396270473,-76.49236781735662,300],[\"Thailand\",\"Burkholderia pseudomallei\",2014.0,14.870846034327826,100.77045330763698,300],[\"Minnesota, USA\",\"Salmonellya typhimurium\",1988.0,46.045835752274584,-94.59756792717158,300],[\"Kuala Lumpur, Malaysia\",\"Salmonella typhi\",1992.0,3.1050979297812944,101.67450738070694,300],[\"Sassari, Italy\",\"Brucella abortus\",1990.0,40.73699081336145,8.530502641817115,300],[\"Jerusalem, Israel\",\"Brucella melitensis\",1985.0,31.856883370275565,35.22874153335706,300],[\"Chicago, Illinois, USA\",\"Bacillus cereus\",2011.0,41.97202693703108,-87.51878782780264,300],[\"Madison, Wisconsin, USA\",\"Salmonella enterica Enteritidis\",\"Unknown\",43.05198386297699,-89.31762365383021,300],[\"Jalan Pahang, Kuala Lumpur\",\"Rickettsia typhi\",\"Unknown\",3.2511685086556796,101.72945674230267,300],[\"South Korea\",\"Orientia tsutsugamushi\",\"Unknown\",36.586235691709476,127.664544802292,300],[\"Florida, USA\",\"Brucella spp.\",2009.0,27.72621261957534,-81.49070063164527,300],[\"Nairobi, Kenya\",\"Brucella melitensis\",\"Unknown\",-1.2785488313612074,36.864559515090924,300],[\"China\",\"Brucella spp.\",2010.0,35.0067132034919,104.92375177613894,300],[\"Riyadh, Saudi Arabia\",\"Brucella spp.\",1984.0,24.56169365976838,46.715141101831776,300],[\"Pensacola, Florida, USA\",\"Herpes B Virus\",\"Unknown\",30.488549364619743,-87.18038772072994,300],[\"Colorado, USA\",\"Burkholderia pseudomallei\",2010.0,38.71829691907785,-105.60910765801661,300],[\"uknown\",\"Campylobacter jejuni strain VLA2/18\",\"Unknown\",30.531464475068553,78.72820258621704,300],[\"The Netherlands\",\"Mycobacterium tuberculosis\",\"Unknown\",52.311238057731046,5.58160268627917,300],[\"Oxford, UK\",\"Brucella melitensis\",1991.0,51.701410492502305,-1.3548739877620415,300],[\"Nairobi, Kenya\",\"Brucella melitensis\",1992.0,-1.4606497511448007,36.86030169234295,300],[\"Kansas City, USA\",\"Brucella melitensis\",2011.0,39.00839469584865,-94.59171156559132,300],[\"Serdang, Selangor, Malaysia\",\"Brucella sp.\",2014.0,2.9130331676996275,101.6722913989254,300],[\"Germany\",\"Brucella sp.\",2002.0,51.20467492202299,10.47809967747873,300],[\"Pretoria, South Africa\",\"Lymphocytic choriomeningitis virus\",2008.0,-25.859112822419203,28.17461546499,300],[\"Rio de Janeiro, Brazil\",\"Vaccinia virus\",2003.0,-22.867758378943886,-43.18862971622379,300],[\"London, England\",\"Plasmodium vivax\",1968.0,51.466027105889395,-0.2551369018854196,300],[\"Toronto, Ontario, Canada\",\"Burkolderia (Pseudomonas) pseudomallei\",1966.0,43.5378045469508,-79.42981163263165,300],[\"Copenhagen, Denmark\",\"Brucella melitensis\",2012.0,55.653674387189035,12.667273074749861,300],[\"Panama Canal Zone\",\"Vesicular stomatitis virus\",1962.0,8.967204958345903,-79.54566842674146,300],[\"Minneapolis, Minnesota USA\",\"Treponema pallidum, Nichols strain\",1975.0,44.95907661888293,-93.1787941050711,300],[\"north Karnataka India\",\"Echinoccus spp.\",\"Unknown\",12.916214224818692,77.59527161745193,300],[\"Saskatchewan, Canada\",\"Salmonella enterica Serovar Typhimurium\",2011.0,55.58967458313841,-106.0910227109239,300],[\"Carshalton, England\",\"Mycoplasma caviae\",1971.0,51.37890584909564,-0.23063951888918338,300],[\"Japan\",\"AHC virus (enterovirus 70)\",1976.0,36.50004944850595,139.19002306116346,300],[\"Cleveland, OH, USA\",\"Blastomyces dermatitidis\",1970.0,41.51094086907366,-81.68970454518903,300],[\"Washington, D.C., USA\",\"Kyasanur Forest Disease Virus\",1957.0,38.93228357729386,-77.0488292999019,300],[\"South Africa\",\"West Nile Virus\",\"Unknown\",-28.87201152465987,25.00005510291622,300],[\"Cairo, Egypt\",\"West Nile Virus\",1952.0,29.896397355967018,31.32230140453544,300],[\"Pullman, Washington, USA\",\"Recombinant WR strain vaccinia virus expressing VSV(IND serotype) protein N\",1986.0,46.69277127477774,-117.19670198157391,300],[\"Wiltshire, England\",\"Ebola virus\",1976.0,51.25202412446047,-1.9363693443172725,300],[\"Riyadh, Saudi Arabia\",\"Brucella spp.\",1983.0,24.581225138176652,46.62604640808199,300],[\"Bandafassi, Senegal\",\"Zika virus\",2008.0,12.452336131578186,-12.366987491321762,300],[\"Riyadh, Saudi Arabia\",\"Brucella spp.\",1991.0,24.596734249703132,46.699322536808324,300],[\"Riyadh, Saudi Arabia\",\"Brucella melitensis\",\"Unknown\",24.603314231904967,46.83902500957218,300],[\"China\",\"Hantavirus\",1995.0,34.937391236531894,105.03998086479841,300],[\"China\",\"Hantavirus\",\"Unknown\",34.97031925272118,105.0734844182189,300],[\"Sendai, Japan\",\"Korean haemorrhagic fever\",1975.0,38.23995204573815,140.85620417406315,300],[\"Plumas County, California\",\"Sin Nombre Virus, hantavirus\",2004.0,40.02413157487282,-120.7302208123204,300],[\"Finland\",\"Puumala virus, hantavirus\",\"Unknown\",63.363143886410974,25.940164127272755,300],[\"Blacksburg, VA, USA\",\"Hantavirus\",2004.0,37.33700058250384,-80.35859869624178,300],[\"Great Britain\",\"Shigella flexneri, Salmonella typhimurium, Salmonella typhi, M. tuberculosis, non-A non-B hepatitis\",1986.0,54.29588447236356,-1.9852495266377692,300],[\"Boston, Massachusetts, USA\",\"Neisseria meningitides\",2009.0,42.296342761671625,-71.06642299244704,300],[\"Minnesota, USA\",\"Staphylococcus, Shigella B\",1986.0,45.952669944584144,-94.53801417854757,300],[\"Japan\",\"Mycobacterium tuberculosis, Hepatitis B, Non-A Non-B hepatitis, Rubella, Hepatitis A, Mycoplasma, Camplylobacter enteritis, Paratyphus, Salmonella, Varicella\",1980.0,36.63105741658918,139.21427360317267,300],[\"Fort Detrick, Maryland, USA\",\"Bacillus anthracis, Yersinia pestis, Francisella tularensis, Burkholderia pseudomallei, Burkholderia mallei, alphavirus, bunyavirus, flavivirus, filovirus, orthopox virus, botulinum toxin\",1989.0,39.44938829815127,-77.47902231069855,300],[\"United Kingdom\",\"Hepatitis, Tuberculosis, Chickenpox, Salmonellosis, Shigella, Malaria\",1979.0,54.733675670738336,-3.270751665358672,300],[\"Bethesda, MD, USA\",\"Bordetella pertussis\",1983.0,38.943051573065794,-77.11220343561858,300],[\"Chandigarh, India\",\"Mycobacterium tuberculosis\",1987.0,30.8165648363934,76.8349047024808,300],[\"Georgia, USA\",\"Bordetella pertussis\",1995.0,32.31640986757629,-83.11876785684764,300],[\"Seoul, Korea\",\"Hantaan virus\",1971.0,37.58204820403443,127.03408183371404,300],[\"Norwood, Massachusetts, USA\",\"Mycobacterium tuberculosis\",\"Unknown\",42.231935727427704,-71.22592434741415,300],[\"Osaka, Japan\",\"Corynebacterium equi, Rhodococcus equi\",1987.0,34.55104226606511,135.38428426634846,300],[\"Cambridge, United Kingdom\",\"Streptococcus pyogenes group A\",1981.0,52.23556083396777,0.140303565501948,300],[\"Seattle, Washington, USA\",\"Mycobacterium tuberculosis\",2004.0,47.61555965407261,-122.28984542837073,300],[\"Fort Detrick, Maryland, USA\",\"Rickettsia rickettsii\",1955.0,39.48687091179116,-77.46158829623919,300],[\"Massachusetts, USA\",\"Salmonella typhi\",1977.0,42.406748637195015,-72.02181233850999,300],[\"Fort Detrick, Maryland, USA\",\"Rickettsia rickettsii\",1971.0,39.45737011283981,-77.4404870696677,300],[\"Maryland, USA\",\"Hantavirus: Sin Nombre(SNV) and Andes\",2004.0,39.50838292032043,-76.86690262605082,300],[\"Istanbul, Turkey\",\"Brucella spp.\",2004.0,41.092337400820796,28.94049656020483,300],[\"Broward County, FL, USA\",\"Burkholderia pseudomallei\",2005.0,26.228165855601077,-80.43939225846529,300],[\"Kalamazoo, MI, USA\",\"Herpes B\",1989.0,42.256530496626624,-85.57118689932845,300],[\"Ibadan, Nigeria\",\"Chikungunya virus, Dugbe virus, Wesselbron virus, Dengue virus\",1963.0,7.3338359467833785,3.9277792255829147,300],[\"Winnipeg, Canada\",\"Ebola\",2016.0,49.88147941352957,-97.0095920005047,300],[\"Pensacola, FL, USA\",\"Herpes B\",1987.0,30.366561728832703,-87.28312432107386,300],[\"Virginia\",\"Filovirus\",1990.0,37.16274115150228,-78.59266796066152,300],[\"Turku, Finland\",\"Cryptosporidium\",1986.0,60.49800204875998,22.24518596481828,300],[\"Pune, India\",\"Ganjam virus\",1977.0,18.482393465238342,73.86783346544124,300],[\"Washington State, USA\",\"Escherichia coli 0157:h7\",1987.0,47.33431051462678,-120.24767996560745,300],[\"United Kingdom\",\"Escherichia coli 0157\",1996.0,54.76813900752974,-3.1962756722855348,300],[\"Sweden\",\"Vibrio cholera\",1992.0,59.63034671703747,14.50759339100676,300],[\"Alberta, Canada\",\"Neisseria meningitidis\",\"Unknown\",55.073019482110645,-115.01558457315889,300],[\"East Lansing, Michigan, USA\",\"Brucella melitensis\",1938.0,42.66092510298476,-84.4796220107003,300],[\"Netherlands\",\"Coxiella burnetii\",1983.0,52.175802863739555,5.736166857114617,300],[\"Paris, France\",\"Helicobacter pylori\",\"Unknown\",48.870292947705785,2.343942593677401,300],[\"Toronto, Ontario, Canada\",\"Coxiella burnetii\",1982.0,43.643647026001354,-79.36265569002846,300],[\"Russia\",\"Ratpox [cowpox]\",1988.0,64.65920259896967,97.71015697358456,300],[\"Raleigh, North Carolina, USA\",\"Cryptosporidium sp\",\"Unknown\",35.7798478983032,-78.67390461811348,300],[\"Suffield, Canada\",\"Neisseria meningitidis\",\"Unknown\",50.205940704956404,-111.20424460910179,300],[\"Bronx, New York\",\"Rift Valley Fever virus\",1932.0,40.833134537080234,-73.84849767153538,300],[\"Great Britain\",\"Salmonella typhi, Salmonella typhimurium, Salmonella virchow, Vibrio cholerae, Group A Streptococcus\",1984.0,54.29100612649747,-1.8777050326750016,300],[\"Texas, USA\",\"Brucella spp.\",2006.0,31.31649081069457,-98.61677381481523,300],[\"Japan\",\"Mycobacterium tuberculosis\",2004.0,36.543774444915655,139.1894177123744,300],[\"Great Britain\",\"Ringworm, Bacillus anthracis, Brucella spp., Erysipelothrix rhusiopathiae, Leptospira spp., Newcastle virus, Chlamydia psittaci, Orf virus, Salmonella, Streptococcus suis, M. tuberculosis, M. bovis\",1982.0,54.28017868695342,-1.952920091388371,300],[\"Little Rock, Arkansas, USA\",\"Mycobacterium tuberculosis\",\"Unknown\",34.70746405242551,-92.29290536329592,300],[\"Fort Detrick, Maryland, USA\",\"Francisella tularensis, Coxiella burnetii, Venezuelan Equine Encephalitis\",1989.0,39.34931977655929,-77.42503506802129,300],[\"Little Rock, Arkansas, USA\",\"Mycobacterium tuberculosis\",\"Unknown\",34.82616180452736,-92.25078646191709,300],[\"Glasgow, UK\",\"T. gondii\",2001.0,55.93578103716157,-4.254967678062597,300],[\"Israel\",\"Brucella melitensis\",2002.0,30.819223547105818,34.878802104835565,300],[\"Buenos Aires, Argentina\",\"Junin virus\",1974.0,-34.63364664926748,-58.43019008298792,300],[\"Woden Valley, Canberra, Australia\",\"Vaccinia vaccine\",2009.0,-35.40399334453942,149.07655935574533,300],[\"United Kingdom\",\"Escherichia coli O157\",1993.0,54.68623339256316,-3.396996146479442,300],[\"Little Rock, Arkansas, USA\",\"Mycobacterium tuberculosis\",\"Unknown\",34.65935295991721,-92.29077068805623,300],[\"Fort Detrick, Maryland, USA\",\"Yersinia pestis, Burkholderia mallei, Venezuelan Equine Encephalitis, Chikungunya, Vaccinia\",1989.0,39.47425990990352,-77.39949594961365,300],[\"Japan\",\"Tuberculosis, hepatitis A, hepatitis B, non-A non-B hepatitis, rubella, mycoplasma, Campylobacter, paratyphus, Salmonella, Chicken pox (Varicella zoster)\",1979.0,36.468188715715115,139.25478528153536,300],[\"Belgium\",\"Salmonella, Mycobacterium tuberculosis, Brucella, Shigella, Coxiella burnetii, Mycoplasma, Campylobacter, Bacillus Calmette Guerin, Bartonella, Listeria\",2007.0,50.72328468767441,4.782117537678454,300],[\"Belgium\",\"Trypanosoma brucei gambiense, Toxoplasma gondi\",2007.0,50.71480703014577,4.7027549008371015,300],[\"Fort Detrick, Maryland, USA\",\"Francisella tularensis\",2009.0,39.46617154902185,-77.44362631350734,300],[\"Belgium\",\"Trichophyton verrucosum, Microsporum canis\",2007.0,50.52560009894551,4.7028474281890595,300],[\"Boston, Massachusetts, USA\",\"Neisseria meningitidis\",2009.0,42.193900617728325,-71.11357217279078,300],[\"Belgium\",\"Herpes virus, Hepatitis B virus, Parvovirus B19, Human immunodeficiency virus, Rubella virus, Avian influenza virus, Rabies virus, Recombinanant viral vector\",2007.0,50.698988410445025,4.545901621756568,300],[\"France\",\"Bacillus anthracis\",2009.0,46.628966019531944,2.000650728504823,300],[\"England\",\"Foot and mouth disease virus\",2007.0,52.55641060640238,-1.2343493450584695,300],[\"Russia\",\"Ebola virus\",2004.0,64.7476196542404,97.6925661628592,300],[\"New York State, USA\",\"Lymphocytic Choriomeningitis Virus (LCM)\",1971.0,43.15161819929951,-75.91817179425153,300],[\"Buenos Aires, Argentina\",\"Junin virus, Argentine hemorrhagic fever\",\"Unknown\",-34.66825357925823,-58.391085537918315,300],[\"Fort Detrick, Maryland, USA\",\"Ebola virus\",2004.0,39.51815392749357,-77.40629388444471,300],[\"Marseille, France\",\"Mimivirus\",2004.0,43.316132659740646,5.398666504169907,300],[\"Fort Detrick, Maryland, USA\",\"Rickettsia, rickettsii\",1955.0,39.39425397064412,-77.41691552076921,300],[\"UK\",\"Corynebacterium diptheriae\",1997.0,54.62585264326727,-3.367286989916307,300],[\"Georgia, USA\",\"Cowpox virus\",2010.0,32.42568565143115,-83.1372495378029,300],[\"Virginia, USA\",\"Vaccinia virus\",2008.0,37.13421997007072,-78.46621376710627,300],[\"Marseille, France\",\"Mimivirus\",2004.0,43.23160505741401,5.398739445022084,300],[\"Beijing, China\",\"SARS virus and polio virus type 1\",2004.0,40.017937059464984,116.4551636383888,300],[\"Japan\",\"Human parvovirus B19 (HPV/B19)\",1987.0,36.52577046552131,139.26454524669953,300],[\"The Netherlands\",\"Poliovirus type 1\",1992.0,52.255089681513404,5.419949443412751,300],[\"San Diego, CA, USA\",\"Vaccinia virus\",2018.0,32.74852510077433,-117.08811244955959,300],[\"New Haven, Connecticut\",\"Rocio\",1981.0,41.37340995918688,-73.00025084062204,300],[\"Cambridge, Massachusetts, USA\",\"Dengue virus\",2002.0,42.25946926959637,-71.10565473447262,300],[\"Madison, Wisconsin, USA\",\"Recombinant raccoonpox virus\",2003.0,42.934449851646,-89.28673492801397,300],[\"Japan\",\"Brucella abortus\",2019.0,36.6394279172942,139.27565113738635,300],[\"Guangzhou, Guangdong Province, China\",\"SARS-CoV, coronavirus, SARS\",2003.0,23.153547660299342,113.29903842123016,300],[\"Birmingham, England\",\"Smallpox\",\"Unknown\",52.44295287853829,-1.8504082384835279,300],[\"Gansu Province, China\",\"Brucella\",2019.0,38.031965658610225,101.98125221791857,300],[\"South Africa\",\"Polio\",1941.0,-28.85744266894197,25.012434958431804,300],[\"Kagoshima, Japan\",\"Herpes B virus\",2019.0,31.429033008309652,130.51395328189867,300],[\"Houston, Texas, USA\",\"Pichinde virus (Arenavirus)\",1974.0,29.793712138178858,-95.40034724331598,300],[\"Singapore\",\"Brucella melitensis\",2018.0,1.3486449398925895,103.72377724970977,300],[\"Maryland\",\"Cell-culture-adapted Hantavirus\",1994.0,39.51800718423579,-76.91797927921368,300],[\"South Africa\",\"Salmonella enterica Typhi\",2012.0,-28.910751573741237,24.909922732963068,300],[\"Germany\",\"Semliki Forest Virus\",1978.0,51.155763638837335,10.400250053655492,300],[\"Germany\",\"Influenza A H2N2 (A/Japan/305/57)\",2004.0,51.145943080093154,10.37828980917472,300],[\"New York, USA\",\"Rabies virus, modified live rabies virus\",1977.0,40.76620918469108,-73.8853605983415,300],[\"Tai National Park, Cote-d'Ivoire\",\"Ebola virus\",1994.0,5.641337622411612,-7.119627784440054,300],[\"Turkey\",\"Crimean-Congo Haemorrhagic Fever (CCHF) virus\",2002.0,38.96762644100938,34.89716125100844,300],[\"Pittsburgh, PA, USA\",\"Zika Virus\",2016.0,40.490514290596536,-80.06000563941903,300],[\"Cote d'Ivoire\",\"Ebola virus\",1994.0,8.035205124947593,-5.551872111046679,300],[\"Taiwan\",\"SARS-CoV, SARS, coronavirus\",2003.0,23.985995581003426,120.92700366391884,300],[\"Hamburg, Germany\",\"Ebola virus\",2009.0,53.54849805766775,9.933009225275523,300],[\"Texas, USA\",\"Rabies Virus \\u201cfixed\\u201d laboratory strain\",1973.0,31.36453968170203,-98.53798165958155,300],[\"Arkansas, USA\",\"Salmonella typhi, Salmonella agona\",1980.0,35.270623756225355,-92.42378929113984,300],[\"Hamburg, Germany\",\"Ebola virus\",2009.0,53.58438461199497,10.053042308564903,300],[\"Texas\",\"Coxiella burnetii\",2009.0,31.23162115383877,-98.48117416507564,300],[\"Melbourne, Victoria, Australia\",\"Fowl plague virus\",1977.0,-37.807643105439254,144.8548136817521,300],[\"Washington, D.C., USA\",\"Escherichia coli O157:H7\",2003.0,38.91637499833243,-77.08884260783063,300],[\"Wyndmoor, Pennsylvania, USA\",\"Escherichia coli O157:H7\",2002.0,40.12078079454673,-75.09744696182426,300],[\"Andaman & Nicobar Islands, India\",\"Leptospira\",2003.0,13.453752110989628,92.89303604047693,300],[\"Beijing, China\",\"SARS coronavirus\",2004.0,39.966528396535345,116.35658895232628,300],[\"Maryland, USA\",\"Ebola virus Zaire, Machupo, Japanese Encephalitis Virus, Dengue, Lassa, Junin, Rift Valley Fever\",2004.0,39.57051241797492,-76.99867399995155,300],[\"Taipei, Taiwan\",\"SARS coronavirus\",2003.0,25.076233145144183,121.6241112199819,300],[\"New Haven, CT, USA\",\"Poliomyelitis Virus\",1945.0,41.32401190659689,-72.8836432889567,300],[\"Taipei, Taiwan\",\"SARS\",2004.0,25.06858572955961,121.53875749365733,300],[\"Beijing, China\",\"SARS coronavirus\",2004.0,39.87229385815606,116.4047849156849,300],[\"Melbourne, Australia\",\"Newcastle virus, Albiston-Gorrie strain\",1987.0,-37.83365409977908,144.87925257494584,300],[\"Miyagi, Japan\",\"Influenza B\",\"Unknown\",38.454355462162226,141.0029715032687,300],[\"Hamburg, Germany\",\"Ebola virus Zaire\",2009.0,53.4718331510482,9.991978078944028,300],[\"Uttara Kannada District, India\",\"Kyasanur Forest Virus Disease Virus\",1957.0,14.931449375043405,74.61614488909899,300],[\"Houston, Texas, USA\",\"Orf virus\",1982.0,29.722603106516324,-95.43205857225426,300],[\"Ames, Iowa, USA\",\"Leptospira sp.\",1987.0,42.06730054394984,-93.64154070266841,300],[\"Bristol, England\",\"Coxiella burneti\",1981.0,51.53467773948128,-2.700053766813318,300],[\"Arizona, USA\",\"Vaccinia virus\",2007.0,34.52675909190956,-111.68431942441863,300],[\"Tucson, Arizona\",\"Vaccinia\",2003.0,32.30059734165489,-111.06760766674213,300],[\"Osaka, Japan\",\"Dengue virus\",1980.0,34.47610844587382,135.41447113676816,300],[\"Amsterdam, Netherlands\",\"Mycobacterium tuberculosis\",1994.0,52.45974335367544,5.014676858140624,300],[\"Andaman & Nicobar Islands, India\",\"Leptospirosis\",2003.0,13.513917297427218,92.86419517857927,300],[\"Boston, MA, USA\",\"Mycobacterium tuberculosis\",1997.0,42.296459477133475,-71.07957308409053,300],[\"Hunan Province, China\",\"Bacillus anthracis\",2017.0,27.673334604614293,111.74636657616763,300],[\"Atlanta, Georgia, USA\",\"Ebola virus\",2014.0,33.68851884137121,-84.45782861987826,300],[\"Paris, France\",\"Bovine spongiform encephalopathy prion\",2010.0,48.78300240172599,2.3128066164598766,300],[\"Chicago, Illinois, USA\",\"Bacillus cereus\",2011.0,41.93987697847892,-87.60481170418461,300],[\"North Carolina, USA\",\"Dengue virus\",2018.0,35.58914796347198,-79.0417327515733,300],[\"France\",\"Prions/bovine spongiform encephalopathy (BSE)/variant Creutzfeldt-Jakob disease (vCJD)\",2010.0,46.62433359227619,1.9213289883269962,300],[\"Middlesex, England\",\"Herpes B virus, monkey B virus\",1957.0,51.65466371332352,-0.2604997707464806,300],[\"Alaska, USA\",\"Brucella suis\",2012.0,64.47598371171526,-149.67981971087042,300],[\"New York, USA\",\"Herpes B virus, monkey B virus\",1932.0,40.74286660375145,-74.01121313977816,300],[\"East Lansing, Michigan, USA\",\"Brucella melitensis\",1938.0,42.684809265952254,-84.42782426949253,300],[\"Boulder County, Colorado, USA\",\"Sin Nombre virus, hantavirus\",2005.0,40.05401153584932,-105.34048026850488,300],[\"Japan\",\"Hemorrhagic Fever with Renal Syndrome virus (HFRS virus)\",1985.0,36.56500083833492,139.10710874299315,300],[\"Atlanta, Georgia, USA\",\"Rocky Mountain Spotted Fever\",1977.0,33.797620918630265,-84.37260039407863,300],[\"Hokuriku, Japan\",\"Sporothrix schenckii\",1966.0,36.6001052940486,136.68412525654378,300],[\"East Lansing, Michigan, USA\",\"Mycobacterium bovis\",2018.0,42.74525347471663,-84.48593238283324,300],[\"Madras, India\",\"Trichophyton simii\",1979.0,13.04947251961236,80.18713678201487,300],[\"Pune, India\",\"Dengue Virus type 2\",1983.0,18.558213723829326,73.77787751091624,300],[\"Switzerland\",\"Escherichia coli O157:H7 strain NZ 2149-92\",1992.0,46.76580636522548,8.255430438319431,300],[\"California, USA\",\"Sin Nombre virus, hantavirus\",\"Unknown\",36.77900552027851,-118.70169387150231,300],[\"France\",\"Bovine spongiform encephalopathy prion, variant Creutzfeldt-Jakob disease\",2010.0,46.68138807768756,1.896195738082833,300],[\"Lanzhou, China\",\"Brucella spp.\",\"Unknown\",36.008875822195805,103.85530547886644,300],[\"Africa\",\"Ganjam virus\",1984.0,11.537629688548042,17.790325474873494,300],[\"Taipei, Taiwan\",\"SARS\",2003.0,25.071524918421034,121.56600461578171,300],[\"Taipei, Taiwan\",\"SARS-CoV-2\",2021.0,25.009728559719026,121.5325846468273,300],[\"Novosibirsk, Russia\",\"Marburg Virus\",1990.0,55.06764108226468,82.90068011753743,300],[\"Albany, NY\",\"Sporothrix schenckii\",1989.0,42.667598259369115,-73.74773310571688,300],[\"Fort Detrick, Maryland, USA\",\"Pasteurella pestis, Yersinia pestis\",1959.0,39.42716013457195,-77.3818256555977,300],[\"Toulouse, France\",\"Creutzfeldt-Jakob Disease\",2021.0,43.532589873160916,1.4813795753142893,300],[\"New York, New York, USA\",\"Brucella spp., Brucella melitensis, Brucella abortus\",2015.0,40.67128794805167,-73.88004659452498,300],[\"Toronto, Ontario, Canada\",\"Coccidioides immitis, Coccidioides posadasii\",2012.0,43.653712092848345,-79.27595733618057,300],[\"France\",\"Creutzfeldt-Jakob Disease\",2019.0,46.50313557416336,1.861143971898189,300],[\"China\",\"Brucella spp\",2006.0,34.98152976643472,104.95438854057286,300],[\"Washington, DC, USA\",\"Vibrio cholerae Inaba strain 20A67 and Vibrio cholerae Ogawa strain\",1965.0,38.8922103800819,-77.02676553518266,300],[\"Pennsylvania, USA\",\"Zika\",2016.0,40.97499653938426,-77.81024335102357,300],[\"Beijing, China\",\"Monkey B virus, Herpes B virus, Macacine alphaherpesvirus 1\",2021.0,39.8278254343366,116.35253578401701,300],[\"Jouy-en-Josas, France\",\"Bovine spongiform encephalopathy prion, variant Creutzfeldt-Jakob disease\",2010.0,48.82156150830995,2.145623822558762,300],[\"Basel, Switzerland\",\"Lymphocytogenic choriomeningitis virus, LCMV\",2017.0,47.5671081004023,7.694111758806022,300],[\"Lausanne, Switzerland\",\"Lymphocytogenic choriomeningitis virus, LCMV\",2016.0,46.5847654272602,6.678314745435184,300],[\"Taipei, Taiwan\",\"SARS-CoV-2, COVID-19\",2021.0,25.059216654154092,121.56784108718871,300],[\"China\",\"Brucella melitensis biovar\",2006.0,35.09183249128804,105.01234355981026,300]],\"hovertemplate\":\"<b>%{hovertext}</b><br><br>Location=%{customdata[0]}<br>Agent=%{customdata[1]}<br>Year=%{customdata[2]}<extra></extra>\",\"hovertext\":[\"Brucella melitensis\",\"Francisella tularensis Type A\",\"Sabi\\u00e1 virus\",\"Buffalopox virus (BPXV)\",\"Dengue\",\"Dengue Virus Serotype 2 (DENV-type 2)\",\"Leishmania (Viannia) naiffi\",\"Plasmodium falciparum\",\"Titi Monkey Adenovirus (TMAdV)\",\"Cryptosporidium sp.\",\"Escherichia coli O157:H7\",\"Streptobacillus moniliformis (rat bite fever)\",\"Salmonella Typhimurium\",\"Vaccinia virus (Western Reserve)\",\"Brucella spp.\",\"Neisseria meningitidis serogroups B and C\",\"SARS-CoV\",\"Viral hepatatis, tuberculosis and brucellosis as the tmost common ones, followed by amebiasis, malaria, zoster, toxoplasmosis, varicella, mumps, mycosis, listeriosis and others\",\"Sabi\\u00e1 virus\",\"Hepatitis B Virus\",\"Vesicular Stomatitis Virus\",\"Neisseria meningitidis\",\"Trypanosoma cruzi\",\"Chlamydia trachomatis\",\"Brucella melitensis\",\"Brucella melitensis\",\"Bacillus Calmette-Guerin (BCG) vaccine\",\"Salmonella enterica (serotype Typhi)\",\"Bacillus anthracis\",\"Vaccinia virus\",\"Bacille Calmette-Guerin (BCG)\",\"Brucella spp.\",\"Salmonella enteritidis and Neisseria meningitidis, group C\",\"Burkholderia pseudomallei\",\"Machupo virus\",\"Brucella suis\",\"Salmonella enteritidis (phage type 8)\",\"Brucella suis\",\"Lymphocytic choriomeningitis virus\",\"Brucella melitensis\",\"Brucella melitensis\",\"HIV\",\"Brucella abortus RB51\",\"Vaccinia (VACV Western reserve strain - contaminant of the recombinant construct OVA-vac with which the lab was working\",\"Brucella melitensis\",\"Vaccinia virus\",\"Vibrio cholerae\",\"Sporothrix schenckii\",\"Neisseria meningitidis serogroup C and serogroup B\",\"Lymphocytic Choriomeningitis Virus (LCMV)\",\"Avian Influenza A(H7N2)\",\"SARS coronavirus\",\"Histoplasma capsulatum var capsulatum\",\"Brucella melitensis\",\"Sin Nombre virus\",\"lymphocytic choriomeningitis virus (LCMV)\",\"Blastomyces dermatiditis\",\"Brucella ceti\",\"Brucella spp.\",\"Brucella melitensis\",\"Brucella melitensis\",\"Brucella melitensis\",\"Bacillus anthracis\",\"Mayaro virus\",\"Staphylococcus aureus\",\"Coxiella burnetii\",\"Anthroderma benhamiae\",\"Echovirus 11\",\"Coxiella burnetii\",\"Penicillium marneffei\",\"Cryptosporidium\",\"Ebola virus\",\"Echo 11 Virus\",\"Creutzfeldt-Jakob disease\",\"Creutzfeldt-Jakob disease\",\"Vibrio parahaemolyticus\",\"Brucella sp.\",\"Shigella sonnei\",\"Mycobacterium tuberculosis\",\"Mycobacterium tuberculosis\",\"Rickettsia rickettsii\",\"Escherichia coli O157:H7\",\"Omsk Hemorrhagic Fever Virus (Flavidivirdiae, Flavivirus, Tick-borne Encephalitis Antigenic Compliex\",\"Vaccinia Virus\",\"Coccidioides posadasii\",\"Seoul Virus and Hantavirus\",\"Creutzfeld-Jakob disease\",\"Newcastle Disease virus (NDV)\",\"Hantavirus\",\"Brucella melitensis\",\"Candidatus Mycoplasma haemohominis\",\"Brucella suis\",\"Meticillin-Resistant Staphylococcus aureus (MRSA) multilocus sequence type 5 (paediatric) and 8 (New York/Japan strain)\",\"Hepatitis A, Hepatitis B and non-A, non-B Hepatitis, Tuberculosis, Shigella, Brucella, Herpes, unidentified bowel infections\",\"Zika Virus (ZIKV) Brazilian strain\",\"Mycobacterium tuberculosis; Tuberculosis\",\"Brucella melitensis biovar\",\"Francisella tularensis type B subspecies holarctica\",\"Creutzfeld-Jakob disease\",\"Neisseria meningitidis serogroup B\",\"African horsesickness virus\",\"Venezuelan Equine Encephalomyelitis virus (VEE_\",\"Kyasanur Forest Disease Virus\",\"Vesicular Stomatitis Virus (Rhabdoviridae, Vesilculovirus, Vesicular Stomatitis Antigenic Group)\",\"Crimean-Congo Hemorrhagic Fever Virus (Bunyaviridae, Bunyaviirus, CHF-Congo Antigenic Group\",\"Hantavirus, Sin Nombre Virus (monongahela)\",\"Dhori Virus (Orthomyxoviridae)\",\"Simian Foamy Virus\",\"Hemorrhagic Fever with the Renal Syndrome (Bunyaviridae, Hantavirus(\",\"West Nile Virus, lineage 2\",\"Brucella abortus strain S19\",\"Novel adenovirus (BaAdV-1, BaAdV-2(\",\"Toxoplasma gondii\",\"Mycobacterium tuberculosis\",\"HIV, Hepatitis C\",\"Enterobacter aerogenes\",\"Arthorderma benhamiae\",\"Influenza A (H1N1)\",\"Vaccinia virus\",\"Lymphocytic choriomeningitis virus (LCMV)\",\"Vaccinia virus\",\"Plasmodium falciparum\",\"Bacillus anthracis\",\"West Nile virus\",\"Hepatitis C, Shigella sonnei, Shigella flexneri, Escherichia coli O157, Mycobacterium tuberculosis\",\"Dengue type 1\",\"Brucella melitensis\",\"Shigella\",\"Burkholderia mallei\",\"Francisella tularensis\",\"Brucella melitensis\",\"Toxoplasma gondii (RH strain)\",\"Mycobacterium tuberculosis, Brucella spp, Hepatitis virus and Shigella spp.\",\"Trypanosoma cruzi (strain Y)\",\"Yersinia pestis\",\"Trypanosoma gambiense\",\"Cryptosporidium\",\"Coxiella burnetti\",\"T.gondii and L.monocytogenes\",\"Coxiella burnetti\",\"Toxoplasma gondii\",\"Coxiella burnetti\",\"Brucella sp.\",\"Coxiella burnetti\",\"Leishmania mexicana\",\"Plasmodium falciparum\",\"Chiamydia pneumoniae,\",\"Influenza A virus (A/Seal/Mass/1/80[H7N7])\",\"Trypanosoma gambiense (strain FEO ITMAP-1893)\",\"Campylobacter jejuni\",\"Brucella abortus\",\"Venezuelan Equine Encephalitis virus\",\"Campylobacter fetus ss jejuni\",\"Trypanosoma cruzi (strain CL)\",\"Burkholderia (Pseudomonas) pseudomallei\",\"Shigella flexneri\",\"Francisella tularensis\",\"Brucella melitensis, Rev-1\",\"Case 1 - Leptospira interrogans serogroup Icterohaemorrhagiae strain CF1\",\"Verotoxin-producing Escherichia coli (VTEC) (O157:H7)\",\"Recombinant Vaccinia virus strain Western Reserve\",\"Cercopithecid herpesvirus 1, Herpesvirus simiae\",\"West Nile Virus\",\"Escherichia coli O117:K1:H7\",\"Neisseria meningitidis Group C\",\"Neisseria meningitidis Group B\",\"Burkholderia (Pseudomonas) pseudomallei\",\"Francisella tularensis\",\"Helicobacter pylori\",\"Chlamydia pneumoniae Kajaani 6\",\"Leptospira interrogans serovar hardjo\",\"Chlamydophila/Chlamydia pneumoniae\",\"Corynebacterium diphtheriae var gravis\",\"Corynebacterium diphtheriae NCTC 10684\",\"Bovine stomatitis virus\",\"Chlamydia trachomatis\",\"Chlamydia trachomatis\",\"Chlamydia pneumoniae\",\"Mycobacterium leprae\",\"Mycobacterium tuberculosis\",\"Vaccinia virus\",\"Mycobacterium tuberculosis\",\"Escherichia coli O157:H7\",\"Neisseria meningitidis Group C\",\"Francisella tularensis\",\"Mycobacterium tuberculosis\",\"Cryptosporidium\",\"Cryptosporidium\",\"Rocky Mountain Spotted Fever (RMSF)\",\"Orentia tsutsugamushi\",\"Neisseria Meningitidis, group C\",\"Mycobacterium Kansasii\",\"Streptobacillus moniliformis\",\"Neisseria gonorrhoeae strain 188 T1\",\"Staphylococcus aureus, MRSA, MSSA\",\"Rickettsia typhi\",\"Staphylococcus aureus, MRSA, EMRSA\",\"Mycobacterium tuberculosis\",\"Shigella flexneri\",\"Salmonella typhi\",\"Salmonella typhimurium\",\"Shigella dysenteriae\",\"Salmonella typhi, Salmonella paratyphi A, Salmonella paratyphi B\",\"Neisseria meningitidis\",\"Neisseria gonorrhoeae\",\"Shigella boydii\",\"Yersinia pestis\",\"Rickettsia typhi\",\"HIV-2\",\"Salmonella typhimurium strain LT-2\",\"Bacteroides asaccharolyticus\",\"Neisseria gonorrhoeae\",\"Neisseria gonorrhoeae\",\"Neisseria gonorrhoeae\",\"Neisseria meningitidis\",\"Neisseria meningitidis\",\"Rickettsia sp. (Rocky Mounted Spotted Fever)\",\"Salmonella typhi; Salmonella give\",\"Bordetella pertussis\",\"Brucella melitensis\",\"Brucella melitensis\",\"Brucella melitensis\",\"Brucella melitensis\",\"Brucella\",\"Pasteurella multocida\",\"Brucella melitensis\",\"Brucella abortus Strain 19\",\"Brucella melitensis\",\"Brucella melitensis\",\"Brucella melitensis\",\"Brucella melitensis\",\"Vaccinia virus -recombinant WR strain, thymidiine kinase negative\",\"Vesicular stomatitis virus\",\"Vaccinia virus\",\"Vaccina virus recombined with Hepatitis C virus protein\",\"West Nile virus lineage 2\",\"tick-born encephalitis virus\",\"recombinant vaccinia viruses expressing RSV glycoprotein G and RSV 22K protein\",\"Vaccinia virus\",\"Simian Foamy Virus (SFV)\",\"Vesivirus\",\"Brucella\",\"Brucella sp.\",\"Brucella melitensis\",\"Vibrio parahaemolyticus\",\"Brucella abortus, Strain 19\",\"Salmonella typhi\",\"Burkholderia pseudomallei\",\"Salmonellya typhimurium\",\"Salmonella typhi\",\"Brucella abortus\",\"Brucella melitensis\",\"Bacillus cereus\",\"Salmonella enterica Enteritidis\",\"Rickettsia typhi\",\"Orientia tsutsugamushi\",\"Brucella spp.\",\"Brucella melitensis\",\"Brucella spp.\",\"Brucella spp.\",\"Herpes B Virus\",\"Burkholderia pseudomallei\",\"Campylobacter jejuni strain VLA2/18\",\"Mycobacterium tuberculosis\",\"Brucella melitensis\",\"Brucella melitensis\",\"Brucella melitensis\",\"Brucella sp.\",\"Brucella sp.\",\"Lymphocytic choriomeningitis virus\",\"Vaccinia virus\",\"Plasmodium vivax\",\"Burkolderia (Pseudomonas) pseudomallei\",\"Brucella melitensis\",\"Vesicular stomatitis virus\",\"Treponema pallidum, Nichols strain\",\"Echinoccus spp.\",\"Salmonella enterica Serovar Typhimurium\",\"Mycoplasma caviae\",\"AHC virus (enterovirus 70)\",\"Blastomyces dermatitidis\",\"Kyasanur Forest Disease Virus\",\"West Nile Virus\",\"West Nile Virus\",\"Recombinant WR strain vaccinia virus expressing VSV(IND serotype) protein N\",\"Ebola virus\",\"Brucella spp.\",\"Zika virus\",\"Brucella spp.\",\"Brucella melitensis\",\"Hantavirus\",\"Hantavirus\",\"Korean haemorrhagic fever\",\"Sin Nombre Virus, hantavirus\",\"Puumala virus, hantavirus\",\"Hantavirus\",\"Shigella flexneri, Salmonella typhimurium, Salmonella typhi, M. tuberculosis, non-A non-B hepatitis\",\"Neisseria meningitides\",\"Staphylococcus, Shigella B\",\"Mycobacterium tuberculosis, Hepatitis B, Non-A Non-B hepatitis, Rubella, Hepatitis A, Mycoplasma, Camplylobacter enteritis, Paratyphus, Salmonella, Varicella\",\"Bacillus anthracis, Yersinia pestis, Francisella tularensis, Burkholderia pseudomallei, Burkholderia mallei, alphavirus, bunyavirus, flavivirus, filovirus, orthopox virus, botulinum toxin\",\"Hepatitis, Tuberculosis, Chickenpox, Salmonellosis, Shigella, Malaria\",\"Bordetella pertussis\",\"Mycobacterium tuberculosis\",\"Bordetella pertussis\",\"Hantaan virus\",\"Mycobacterium tuberculosis\",\"Corynebacterium equi, Rhodococcus equi\",\"Streptococcus pyogenes group A\",\"Mycobacterium tuberculosis\",\"Rickettsia rickettsii\",\"Salmonella typhi\",\"Rickettsia rickettsii\",\"Hantavirus: Sin Nombre(SNV) and Andes\",\"Brucella spp.\",\"Burkholderia pseudomallei\",\"Herpes B\",\"Chikungunya virus, Dugbe virus, Wesselbron virus, Dengue virus\",\"Ebola\",\"Herpes B\",\"Filovirus\",\"Cryptosporidium\",\"Ganjam virus\",\"Escherichia coli 0157:h7\",\"Escherichia coli 0157\",\"Vibrio cholera\",\"Neisseria meningitidis\",\"Brucella melitensis\",\"Coxiella burnetii\",\"Helicobacter pylori\",\"Coxiella burnetii\",\"Ratpox [cowpox]\",\"Cryptosporidium sp\",\"Neisseria meningitidis\",\"Rift Valley Fever virus\",\"Salmonella typhi, Salmonella typhimurium, Salmonella virchow, Vibrio cholerae, Group A Streptococcus\",\"Brucella spp.\",\"Mycobacterium tuberculosis\",\"Ringworm, Bacillus anthracis, Brucella spp., Erysipelothrix rhusiopathiae, Leptospira spp., Newcastle virus, Chlamydia psittaci, Orf virus, Salmonella, Streptococcus suis, M. tuberculosis, M. bovis\",\"Mycobacterium tuberculosis\",\"Francisella tularensis, Coxiella burnetii, Venezuelan Equine Encephalitis\",\"Mycobacterium tuberculosis\",\"T. gondii\",\"Brucella melitensis\",\"Junin virus\",\"Vaccinia vaccine\",\"Escherichia coli O157\",\"Mycobacterium tuberculosis\",\"Yersinia pestis, Burkholderia mallei, Venezuelan Equine Encephalitis, Chikungunya, Vaccinia\",\"Tuberculosis, hepatitis A, hepatitis B, non-A non-B hepatitis, rubella, mycoplasma, Campylobacter, paratyphus, Salmonella, Chicken pox (Varicella zoster)\",\"Salmonella, Mycobacterium tuberculosis, Brucella, Shigella, Coxiella burnetii, Mycoplasma, Campylobacter, Bacillus Calmette Guerin, Bartonella, Listeria\",\"Trypanosoma brucei gambiense, Toxoplasma gondi\",\"Francisella tularensis\",\"Trichophyton verrucosum, Microsporum canis\",\"Neisseria meningitidis\",\"Herpes virus, Hepatitis B virus, Parvovirus B19, Human immunodeficiency virus, Rubella virus, Avian influenza virus, Rabies virus, Recombinanant viral vector\",\"Bacillus anthracis\",\"Foot and mouth disease virus\",\"Ebola virus\",\"Lymphocytic Choriomeningitis Virus (LCM)\",\"Junin virus, Argentine hemorrhagic fever\",\"Ebola virus\",\"Mimivirus\",\"Rickettsia, rickettsii\",\"Corynebacterium diptheriae\",\"Cowpox virus\",\"Vaccinia virus\",\"Mimivirus\",\"SARS virus and polio virus type 1\",\"Human parvovirus B19 (HPV/B19)\",\"Poliovirus type 1\",\"Vaccinia virus\",\"Rocio\",\"Dengue virus\",\"Recombinant raccoonpox virus\",\"Brucella abortus\",\"SARS-CoV, coronavirus, SARS\",\"Smallpox\",\"Brucella\",\"Polio\",\"Herpes B virus\",\"Pichinde virus (Arenavirus)\",\"Brucella melitensis\",\"Cell-culture-adapted Hantavirus\",\"Salmonella enterica Typhi\",\"Semliki Forest Virus\",\"Influenza A H2N2 (A/Japan/305/57)\",\"Rabies virus, modified live rabies virus\",\"Ebola virus\",\"Crimean-Congo Haemorrhagic Fever (CCHF) virus\",\"Zika Virus\",\"Ebola virus\",\"SARS-CoV, SARS, coronavirus\",\"Ebola virus\",\"Rabies Virus \\u201cfixed\\u201d laboratory strain\",\"Salmonella typhi, Salmonella agona\",\"Ebola virus\",\"Coxiella burnetii\",\"Fowl plague virus\",\"Escherichia coli O157:H7\",\"Escherichia coli O157:H7\",\"Leptospira\",\"SARS coronavirus\",\"Ebola virus Zaire, Machupo, Japanese Encephalitis Virus, Dengue, Lassa, Junin, Rift Valley Fever\",\"SARS coronavirus\",\"Poliomyelitis Virus\",\"SARS\",\"SARS coronavirus\",\"Newcastle virus, Albiston-Gorrie strain\",\"Influenza B\",\"Ebola virus Zaire\",\"Kyasanur Forest Virus Disease Virus\",\"Orf virus\",\"Leptospira sp.\",\"Coxiella burneti\",\"Vaccinia virus\",\"Vaccinia\",\"Dengue virus\",\"Mycobacterium tuberculosis\",\"Leptospirosis\",\"Mycobacterium tuberculosis\",\"Bacillus anthracis\",\"Ebola virus\",\"Bovine spongiform encephalopathy prion\",\"Bacillus cereus\",\"Dengue virus\",\"Prions/bovine spongiform encephalopathy (BSE)/variant Creutzfeldt-Jakob disease (vCJD)\",\"Herpes B virus, monkey B virus\",\"Brucella suis\",\"Herpes B virus, monkey B virus\",\"Brucella melitensis\",\"Sin Nombre virus, hantavirus\",\"Hemorrhagic Fever with Renal Syndrome virus (HFRS virus)\",\"Rocky Mountain Spotted Fever\",\"Sporothrix schenckii\",\"Mycobacterium bovis\",\"Trichophyton simii\",\"Dengue Virus type 2\",\"Escherichia coli O157:H7 strain NZ 2149-92\",\"Sin Nombre virus, hantavirus\",\"Bovine spongiform encephalopathy prion, variant Creutzfeldt-Jakob disease\",\"Brucella spp.\",\"Ganjam virus\",\"SARS\",\"SARS-CoV-2\",\"Marburg Virus\",\"Sporothrix schenckii\",\"Pasteurella pestis, Yersinia pestis\",\"Creutzfeldt-Jakob Disease\",\"Brucella spp., Brucella melitensis, Brucella abortus\",\"Coccidioides immitis, Coccidioides posadasii\",\"Creutzfeldt-Jakob Disease\",\"Brucella spp\",\"Vibrio cholerae Inaba strain 20A67 and Vibrio cholerae Ogawa strain\",\"Zika\",\"Monkey B virus, Herpes B virus, Macacine alphaherpesvirus 1\",\"Bovine spongiform encephalopathy prion, variant Creutzfeldt-Jakob disease\",\"Lymphocytogenic choriomeningitis virus, LCMV\",\"Lymphocytogenic choriomeningitis virus, LCMV\",\"SARS-CoV-2, COVID-19\",\"Brucella melitensis biovar\"],\"lat\":[44.52559966543819,42.39429602781377,41.58810990201997,22.28012507996437,36.60397484581657,-24.738768536396126,-8.152971628862955,51.44684356315005,38.51214901072919,32.669590094410566,43.187911767593334,36.70168956720986,45.72642189248397,42.33380048075123,51.265569818482284,33.39727896189955,1.318651964440907,51.08427914453009,-23.591146771261805,-36.79843808405654,44.55846770573809,59.27928146109745,8.03240756665317,34.02165408626211,25.67129125730179,52.5365752812305,55.69228230165136,-28.846159326591824,56.71330213050922,39.9627844045832,55.69923129684989,29.8476780863971,39.3362098490529,34.15073889364183,-17.247383885654667,39.21976572310549,45.78932221013198,33.03422910930681,46.54975332924278,50.733901729374196,43.72787947655412,51.181795436935616,40.69835176770329,37.08833795448534,48.12047646982391,34.90793011567847,47.60325942775093,23.609272526299822,36.61425046576504,37.892916497619446,40.91824177556975,39.85620361990576,39.28646141151583,37.42737186242446,40.07030104288574,33.699982759902085,40.05542864159414,45.732072418415875,40.34172164832047,42.97296303421177,42.39887351846377,41.958422537161034,36.61004403717203,4.067656299361673,38.4350396991831,51.11210244616019,36.52596737682503,51.068078026680034,37.69333703132903,48.863584734132026,40.016231575847335,39.00149521206304,51.69093923432151,36.65866259597383,51.18230600123835,24.034193809939445,36.57225109095087,51.46086670719705,47.2241196242925,38.963461600132284,39.36509307052301,39.99871582046766,55.68938857344129,42.437139971120274,-31.82674356844572,41.590564429837734,40.672764386479656,-24.873031931298627,54.770954661572034,38.683139630752116,-24.762323962753282,-19.24321889248609,52.21493977610351,54.18351315839163,-23.015235113628414,47.26939617463079,34.973892169687865,49.95589467478949,45.378059234995426,37.81766380690245,-28.828871625467606,55.695012777266285,55.75669261403161,55.68153723511182,55.74215435495201,38.79049577454815,55.75745488449196,51.13023160111599,55.77085940976586,-25.751433034454188,-34.61605309352986,31.19746797901683,63.18537738390783,37.8140002412855,42.64005661208223,46.28237378420323,36.640169715338274,42.996752351466704,32.40390121526011,32.86264877553488,42.27995315794796,38.870452430080455,33.83551932549836,50.23612595959478,54.73097657828145,23.954555084940107,59.6119861005001,23.91997028547992,39.362371842007505,39.04213044513903,43.1728082775847,51.31957495663214,54.25744346146153,-23.451806163638885,41.9803086762121,7.387385329258322,40.61814245944742,34.67301452925816,55.76642243608357,39.74218248885639,51.56047368084588,44.36113895239452,39.267244035763404,32.843644541333376,48.59855654489417,38.851090590210845,63.23447804524255,41.83061016340823,44.92933640965981,43.6572885064059,-10.354072115159214,40.75206135765091,35.07657741350524,37.72486074889131,-25.306416014799755,-24.715809681546503,34.99370573047867,41.959548137083466,54.61814194490566,56.76847654494973,51.150499472043876,30.515524729279303,50.13375533637931,55.62671763537738,46.6436950153238,46.51127304145601,43.06758606768023,41.350890448214486,33.61073465984063,63.19687329032358,42.00693580598492,63.25413795025849,51.43809863435077,51.149616668719375,32.529090435554416,34.12554252369687,31.213369491605427,37.784886263326875,22.25540895081694,39.71956815423616,32.67345452870346,36.58776103181902,43.23324943241112,54.71213883184818,50.19458861668094,47.60091942549118,43.60695485307849,32.604195393589876,32.303334389117566,37.4592238454695,46.74574854123476,50.68127075655766,46.02619232341057,45.47939068896821,52.3279069902341,37.66734041429001,-33.84048705876704,51.04196167873962,52.14975173295236,3.1363119504296297,39.57067434987635,31.27343922065669,55.56718704420357,54.30405752654985,45.856510247717125,51.23236217110011,34.36153478317137,38.98155366285438,39.32504038043826,53.77693600524831,42.40204379876213,35.9409311351186,32.723591906735756,50.064354460627825,35.887327408890634,48.8583376306264,33.744966993641164,-19.251223514376278,38.98912014472522,51.532572480565705,-1.2222082428934022,42.48357614740688,23.98623766664707,38.86224491884641,38.94269762698753,43.55046167078045,39.378909981177515,31.236511973519313,33.64234632168608,3.144764084269803,42.95810560267191,54.3829227523162,43.086387096592084,-18.435494507201053,50.916192794146724,-28.88592813804607,45.85364133105384,51.516087044741006,43.18206133082652,-1.6405912349053458,44.60022565336767,39.93936430663025,39.358813343165984,41.90303926331274,22.586559292830508,42.04066608779065,39.28735396270473,14.870846034327826,46.045835752274584,3.1050979297812944,40.73699081336145,31.856883370275565,41.97202693703108,43.05198386297699,3.2511685086556796,36.586235691709476,27.72621261957534,-1.2785488313612074,35.0067132034919,24.56169365976838,30.488549364619743,38.71829691907785,30.531464475068553,52.311238057731046,51.701410492502305,-1.4606497511448007,39.00839469584865,2.9130331676996275,51.20467492202299,-25.859112822419203,-22.867758378943886,51.466027105889395,43.5378045469508,55.653674387189035,8.967204958345903,44.95907661888293,12.916214224818692,55.58967458313841,51.37890584909564,36.50004944850595,41.51094086907366,38.93228357729386,-28.87201152465987,29.896397355967018,46.69277127477774,51.25202412446047,24.581225138176652,12.452336131578186,24.596734249703132,24.603314231904967,34.937391236531894,34.97031925272118,38.23995204573815,40.02413157487282,63.363143886410974,37.33700058250384,54.29588447236356,42.296342761671625,45.952669944584144,36.63105741658918,39.44938829815127,54.733675670738336,38.943051573065794,30.8165648363934,32.31640986757629,37.58204820403443,42.231935727427704,34.55104226606511,52.23556083396777,47.61555965407261,39.48687091179116,42.406748637195015,39.45737011283981,39.50838292032043,41.092337400820796,26.228165855601077,42.256530496626624,7.3338359467833785,49.88147941352957,30.366561728832703,37.16274115150228,60.49800204875998,18.482393465238342,47.33431051462678,54.76813900752974,59.63034671703747,55.073019482110645,42.66092510298476,52.175802863739555,48.870292947705785,43.643647026001354,64.65920259896967,35.7798478983032,50.205940704956404,40.833134537080234,54.29100612649747,31.31649081069457,36.543774444915655,54.28017868695342,34.70746405242551,39.34931977655929,34.82616180452736,55.93578103716157,30.819223547105818,-34.63364664926748,-35.40399334453942,54.68623339256316,34.65935295991721,39.47425990990352,36.468188715715115,50.72328468767441,50.71480703014577,39.46617154902185,50.52560009894551,42.193900617728325,50.698988410445025,46.628966019531944,52.55641060640238,64.7476196542404,43.15161819929951,-34.66825357925823,39.51815392749357,43.316132659740646,39.39425397064412,54.62585264326727,32.42568565143115,37.13421997007072,43.23160505741401,40.017937059464984,36.52577046552131,52.255089681513404,32.74852510077433,41.37340995918688,42.25946926959637,42.934449851646,36.6394279172942,23.153547660299342,52.44295287853829,38.031965658610225,-28.85744266894197,31.429033008309652,29.793712138178858,1.3486449398925895,39.51800718423579,-28.910751573741237,51.155763638837335,51.145943080093154,40.76620918469108,5.641337622411612,38.96762644100938,40.490514290596536,8.035205124947593,23.985995581003426,53.54849805766775,31.36453968170203,35.270623756225355,53.58438461199497,31.23162115383877,-37.807643105439254,38.91637499833243,40.12078079454673,13.453752110989628,39.966528396535345,39.57051241797492,25.076233145144183,41.32401190659689,25.06858572955961,39.87229385815606,-37.83365409977908,38.454355462162226,53.4718331510482,14.931449375043405,29.722603106516324,42.06730054394984,51.53467773948128,34.52675909190956,32.30059734165489,34.47610844587382,52.45974335367544,13.513917297427218,42.296459477133475,27.673334604614293,33.68851884137121,48.78300240172599,41.93987697847892,35.58914796347198,46.62433359227619,51.65466371332352,64.47598371171526,40.74286660375145,42.684809265952254,40.05401153584932,36.56500083833492,33.797620918630265,36.6001052940486,42.74525347471663,13.04947251961236,18.558213723829326,46.76580636522548,36.77900552027851,46.68138807768756,36.008875822195805,11.537629688548042,25.071524918421034,25.009728559719026,55.06764108226468,42.667598259369115,39.42716013457195,43.532589873160916,40.67128794805167,43.653712092848345,46.50313557416336,34.98152976643472,38.8922103800819,40.97499653938426,39.8278254343366,48.82156150830995,47.5671081004023,46.5847654272602,25.059216654154092,35.09183249128804],\"legendgroup\":\"\",\"lon\":[-89.72168434666398,-71.06978710852422,-72.71577360607769,78.74508052027579,127.69913045796802,134.76648257232958,-34.92574720793872,-0.11504978454586796,-121.82689542204562,-85.50669324611948,-75.93470503990615,-118.7765900327377,-68.88942905038815,-71.00309766765022,10.423888935238235,-86.85306115164315,103.82742707935131,16.995434710939136,-46.73409889161982,174.82615841462334,-89.6535583616425,15.22766125119905,-66.06929445777682,-118.19214007393391,42.34447330127898,-1.1669705289110004,12.548776894083788,25.073062700025613,60.745798644522715,-75.13807004135764,12.642806986838771,-95.27958081297596,-76.60018373527538,-118.17744766016855,-61.53098814082113,-94.58577862553737,-68.86641271194331,-89.76640321254678,6.650741244891804,4.355684776364752,7.145961419941255,10.42368346467749,-73.94105837283472,-78.50118126134201,11.591175366961872,-97.2361757331178,14.172316421101987,-102.05435846105271,-118.81929336498399,-87.59701629288699,-74.09777708196086,116.27224033679634,-4.860460845155772,-6.032383424361556,-105.31296832316023,-84.39303265688714,-105.25309205671505,-69.0034035018307,-86.143064275024,-88.04873648958198,-72.00693808572679,12.430106025628017,-118.72787602642512,-52.94075821949945,38.372777724364504,10.494786838368695,139.28487834387371,6.906690900971095,-122.40899456280331,2.346557305929417,-75.23230877600157,-77.46334012204812,-0.11585087461702459,-118.66247008560696,10.42669425443391,121.01062868804472,52.6763581219434,-0.9757934332303446,-1.6414960510934813,-76.99823239004219,-77.37622333387755,-75.19068390104547,37.657594922462,-71.05822165387582,-71.38542097909051,123.464068493367,-73.97702479243588,134.766797216572,-3.2926401089374684,30.73252346397193,134.74532675763683,146.77820308207578,5.521324981102063,-1.9921580355850226,-43.23956763388836,-120.14132154087399,105.01523806938191,-97.14970239143057,-75.64042316775796,-122.35831565333665,24.95842727517942,37.69847946664593,37.55532722299863,37.55940888802065,37.722778100844735,-79.903802967809,37.59183842690003,10.504479710266395,37.652228783411445,28.22724379728903,-58.42856803578891,-98.58666818470084,25.96127275822006,-122.32281707060304,12.668683237047176,-119.31004254551287,139.19647329577865,-89.31606163994103,50.86300516182815,-117.22854597206512,-71.16375210988835,-76.94771904576179,-84.4637178412973,-111.09758056318597,-3.182843089533776,121.0552284228356,14.547070818130099,120.95879354326988,-77.37250561561693,-77.06739504833189,-75.85660768489105,0.7227967398984774,-1.86798765398762,-51.925736000595336,-87.61883608591604,3.861693487820955,-105.01134931301515,-92.36179810873658,-4.198394573598179,-104.95499959896786,-0.15335365016142652,-96.73147830652715,-4.877608403196972,-79.96961150300591,8.941462601467327,-77.10068997632659,25.897647404322324,-69.96246271074983,-0.6099995584386967,-79.35787499592276,-53.17596952875346,-73.92347874756622,-106.6053888373559,-122.39230099061946,151.2207268762437,134.75794849833522,-97.31124823096471,2.7912541696945357,-3.26225020919088,-4.05291930586797,10.402472177841956,-87.09665903892657,-111.21647217853732,10.285827126986767,1.931448016284157,1.950764918641856,-76.07340735289439,-70.69273694856732,130.57050485628764,25.99238993027441,-93.47101761594277,25.88401659967317,-0.192593680724571,10.44158064925623,-85.43475716662205,-118.25112597078578,34.83341288573682,-122.36236612122276,78.62498275525606,-8.051008155942382,54.5031350320343,139.17841363687162,-75.83002600254088,-3.2637819262599073,15.85549285883144,-122.38434970468099,-113.90296171868337,-85.50609868250655,-83.15188482081295,126.96123425099596,8.333717887555526,4.642479037029279,-94.66029980998046,-75.75842069119406,5.585615789773387,127.03348305974514,151.18462729434822,10.441794990178591,5.652201877674194,101.7417418700936,-76.9704347188076,-98.54597831830266,10.327911625591673,-1.8624894601558912,15.90841959335982,10.506459180493144,-111.77262720420663,-77.09186053450124,-76.60453115583385,-1.5200253166253206,-70.961149420472,-79.04826817191108,-117.09979700451525,8.727202340687901,-78.97745066672539,2.4111162733570994,-84.42091869304106,146.87658165206113,-77.15426605385403,-0.11559300787121558,36.807816103386365,-83.2078518761334,54.01900858395528,34.86116153853125,-92.2577157058801,-84.640173881523,-4.79151687686805,34.88075209043171,-84.47124959450088,101.7533685253899,-82.42359704571491,-1.9412705695826067,-89.36581346281045,-44.09927026360689,8.614595613417722,24.919384385550828,14.482182242089564,-0.2679878122675141,131.83313063875372,13.523908959016408,-123.25148945142081,32.885033695529664,-4.82015861118411,-87.61471476692533,88.33573630988707,-93.63099024348806,-76.49236781735662,100.77045330763698,-94.59756792717158,101.67450738070694,8.530502641817115,35.22874153335706,-87.51878782780264,-89.31762365383021,101.72945674230267,127.664544802292,-81.49070063164527,36.864559515090924,104.92375177613894,46.715141101831776,-87.18038772072994,-105.60910765801661,78.72820258621704,5.58160268627917,-1.3548739877620415,36.86030169234295,-94.59171156559132,101.6722913989254,10.47809967747873,28.17461546499,-43.18862971622379,-0.2551369018854196,-79.42981163263165,12.667273074749861,-79.54566842674146,-93.1787941050711,77.59527161745193,-106.0910227109239,-0.23063951888918338,139.19002306116346,-81.68970454518903,-77.0488292999019,25.00005510291622,31.32230140453544,-117.19670198157391,-1.9363693443172725,46.62604640808199,-12.366987491321762,46.699322536808324,46.83902500957218,105.03998086479841,105.0734844182189,140.85620417406315,-120.7302208123204,25.940164127272755,-80.35859869624178,-1.9852495266377692,-71.06642299244704,-94.53801417854757,139.21427360317267,-77.47902231069855,-3.270751665358672,-77.11220343561858,76.8349047024808,-83.11876785684764,127.03408183371404,-71.22592434741415,135.38428426634846,0.140303565501948,-122.28984542837073,-77.46158829623919,-72.02181233850999,-77.4404870696677,-76.86690262605082,28.94049656020483,-80.43939225846529,-85.57118689932845,3.9277792255829147,-97.0095920005047,-87.28312432107386,-78.59266796066152,22.24518596481828,73.86783346544124,-120.24767996560745,-3.1962756722855348,14.50759339100676,-115.01558457315889,-84.4796220107003,5.736166857114617,2.343942593677401,-79.36265569002846,97.71015697358456,-78.67390461811348,-111.20424460910179,-73.84849767153538,-1.8777050326750016,-98.61677381481523,139.1894177123744,-1.952920091388371,-92.29290536329592,-77.42503506802129,-92.25078646191709,-4.254967678062597,34.878802104835565,-58.43019008298792,149.07655935574533,-3.396996146479442,-92.29077068805623,-77.39949594961365,139.25478528153536,4.782117537678454,4.7027549008371015,-77.44362631350734,4.7028474281890595,-71.11357217279078,4.545901621756568,2.000650728504823,-1.2343493450584695,97.6925661628592,-75.91817179425153,-58.391085537918315,-77.40629388444471,5.398666504169907,-77.41691552076921,-3.367286989916307,-83.1372495378029,-78.46621376710627,5.398739445022084,116.4551636383888,139.26454524669953,5.419949443412751,-117.08811244955959,-73.00025084062204,-71.10565473447262,-89.28673492801397,139.27565113738635,113.29903842123016,-1.8504082384835279,101.98125221791857,25.012434958431804,130.51395328189867,-95.40034724331598,103.72377724970977,-76.91797927921368,24.909922732963068,10.400250053655492,10.37828980917472,-73.8853605983415,-7.119627784440054,34.89716125100844,-80.06000563941903,-5.551872111046679,120.92700366391884,9.933009225275523,-98.53798165958155,-92.42378929113984,10.053042308564903,-98.48117416507564,144.8548136817521,-77.08884260783063,-75.09744696182426,92.89303604047693,116.35658895232628,-76.99867399995155,121.6241112199819,-72.8836432889567,121.53875749365733,116.4047849156849,144.87925257494584,141.0029715032687,9.991978078944028,74.61614488909899,-95.43205857225426,-93.64154070266841,-2.700053766813318,-111.68431942441863,-111.06760766674213,135.41447113676816,5.014676858140624,92.86419517857927,-71.07957308409053,111.74636657616763,-84.45782861987826,2.3128066164598766,-87.60481170418461,-79.0417327515733,1.9213289883269962,-0.2604997707464806,-149.67981971087042,-74.01121313977816,-84.42782426949253,-105.34048026850488,139.10710874299315,-84.37260039407863,136.68412525654378,-84.48593238283324,80.18713678201487,73.77787751091624,8.255430438319431,-118.70169387150231,1.896195738082833,103.85530547886644,17.790325474873494,121.56600461578171,121.5325846468273,82.90068011753743,-73.74773310571688,-77.3818256555977,1.4813795753142893,-73.88004659452498,-79.27595733618057,1.861143971898189,104.95438854057286,-77.02676553518266,-77.81024335102357,116.35253578401701,2.145623822558762,7.694111758806022,6.678314745435184,121.56784108718871,105.01234355981026],\"marker\":{\"color\":\"#C4C967\",\"opacity\":1,\"size\":[300,300,300,300,300,300,300,300,300,300,300,300,300,300,300,300,300,300,300,300,300,300,300,300,300,300,300,300,300,300,300,300,300,300,300,300,300,300,300,300,300,300,300,300,300,300,300,300,300,300,300,300,300,300,300,300,300,300,300,300,300,300,300,300,300,300,300,300,300,300,300,300,300,300,300,300,300,300,300,300,300,300,300,300,300,300,300,300,300,300,300,300,300,300,300,300,300,300,300,300,300,300,300,300,300,300,300,300,300,300,300,300,300,300,300,300,300,300,300,300,300,300,300,300,300,300,300,300,300,300,300,300,300,300,300,300,300,300,300,300,300,300,300,300,300,300,300,300,300,300,300,300,300,300,300,300,300,300,300,300,300,300,300,300,300,300,300,300,300,300,300,300,300,300,300,300,300,300,300,300,300,300,300,300,300,300,300,300,300,300,300,300,300,300,300,300,300,300,300,300,300,300,300,300,300,300,300,300,300,300,300,300,300,300,300,300,300,300,300,300,300,300,300,300,300,300,300,300,300,300,300,300,300,300,300,300,300,300,300,300,300,300,300,300,300,300,300,300,300,300,300,300,300,300,300,300,300,300,300,300,300,300,300,300,300,300,300,300,300,300,300,300,300,300,300,300,300,300,300,300,300,300,300,300,300,300,300,300,300,300,300,300,300,300,300,300,300,300,300,300,300,300,300,300,300,300,300,300,300,300,300,300,300,300,300,300,300,300,300,300,300,300,300,300,300,300,300,300,300,300,300,300,300,300,300,300,300,300,300,300,300,300,300,300,300,300,300,300,300,300,300,300,300,300,300,300,300,300,300,300,300,300,300,300,300,300,300,300,300,300,300,300,300,300,300,300,300,300,300,300,300,300,300,300,300,300,300,300,300,300,300,300,300,300,300,300,300,300,300,300,300,300,300,300,300,300,300,300,300,300,300,300,300,300,300,300,300,300,300,300,300,300,300,300,300,300,300,300,300,300,300,300,300,300,300,300,300,300,300,300,300,300,300,300,300,300,300,300,300,300,300,300,300,300,300,300,300,300,300,300,300],\"sizemode\":\"area\",\"sizeref\":3.0},\"mode\":\"markers\",\"name\":\"\",\"showlegend\":false,\"subplot\":\"mapbox\",\"type\":\"scattermapbox\"}],                        {\"template\":{\"data\":{\"histogram2dcontour\":[{\"type\":\"histogram2dcontour\",\"colorbar\":{\"outlinewidth\":0,\"ticks\":\"\"},\"colorscale\":[[0.0,\"#0d0887\"],[0.1111111111111111,\"#46039f\"],[0.2222222222222222,\"#7201a8\"],[0.3333333333333333,\"#9c179e\"],[0.4444444444444444,\"#bd3786\"],[0.5555555555555556,\"#d8576b\"],[0.6666666666666666,\"#ed7953\"],[0.7777777777777778,\"#fb9f3a\"],[0.8888888888888888,\"#fdca26\"],[1.0,\"#f0f921\"]]}],\"choropleth\":[{\"type\":\"choropleth\",\"colorbar\":{\"outlinewidth\":0,\"ticks\":\"\"}}],\"histogram2d\":[{\"type\":\"histogram2d\",\"colorbar\":{\"outlinewidth\":0,\"ticks\":\"\"},\"colorscale\":[[0.0,\"#0d0887\"],[0.1111111111111111,\"#46039f\"],[0.2222222222222222,\"#7201a8\"],[0.3333333333333333,\"#9c179e\"],[0.4444444444444444,\"#bd3786\"],[0.5555555555555556,\"#d8576b\"],[0.6666666666666666,\"#ed7953\"],[0.7777777777777778,\"#fb9f3a\"],[0.8888888888888888,\"#fdca26\"],[1.0,\"#f0f921\"]]}],\"heatmap\":[{\"type\":\"heatmap\",\"colorbar\":{\"outlinewidth\":0,\"ticks\":\"\"},\"colorscale\":[[0.0,\"#0d0887\"],[0.1111111111111111,\"#46039f\"],[0.2222222222222222,\"#7201a8\"],[0.3333333333333333,\"#9c179e\"],[0.4444444444444444,\"#bd3786\"],[0.5555555555555556,\"#d8576b\"],[0.6666666666666666,\"#ed7953\"],[0.7777777777777778,\"#fb9f3a\"],[0.8888888888888888,\"#fdca26\"],[1.0,\"#f0f921\"]]}],\"heatmapgl\":[{\"type\":\"heatmapgl\",\"colorbar\":{\"outlinewidth\":0,\"ticks\":\"\"},\"colorscale\":[[0.0,\"#0d0887\"],[0.1111111111111111,\"#46039f\"],[0.2222222222222222,\"#7201a8\"],[0.3333333333333333,\"#9c179e\"],[0.4444444444444444,\"#bd3786\"],[0.5555555555555556,\"#d8576b\"],[0.6666666666666666,\"#ed7953\"],[0.7777777777777778,\"#fb9f3a\"],[0.8888888888888888,\"#fdca26\"],[1.0,\"#f0f921\"]]}],\"contourcarpet\":[{\"type\":\"contourcarpet\",\"colorbar\":{\"outlinewidth\":0,\"ticks\":\"\"}}],\"contour\":[{\"type\":\"contour\",\"colorbar\":{\"outlinewidth\":0,\"ticks\":\"\"},\"colorscale\":[[0.0,\"#0d0887\"],[0.1111111111111111,\"#46039f\"],[0.2222222222222222,\"#7201a8\"],[0.3333333333333333,\"#9c179e\"],[0.4444444444444444,\"#bd3786\"],[0.5555555555555556,\"#d8576b\"],[0.6666666666666666,\"#ed7953\"],[0.7777777777777778,\"#fb9f3a\"],[0.8888888888888888,\"#fdca26\"],[1.0,\"#f0f921\"]]}],\"surface\":[{\"type\":\"surface\",\"colorbar\":{\"outlinewidth\":0,\"ticks\":\"\"},\"colorscale\":[[0.0,\"#0d0887\"],[0.1111111111111111,\"#46039f\"],[0.2222222222222222,\"#7201a8\"],[0.3333333333333333,\"#9c179e\"],[0.4444444444444444,\"#bd3786\"],[0.5555555555555556,\"#d8576b\"],[0.6666666666666666,\"#ed7953\"],[0.7777777777777778,\"#fb9f3a\"],[0.8888888888888888,\"#fdca26\"],[1.0,\"#f0f921\"]]}],\"mesh3d\":[{\"type\":\"mesh3d\",\"colorbar\":{\"outlinewidth\":0,\"ticks\":\"\"}}],\"scatter\":[{\"fillpattern\":{\"fillmode\":\"overlay\",\"size\":10,\"solidity\":0.2},\"type\":\"scatter\"}],\"parcoords\":[{\"type\":\"parcoords\",\"line\":{\"colorbar\":{\"outlinewidth\":0,\"ticks\":\"\"}}}],\"scatterpolargl\":[{\"type\":\"scatterpolargl\",\"marker\":{\"colorbar\":{\"outlinewidth\":0,\"ticks\":\"\"}}}],\"bar\":[{\"error_x\":{\"color\":\"#2a3f5f\"},\"error_y\":{\"color\":\"#2a3f5f\"},\"marker\":{\"line\":{\"color\":\"#E5ECF6\",\"width\":0.5},\"pattern\":{\"fillmode\":\"overlay\",\"size\":10,\"solidity\":0.2}},\"type\":\"bar\"}],\"scattergeo\":[{\"type\":\"scattergeo\",\"marker\":{\"colorbar\":{\"outlinewidth\":0,\"ticks\":\"\"}}}],\"scatterpolar\":[{\"type\":\"scatterpolar\",\"marker\":{\"colorbar\":{\"outlinewidth\":0,\"ticks\":\"\"}}}],\"histogram\":[{\"marker\":{\"pattern\":{\"fillmode\":\"overlay\",\"size\":10,\"solidity\":0.2}},\"type\":\"histogram\"}],\"scattergl\":[{\"type\":\"scattergl\",\"marker\":{\"colorbar\":{\"outlinewidth\":0,\"ticks\":\"\"}}}],\"scatter3d\":[{\"type\":\"scatter3d\",\"line\":{\"colorbar\":{\"outlinewidth\":0,\"ticks\":\"\"}},\"marker\":{\"colorbar\":{\"outlinewidth\":0,\"ticks\":\"\"}}}],\"scattermapbox\":[{\"type\":\"scattermapbox\",\"marker\":{\"colorbar\":{\"outlinewidth\":0,\"ticks\":\"\"}}}],\"scatterternary\":[{\"type\":\"scatterternary\",\"marker\":{\"colorbar\":{\"outlinewidth\":0,\"ticks\":\"\"}}}],\"scattercarpet\":[{\"type\":\"scattercarpet\",\"marker\":{\"colorbar\":{\"outlinewidth\":0,\"ticks\":\"\"}}}],\"carpet\":[{\"aaxis\":{\"endlinecolor\":\"#2a3f5f\",\"gridcolor\":\"white\",\"linecolor\":\"white\",\"minorgridcolor\":\"white\",\"startlinecolor\":\"#2a3f5f\"},\"baxis\":{\"endlinecolor\":\"#2a3f5f\",\"gridcolor\":\"white\",\"linecolor\":\"white\",\"minorgridcolor\":\"white\",\"startlinecolor\":\"#2a3f5f\"},\"type\":\"carpet\"}],\"table\":[{\"cells\":{\"fill\":{\"color\":\"#EBF0F8\"},\"line\":{\"color\":\"white\"}},\"header\":{\"fill\":{\"color\":\"#C8D4E3\"},\"line\":{\"color\":\"white\"}},\"type\":\"table\"}],\"barpolar\":[{\"marker\":{\"line\":{\"color\":\"#E5ECF6\",\"width\":0.5},\"pattern\":{\"fillmode\":\"overlay\",\"size\":10,\"solidity\":0.2}},\"type\":\"barpolar\"}],\"pie\":[{\"automargin\":true,\"type\":\"pie\"}]},\"layout\":{\"autotypenumbers\":\"strict\",\"colorway\":[\"#636efa\",\"#EF553B\",\"#00cc96\",\"#ab63fa\",\"#FFA15A\",\"#19d3f3\",\"#FF6692\",\"#B6E880\",\"#FF97FF\",\"#FECB52\"],\"font\":{\"color\":\"#2a3f5f\"},\"hovermode\":\"closest\",\"hoverlabel\":{\"align\":\"left\"},\"paper_bgcolor\":\"white\",\"plot_bgcolor\":\"#E5ECF6\",\"polar\":{\"bgcolor\":\"#E5ECF6\",\"angularaxis\":{\"gridcolor\":\"white\",\"linecolor\":\"white\",\"ticks\":\"\"},\"radialaxis\":{\"gridcolor\":\"white\",\"linecolor\":\"white\",\"ticks\":\"\"}},\"ternary\":{\"bgcolor\":\"#E5ECF6\",\"aaxis\":{\"gridcolor\":\"white\",\"linecolor\":\"white\",\"ticks\":\"\"},\"baxis\":{\"gridcolor\":\"white\",\"linecolor\":\"white\",\"ticks\":\"\"},\"caxis\":{\"gridcolor\":\"white\",\"linecolor\":\"white\",\"ticks\":\"\"}},\"coloraxis\":{\"colorbar\":{\"outlinewidth\":0,\"ticks\":\"\"}},\"colorscale\":{\"sequential\":[[0.0,\"#0d0887\"],[0.1111111111111111,\"#46039f\"],[0.2222222222222222,\"#7201a8\"],[0.3333333333333333,\"#9c179e\"],[0.4444444444444444,\"#bd3786\"],[0.5555555555555556,\"#d8576b\"],[0.6666666666666666,\"#ed7953\"],[0.7777777777777778,\"#fb9f3a\"],[0.8888888888888888,\"#fdca26\"],[1.0,\"#f0f921\"]],\"sequentialminus\":[[0.0,\"#0d0887\"],[0.1111111111111111,\"#46039f\"],[0.2222222222222222,\"#7201a8\"],[0.3333333333333333,\"#9c179e\"],[0.4444444444444444,\"#bd3786\"],[0.5555555555555556,\"#d8576b\"],[0.6666666666666666,\"#ed7953\"],[0.7777777777777778,\"#fb9f3a\"],[0.8888888888888888,\"#fdca26\"],[1.0,\"#f0f921\"]],\"diverging\":[[0,\"#8e0152\"],[0.1,\"#c51b7d\"],[0.2,\"#de77ae\"],[0.3,\"#f1b6da\"],[0.4,\"#fde0ef\"],[0.5,\"#f7f7f7\"],[0.6,\"#e6f5d0\"],[0.7,\"#b8e186\"],[0.8,\"#7fbc41\"],[0.9,\"#4d9221\"],[1,\"#276419\"]]},\"xaxis\":{\"gridcolor\":\"white\",\"linecolor\":\"white\",\"ticks\":\"\",\"title\":{\"standoff\":15},\"zerolinecolor\":\"white\",\"automargin\":true,\"zerolinewidth\":2},\"yaxis\":{\"gridcolor\":\"white\",\"linecolor\":\"white\",\"ticks\":\"\",\"title\":{\"standoff\":15},\"zerolinecolor\":\"white\",\"automargin\":true,\"zerolinewidth\":2},\"scene\":{\"xaxis\":{\"backgroundcolor\":\"#E5ECF6\",\"gridcolor\":\"white\",\"linecolor\":\"white\",\"showbackground\":true,\"ticks\":\"\",\"zerolinecolor\":\"white\",\"gridwidth\":2},\"yaxis\":{\"backgroundcolor\":\"#E5ECF6\",\"gridcolor\":\"white\",\"linecolor\":\"white\",\"showbackground\":true,\"ticks\":\"\",\"zerolinecolor\":\"white\",\"gridwidth\":2},\"zaxis\":{\"backgroundcolor\":\"#E5ECF6\",\"gridcolor\":\"white\",\"linecolor\":\"white\",\"showbackground\":true,\"ticks\":\"\",\"zerolinecolor\":\"white\",\"gridwidth\":2}},\"shapedefaults\":{\"line\":{\"color\":\"#2a3f5f\"}},\"annotationdefaults\":{\"arrowcolor\":\"#2a3f5f\",\"arrowhead\":0,\"arrowwidth\":1},\"geo\":{\"bgcolor\":\"white\",\"landcolor\":\"#E5ECF6\",\"subunitcolor\":\"white\",\"showland\":true,\"showlakes\":true,\"lakecolor\":\"white\"},\"title\":{\"x\":0.05},\"mapbox\":{\"style\":\"light\"}}},\"mapbox\":{\"domain\":{\"x\":[0.0,1.0],\"y\":[0.0,1.0]},\"center\":{\"lat\":35.38025578308108,\"lon\":-14.04247707154261},\"zoom\":2,\"style\":\"open-street-map\"},\"legend\":{\"tracegroupgap\":0,\"itemsizing\":\"constant\"},\"margin\":{\"t\":0,\"r\":0,\"l\":0,\"b\":0},\"height\":400},                        {\"responsive\": true}                    ).then(function(){\n",
       "                            \n",
       "var gd = document.getElementById('4f44c993-2628-49c0-a08d-a2f2644d5edb');\n",
       "var x = new MutationObserver(function (mutations, observer) {{\n",
       "        var display = window.getComputedStyle(gd).display;\n",
       "        if (!display || display === 'none') {{\n",
       "            console.log([gd, 'removed!']);\n",
       "            Plotly.purge(gd);\n",
       "            observer.disconnect();\n",
       "        }}\n",
       "}});\n",
       "\n",
       "// Listen for the removal of the full notebook cells\n",
       "var notebookContainer = gd.closest('#notebook-container');\n",
       "if (notebookContainer) {{\n",
       "    x.observe(notebookContainer, {childList: true});\n",
       "}}\n",
       "\n",
       "// Listen for the clearing of the current output cell\n",
       "var outputEl = gd.closest('.output');\n",
       "if (outputEl) {{\n",
       "    x.observe(outputEl, {childList: true});\n",
       "}}\n",
       "\n",
       "                        })                };                });            </script>        </div>"
      ]
     },
     "metadata": {},
     "output_type": "display_data"
    }
   ],
   "source": [
    "fig = px.scatter_mapbox(df, lat=\"jittered_latitude\", lon=\"jittered_longitude\", hover_name=\"cleaned_agent\", \n",
    "                        hover_data={\"cleaned_location\": True, \"cleaned_agent\": True, \"year\": True,\n",
    "                                     \"jittered_latitude\": False, \"jittered_longitude\": False, \"size\": False},\n",
    "                        labels={'cleaned_agent': 'Agent', 'cleaned_location': 'Location',\n",
    "                                'year': 'Year',\n",
    "                               },\n",
    "                        color_discrete_sequence=[\"#C4C967\"], zoom=2, height=400, \n",
    "                        opacity=1, size='size', size_max=10)\n",
    "fig.update_layout(mapbox_style=\"open-street-map\")\n",
    "fig.update_layout(margin={\"r\":0,\"t\":0,\"l\":0,\"b\":0})\n",
    "fig.show()"
   ]
  },
  {
   "cell_type": "code",
   "execution_count": 34,
   "id": "e10f4b41",
   "metadata": {},
   "outputs": [],
   "source": [
    "df[['year', 'cleaned_agent', 'cleaned_location', 'jittered_latitude', 'jittered_longitude']].to_excel('for_map.xlsx', index=False)"
   ]
  }
 ],
 "metadata": {
  "kernelspec": {
   "display_name": "Python 3 (ipykernel)",
   "language": "python",
   "name": "python3"
  },
  "language_info": {
   "codemirror_mode": {
    "name": "ipython",
    "version": 3
   },
   "file_extension": ".py",
   "mimetype": "text/x-python",
   "name": "python",
   "nbconvert_exporter": "python",
   "pygments_lexer": "ipython3",
   "version": "3.10.7"
  }
 },
 "nbformat": 4,
 "nbformat_minor": 5
}
